{
 "cells": [
  {
   "cell_type": "code",
   "source": [
    "import pandas as pd\n",
    "from my_connector import MySQLConnector"
   ],
   "metadata": {
    "collapsed": false,
    "ExecuteTime": {
     "end_time": "2024-02-12T17:27:03.153479801Z",
     "start_time": "2024-02-12T17:27:03.152432083Z"
    }
   },
   "execution_count": 67,
   "outputs": []
  },
  {
   "cell_type": "code",
   "source": [
    "connector = MySQLConnector(host='localhost', user='root', password='root', database='TNT')\n",
    "connector.connect()"
   ],
   "metadata": {
    "collapsed": false,
    "ExecuteTime": {
     "end_time": "2024-02-12T17:27:23.932596794Z",
     "start_time": "2024-02-12T17:27:23.887464914Z"
    }
   },
   "execution_count": 69,
   "outputs": []
  },
  {
   "cell_type": "code",
   "execution_count": 31,
   "metadata": {
    "ExecuteTime": {
     "end_time": "2024-02-12T17:12:14.731060182Z",
     "start_time": "2024-02-12T17:12:14.618056017Z"
    }
   },
   "source": [
    "# Define the path to the CSV file\n",
    "csv_file = 'Datasets/RadaresFijos.csv'\n",
    "\n",
    "# Define the table name in the database\n",
    "table_name = 'RadaresFijos'\n",
    "\n",
    "# Read the CSV file into a pandas DataFrame\n",
    "df_radar = pd.read_csv(csv_file)\n",
    "initial_query = f\"\"\"\n",
    "    CREATE TABLE RadaresFijos (\n",
    "        id INT AUTO_INCREMENT PRIMARY KEY,\n",
    "        NUM_RADAR INT,\n",
    "        UBICACION VARCHAR(255),\n",
    "        CARRETARA_O_VIAL VARCHAR(255),\n",
    "        UBICACION_CALLE_30 VARCHAR(255),\n",
    "        PK VARCHAR(255),\n",
    "        SENTIDO VARCHAR(255),\n",
    "        TIPO VARCHAR(255),\n",
    "        LONGITUD FLOAT,\n",
    "        LATITUD FLOAT,\n",
    "        COORDENADAS VARCHAR(255)\n",
    "    )\n",
    "\"\"\"\n",
    "connector.execute_query(initial_query)\n",
    "\n",
    "i = 1\n",
    "for row in df_radar.iterrows():\n",
    "    distrito_query = f\"\"\"\n",
    "        INSERT INTO RadaresFijos (id, NUM_RADAR, UBICACION, CARRETARA_O_VIAL, UBICACION_CALLE_30, PK, SENTIDO, TIPO, LONGITUD, LATITUD, COORDENADAS) VALUES ('{i}', '{row[1][0]}', '{row[1][1]}', '{row[1][2]}', '{row[1][3]}', '{row[1][4]}', '{row[1][5]}', '{row[1][6]}', '{row[1][7]}', '{row[1][8]}', '{row[1][9]}')\n",
    "        \"\"\"\n",
    "    i = i + 1\n",
    "    connector.execute_query(distrito_query)"
   ],
   "outputs": []
  },
  {
   "cell_type": "code",
   "source": [
    "df_luminarias = pd.read_csv('Datasets/iluminacion.csv', low_memory=False)"
   ],
   "metadata": {
    "collapsed": false,
    "ExecuteTime": {
     "end_time": "2024-02-12T17:17:25.747986053Z",
     "start_time": "2024-02-12T17:17:25.405966542Z"
    }
   },
   "execution_count": 50,
   "outputs": []
  },
  {
   "cell_type": "code",
   "source": [
    "df_luminarias = df_luminarias.drop(['BARRIO', 'TIPO_BLOQU', 'COD_NDP', 'X_UTM', 'Y_UTM'], axis=1)"
   ],
   "metadata": {
    "collapsed": false,
    "ExecuteTime": {
     "end_time": "2024-02-12T17:17:27.306029633Z",
     "start_time": "2024-02-12T17:17:27.105268870Z"
    }
   },
   "execution_count": 51,
   "outputs": []
  },
  {
   "cell_type": "code",
   "source": [
    "df_luminarias['VIA_PAR'] = df_luminarias['VIA_PAR'].fillna('')"
   ],
   "metadata": {
    "collapsed": false,
    "ExecuteTime": {
     "end_time": "2024-02-12T17:17:29.035445889Z",
     "start_time": "2024-02-12T17:17:28.848819897Z"
    }
   },
   "execution_count": 52,
   "outputs": []
  },
  {
   "cell_type": "code",
   "source": [
    "df_luminarias['localizacion'] = df_luminarias['VIA_CLASE'] + \" \" + df_luminarias['VIA_PAR'] + \" \" + df_luminarias['VIA_NOMBRE'].astype(str)"
   ],
   "metadata": {
    "collapsed": false,
    "ExecuteTime": {
     "end_time": "2024-02-12T17:17:30.605254186Z",
     "start_time": "2024-02-12T17:17:30.443548087Z"
    }
   },
   "execution_count": 53,
   "outputs": []
  },
  {
   "cell_type": "code",
   "source": [
    "df_luminarias = df_luminarias.drop(['VIA_CLASE', 'VIA_PAR', 'VIA_CLASE', 'VIA_NOMBRE', 'CLASE_APP', 'NUMERO'], axis=1)"
   ],
   "metadata": {
    "collapsed": false,
    "ExecuteTime": {
     "end_time": "2024-02-12T17:17:32.301450403Z",
     "start_time": "2024-02-12T17:17:32.219920280Z"
    }
   },
   "execution_count": 54,
   "outputs": []
  },
  {
   "cell_type": "code",
   "source": [
    "regex = 'NUMERO'\n",
    "regex2 = 'KILÓMETRO'\n",
    "df_luminarias['localizacion'] = df_luminarias['localizacion'].str.replace(regex, 'Nº')\n",
    "df_luminarias['localizacion'] = df_luminarias['localizacion'].str.replace(regex2, 'KM')"
   ],
   "metadata": {
    "collapsed": false,
    "ExecuteTime": {
     "end_time": "2024-02-12T17:17:48.594903954Z",
     "start_time": "2024-02-12T17:17:48.491398448Z"
    }
   },
   "execution_count": 55,
   "outputs": []
  },
  {
   "cell_type": "code",
   "source": [
    "df_luminarias['num_luminarias'] = 0"
   ],
   "metadata": {
    "collapsed": false,
    "ExecuteTime": {
     "end_time": "2024-02-12T17:17:50.471810865Z",
     "start_time": "2024-02-12T17:17:50.329961373Z"
    }
   },
   "execution_count": 56,
   "outputs": []
  },
  {
   "cell_type": "code",
   "source": [
    "df_luminarias = df_luminarias.groupby(['localizacion', 'DISTRITO', 'TIPO']).count().reset_index()"
   ],
   "metadata": {
    "collapsed": false,
    "ExecuteTime": {
     "end_time": "2024-02-12T17:17:52.368815811Z",
     "start_time": "2024-02-12T17:17:52.186736962Z"
    }
   },
   "execution_count": 57,
   "outputs": []
  },
  {
   "cell_type": "code",
   "source": [
    "df_luminarias['TIPO']=df_luminarias['TIPO'].replace({'DESCARGA': 'D', 'LED': 'L', 'LED-DESCARGA': 'E'})"
   ],
   "metadata": {
    "collapsed": false,
    "ExecuteTime": {
     "end_time": "2024-02-12T17:23:05.038227842Z",
     "start_time": "2024-02-12T17:23:04.939634696Z"
    }
   },
   "execution_count": 62,
   "outputs": []
  },
  {
   "cell_type": "code",
   "execution_count": 72,
   "metadata": {
    "ExecuteTime": {
     "end_time": "2024-02-12T17:34:49.224950116Z",
     "start_time": "2024-02-12T17:34:49.182164425Z"
    }
   },
   "source": [
    "df_luminarias.head()"
   ],
   "outputs": []
  },
  {
   "cell_type": "code",
   "source": [
    "import uuid\n",
    "for index, row in df_luminarias.iterrows():\n",
    "    sql = f\"\"\"insert into Luminarias (uuid, localizacion, cod_distrito, tipo, num_luminarias)\n",
    "            values ('{uuid.uuid4()}', '{row['localizacion']}', {row['DISTRITO']},'{row['TIPO']}', {row['num_luminarias']});\"\"\"\n",
    "    connector.execute_query(sql)"
   ],
   "metadata": {
    "collapsed": false,
    "ExecuteTime": {
     "end_time": "2024-02-12T17:31:28.488495440Z",
     "start_time": "2024-02-12T17:27:27.847075688Z"
    }
   },
   "execution_count": 70,
   "outputs": []
  },
  {
   "cell_type": "code",
   "source": [
    "connector.close()"
   ],
   "metadata": {
    "collapsed": false,
    "ExecuteTime": {
     "end_time": "2024-02-12T17:43:29.519720309Z",
     "start_time": "2024-02-12T17:43:29.473746041Z"
    }
   },
   "execution_count": 73,
   "outputs": []
  }
 ],
 "metadata": {
  "kernelspec": {
   "display_name": "Python 3",
   "language": "python",
   "name": "python3"
  },
  "language_info": {
   "codemirror_mode": {
    "name": "ipython",
    "version": 3
   },
   "file_extension": ".py",
   "mimetype": "text/x-python",
   "name": "python",
   "nbconvert_exporter": "python",
   "pygments_lexer": "ipython3",
   "version": "3.11.5"
  }
 },
 "nbformat": 4,
 "nbformat_minor": 0
}
