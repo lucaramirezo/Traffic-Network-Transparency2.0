{
 "cells": [
  {
   "cell_type": "code",
   "execution_count": 11,
   "id": "initial_id",
   "metadata": {
    "collapsed": true,
    "ExecuteTime": {
     "end_time": "2024-02-26T16:12:38.874997Z",
     "start_time": "2024-02-26T16:12:38.873067Z"
    }
   },
   "outputs": [],
   "source": [
    "from tikapp import TikaApp\n",
    "import json"
   ]
  },
  {
   "cell_type": "code",
   "outputs": [],
   "source": [
    "tika = TikaApp(file_jar=\"/home/duo/DataspellProjects/Traffic-Network-Transparency2.0/tika-app-1.20.jar\")"
   ],
   "metadata": {
    "collapsed": false,
    "ExecuteTime": {
     "end_time": "2024-02-26T16:09:59.878435Z",
     "start_time": "2024-02-26T16:09:59.874831Z"
    }
   },
   "id": "69773acc3bfc5c74",
   "execution_count": 5
  },
  {
   "cell_type": "code",
   "outputs": [
    {
     "data": {
      "text/plain": "'text/x-python'"
     },
     "execution_count": 8,
     "metadata": {},
     "output_type": "execute_result"
    }
   ],
   "source": [
    "file_path = \"/home/duo/DataspellProjects/Traffic-Network-Transparency2.0/my_connector.py\"\n",
    "tika.detect_content_type(file_path)"
   ],
   "metadata": {
    "collapsed": false,
    "ExecuteTime": {
     "end_time": "2024-02-26T16:11:35.049752Z",
     "start_time": "2024-02-26T16:11:34.461827Z"
    }
   },
   "id": "6450f4d8c2ea9ef4",
   "execution_count": 8
  },
  {
   "cell_type": "code",
   "outputs": [
    {
     "data": {
      "text/plain": "'en'"
     },
     "execution_count": 9,
     "metadata": {},
     "output_type": "execute_result"
    }
   ],
   "source": [
    "tika.detect_language(file_path)"
   ],
   "metadata": {
    "collapsed": false,
    "ExecuteTime": {
     "end_time": "2024-02-26T16:11:37.489560Z",
     "start_time": "2024-02-26T16:11:36.382837Z"
    }
   },
   "id": "dfb4f7f5f5843e1f",
   "execution_count": 9
  },
  {
   "cell_type": "code",
   "outputs": [
    {
     "data": {
      "text/plain": "'{\"Content-Encoding\":\"ISO-8859-1\",\"Content-Length\":\"1690\",\"Content-Type\":\"text/x-python; charset\\\\u003dISO-8859-1\",\"X-Parsed-By\":[\"org.apache.tika.parser.DefaultParser\",\"org.apache.tika.parser.txt.TXTParser\"],\"resourceName\":\"my_connector.py\"}'"
     },
     "execution_count": 15,
     "metadata": {},
     "output_type": "execute_result"
    }
   ],
   "source": [
    "tika.extract_only_metadata(file_path)"
   ],
   "metadata": {
    "collapsed": false,
    "ExecuteTime": {
     "end_time": "2024-02-26T16:13:16.206353Z",
     "start_time": "2024-02-26T16:13:15.200009Z"
    }
   },
   "id": "acf6be7264157133",
   "execution_count": 15
  },
  {
   "cell_type": "code",
   "outputs": [
    {
     "name": "stdout",
     "output_type": "stream",
     "text": [
      "[{\"Content-Encoding\":\"ISO-8859-1\",\"Content-Length\":\"1690\",\"Content-Type\":\"text/x-python; charset\\u003dISO-8859-1\",\"X-Parsed-By\":[\"org.apache.tika.parser.DefaultParser\",\"org.apache.tika.parser.txt.TXTParser\"],\"X-TIKA:content\":\"\\n\\n\\n\\n\\n\\n\\n\\n\\n\\nimport mysql.connector\\nimport pandas as pd\\n\\nclass MySQLConnector:\\n    def __init__(self, host, user, password, database\\u003dNone):\\n        self.host \\u003d host\\n        self.user \\u003d user\\n        self.password \\u003d password\\n        self.database \\u003d database\\n        self.connection \\u003d None\\n        self.cursor \\u003d None\\n\\n    def connect(self):\\n        try:\\n            self.connection \\u003d mysql.connector.connect(\\n                host\\u003dself.host,\\n                user\\u003dself.user,\\n                password\\u003dself.password,\\n                database\\u003dself.database\\n            )\\n            self.cursor \\u003d self.connection.cursor()\\n            print(\\\"Connected to MySQL database.\\\")\\n        except mysql.connector.Error as err:\\n            print(\\\"Error: \\\", err)\\n\\n    def execute_query(self, query):\\n        try:\\n            self.cursor.execute(query)\\n            self.connection.commit()\\n            print(\\\"Query executed successfully.\\\")\\n        except mysql.connector.Error as err:\\n            print(\\\"Error: \\\", err)\\n\\n    def fetch_data(self, query):\\n        self.cursor.execute(query)\\n        return self.cursor.fetchall()\\n\\n    def fetch_data_as_df(self, query):\\n        # Ejecutar la consulta\\n        self.cursor.execute(query)\\n        result \\u003d self.cursor.fetchall()\\n\\n        # Obtener los nombres de las columnas de los resultados\\n        column_names \\u003d [desc[0] for desc in self.cursor.description]\\n\\n        # Convertir los resultados en un DataFrame de Pandas\\n        df \\u003d pd.DataFrame(result, columns\\u003dcolumn_names)\\n        return df\\n\\n    def close(self):\\n        if self.cursor:\\n            self.cursor.close()\\n        if self.connection:\\n            self.connection.close()\\n            print(\\\"Connection closed.\\\")\\n\\n\",\"X-TIKA:content_handler\":\"ToTextContentHandler\",\"X-TIKA:parse_time_millis\":\"62\",\"resourceName\":\"my_connector.py\"}]\n"
     ]
    }
   ],
   "source": [
    "tika.extract_all_content(file_path)"
   ],
   "metadata": {
    "collapsed": false,
    "ExecuteTime": {
     "end_time": "2024-02-26T16:14:39.761082Z",
     "start_time": "2024-02-26T16:14:39.146533Z"
    }
   },
   "id": "35cc6a4feb78b976",
   "execution_count": 17
  }
 ],
 "metadata": {
  "kernelspec": {
   "display_name": "Python 3",
   "language": "python",
   "name": "python3"
  },
  "language_info": {
   "codemirror_mode": {
    "name": "ipython",
    "version": 2
   },
   "file_extension": ".py",
   "mimetype": "text/x-python",
   "name": "python",
   "nbconvert_exporter": "python",
   "pygments_lexer": "ipython2",
   "version": "2.7.6"
  }
 },
 "nbformat": 4,
 "nbformat_minor": 5
}
