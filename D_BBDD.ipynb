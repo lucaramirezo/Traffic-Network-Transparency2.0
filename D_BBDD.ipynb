{
 "cells": [
  {
   "cell_type": "code",
   "outputs": [],
   "source": [
    "import pandas as pd\n",
    "import seaborn as sns\n",
    "import matplotlib.pyplot as plt"
   ],
   "metadata": {
    "collapsed": false,
    "ExecuteTime": {
     "end_time": "2024-01-29T17:17:55.359603Z",
     "start_time": "2024-01-29T17:17:55.348699Z"
    }
   },
   "execution_count": 1
  },
  {
   "cell_type": "code",
   "outputs": [],
   "source": [
    "df = pd.read_csv(\"Datasets/Data_Combinada.csv\", low_memory=False)"
   ],
   "metadata": {
    "collapsed": false,
    "ExecuteTime": {
     "end_time": "2024-01-29T17:17:55.536149Z",
     "start_time": "2024-01-29T17:17:55.362165Z"
    }
   },
   "execution_count": 2
  },
  {
   "cell_type": "code",
   "outputs": [
    {
     "data": {
      "text/plain": "  num_expediente       fecha     hora  \\\n0    2022S000001  01/01/2022  1:30:00   \n1    2022S000001  01/01/2022  1:30:00   \n2    2022S000002  01/01/2022  0:30:00   \n3    2022S000002  01/01/2022  0:30:00   \n4    2022S000002  01/01/2022  0:30:00   \n5    2022S000003  01/01/2022  1:50:00   \n6    2022S000003  01/01/2022  1:50:00   \n7    2022S000004  01/01/2022  3:40:00   \n8    2022S000004  01/01/2022  3:40:00   \n9    2022S000005  01/01/2022  4:30:00   \n\n                                 localizacion   numero  cod_distrito  \\\n0                          AVDA. ALBUFERA, 19       19          13.0   \n1                          AVDA. ALBUFERA, 19       19          13.0   \n2  PLAZA. CANOVAS DEL CASTILLO / PASEO. PRADO        2           3.0   \n3  PLAZA. CANOVAS DEL CASTILLO / PASEO. PRADO        2           3.0   \n4  PLAZA. CANOVAS DEL CASTILLO / PASEO. PRADO        2           3.0   \n5                      CALL. SAN BERNARDO, 53       53           1.0   \n6                      CALL. SAN BERNARDO, 53       53           1.0   \n7            CALL. ALCALA / PLAZA. EISENHOWER      728          20.0   \n8            CALL. ALCALA / PLAZA. EISENHOWER      728          20.0   \n9                        AUTOV. A-42, +00500E  +00500E          12.0   \n\n              distrito                tipo_accidente estado_meteorológico  \\\n0   PUENTE DE VALLECAS                       Alcance            Despejado   \n1   PUENTE DE VALLECAS                       Alcance            Despejado   \n2               RETIRO       Colisión fronto-lateral                  NaN   \n3               RETIRO       Colisión fronto-lateral                  NaN   \n4               RETIRO       Colisión fronto-lateral                  NaN   \n5               CENTRO           Atropello a persona            Despejado   \n6               CENTRO           Atropello a persona            Despejado   \n7  SAN BLAS-CANILLEJAS  Choque contra obstáculo fijo            Despejado   \n8  SAN BLAS-CANILLEJAS  Choque contra obstáculo fijo            Despejado   \n9                USERA  Choque contra obstáculo fijo            Despejado   \n\n             tipo_vehiculo  ...       rango_edad sexo cod_lesividad  \\\n0                  Turismo  ...  De 30 a 34 años    M           NaN   \n1                  Turismo  ...  De 45 a 49 años    H           NaN   \n2  Motocicleta hasta 125cc  ...  De 30 a 34 años    H           NaN   \n3  Motocicleta hasta 125cc  ...  De 35 a 39 años    M           NaN   \n4                  Turismo  ...  De 40 a 44 años    H           NaN   \n5      Motocicleta > 125cc  ...      Desconocido    H           NaN   \n6      Motocicleta > 125cc  ...  De 18 a 20 años    M           7.0   \n7                  Turismo  ...  De 50 a 54 años    H           2.0   \n8                  Turismo  ...  De 55 a 59 años    M           3.0   \n9                  Turismo  ...  De 45 a 49 años    H           NaN   \n\n                                           lesividad coordenada_x_utm  \\\n0                                                NaN       443359,226   \n1                                                NaN       443359,226   \n2                                                NaN       441155,351   \n3                                                NaN       441155,351   \n4                                                NaN       441155,351   \n5                                                NaN       439995,351   \n6  Asistencia sanitaria sólo en el lugar del acci...       439995,351   \n7                Ingreso inferior o igual a 24 horas       449693,925   \n8                        Ingreso superior a 24 horas       449693,925   \n9                                                NaN       438952,303   \n\n  coordenada_y_utm positiva_alcohol  positiva_droga  numero_pasajeros  fugado  \n0      4472082,272              0.0             0.0                 2      No  \n1      4472082,272              0.0             0.0                 2      No  \n2      4474129,588              1.0             0.0                 3      No  \n3      4474129,588              0.0             0.0                 3      No  \n4      4474129,588              0.0             0.0                 3      No  \n5      4475212,523              0.0             0.0                 2      No  \n6      4475212,523              0.0             0.0                 2      No  \n7      4477837,552              0.0             0.0                 2      No  \n8      4477837,552              0.0             0.0                 2      No  \n9      4469985,021              1.0             0.0                 2      No  \n\n[10 rows x 21 columns]",
      "text/html": "<div>\n<style scoped>\n    .dataframe tbody tr th:only-of-type {\n        vertical-align: middle;\n    }\n\n    .dataframe tbody tr th {\n        vertical-align: top;\n    }\n\n    .dataframe thead th {\n        text-align: right;\n    }\n</style>\n<table border=\"1\" class=\"dataframe\">\n  <thead>\n    <tr style=\"text-align: right;\">\n      <th></th>\n      <th>num_expediente</th>\n      <th>fecha</th>\n      <th>hora</th>\n      <th>localizacion</th>\n      <th>numero</th>\n      <th>cod_distrito</th>\n      <th>distrito</th>\n      <th>tipo_accidente</th>\n      <th>estado_meteorológico</th>\n      <th>tipo_vehiculo</th>\n      <th>...</th>\n      <th>rango_edad</th>\n      <th>sexo</th>\n      <th>cod_lesividad</th>\n      <th>lesividad</th>\n      <th>coordenada_x_utm</th>\n      <th>coordenada_y_utm</th>\n      <th>positiva_alcohol</th>\n      <th>positiva_droga</th>\n      <th>numero_pasajeros</th>\n      <th>fugado</th>\n    </tr>\n  </thead>\n  <tbody>\n    <tr>\n      <th>0</th>\n      <td>2022S000001</td>\n      <td>01/01/2022</td>\n      <td>1:30:00</td>\n      <td>AVDA. ALBUFERA, 19</td>\n      <td>19</td>\n      <td>13.0</td>\n      <td>PUENTE DE VALLECAS</td>\n      <td>Alcance</td>\n      <td>Despejado</td>\n      <td>Turismo</td>\n      <td>...</td>\n      <td>De 30 a 34 años</td>\n      <td>M</td>\n      <td>NaN</td>\n      <td>NaN</td>\n      <td>443359,226</td>\n      <td>4472082,272</td>\n      <td>0.0</td>\n      <td>0.0</td>\n      <td>2</td>\n      <td>No</td>\n    </tr>\n    <tr>\n      <th>1</th>\n      <td>2022S000001</td>\n      <td>01/01/2022</td>\n      <td>1:30:00</td>\n      <td>AVDA. ALBUFERA, 19</td>\n      <td>19</td>\n      <td>13.0</td>\n      <td>PUENTE DE VALLECAS</td>\n      <td>Alcance</td>\n      <td>Despejado</td>\n      <td>Turismo</td>\n      <td>...</td>\n      <td>De 45 a 49 años</td>\n      <td>H</td>\n      <td>NaN</td>\n      <td>NaN</td>\n      <td>443359,226</td>\n      <td>4472082,272</td>\n      <td>0.0</td>\n      <td>0.0</td>\n      <td>2</td>\n      <td>No</td>\n    </tr>\n    <tr>\n      <th>2</th>\n      <td>2022S000002</td>\n      <td>01/01/2022</td>\n      <td>0:30:00</td>\n      <td>PLAZA. CANOVAS DEL CASTILLO / PASEO. PRADO</td>\n      <td>2</td>\n      <td>3.0</td>\n      <td>RETIRO</td>\n      <td>Colisión fronto-lateral</td>\n      <td>NaN</td>\n      <td>Motocicleta hasta 125cc</td>\n      <td>...</td>\n      <td>De 30 a 34 años</td>\n      <td>H</td>\n      <td>NaN</td>\n      <td>NaN</td>\n      <td>441155,351</td>\n      <td>4474129,588</td>\n      <td>1.0</td>\n      <td>0.0</td>\n      <td>3</td>\n      <td>No</td>\n    </tr>\n    <tr>\n      <th>3</th>\n      <td>2022S000002</td>\n      <td>01/01/2022</td>\n      <td>0:30:00</td>\n      <td>PLAZA. CANOVAS DEL CASTILLO / PASEO. PRADO</td>\n      <td>2</td>\n      <td>3.0</td>\n      <td>RETIRO</td>\n      <td>Colisión fronto-lateral</td>\n      <td>NaN</td>\n      <td>Motocicleta hasta 125cc</td>\n      <td>...</td>\n      <td>De 35 a 39 años</td>\n      <td>M</td>\n      <td>NaN</td>\n      <td>NaN</td>\n      <td>441155,351</td>\n      <td>4474129,588</td>\n      <td>0.0</td>\n      <td>0.0</td>\n      <td>3</td>\n      <td>No</td>\n    </tr>\n    <tr>\n      <th>4</th>\n      <td>2022S000002</td>\n      <td>01/01/2022</td>\n      <td>0:30:00</td>\n      <td>PLAZA. CANOVAS DEL CASTILLO / PASEO. PRADO</td>\n      <td>2</td>\n      <td>3.0</td>\n      <td>RETIRO</td>\n      <td>Colisión fronto-lateral</td>\n      <td>NaN</td>\n      <td>Turismo</td>\n      <td>...</td>\n      <td>De 40 a 44 años</td>\n      <td>H</td>\n      <td>NaN</td>\n      <td>NaN</td>\n      <td>441155,351</td>\n      <td>4474129,588</td>\n      <td>0.0</td>\n      <td>0.0</td>\n      <td>3</td>\n      <td>No</td>\n    </tr>\n    <tr>\n      <th>5</th>\n      <td>2022S000003</td>\n      <td>01/01/2022</td>\n      <td>1:50:00</td>\n      <td>CALL. SAN BERNARDO, 53</td>\n      <td>53</td>\n      <td>1.0</td>\n      <td>CENTRO</td>\n      <td>Atropello a persona</td>\n      <td>Despejado</td>\n      <td>Motocicleta &gt; 125cc</td>\n      <td>...</td>\n      <td>Desconocido</td>\n      <td>H</td>\n      <td>NaN</td>\n      <td>NaN</td>\n      <td>439995,351</td>\n      <td>4475212,523</td>\n      <td>0.0</td>\n      <td>0.0</td>\n      <td>2</td>\n      <td>No</td>\n    </tr>\n    <tr>\n      <th>6</th>\n      <td>2022S000003</td>\n      <td>01/01/2022</td>\n      <td>1:50:00</td>\n      <td>CALL. SAN BERNARDO, 53</td>\n      <td>53</td>\n      <td>1.0</td>\n      <td>CENTRO</td>\n      <td>Atropello a persona</td>\n      <td>Despejado</td>\n      <td>Motocicleta &gt; 125cc</td>\n      <td>...</td>\n      <td>De 18 a 20 años</td>\n      <td>M</td>\n      <td>7.0</td>\n      <td>Asistencia sanitaria sólo en el lugar del acci...</td>\n      <td>439995,351</td>\n      <td>4475212,523</td>\n      <td>0.0</td>\n      <td>0.0</td>\n      <td>2</td>\n      <td>No</td>\n    </tr>\n    <tr>\n      <th>7</th>\n      <td>2022S000004</td>\n      <td>01/01/2022</td>\n      <td>3:40:00</td>\n      <td>CALL. ALCALA / PLAZA. EISENHOWER</td>\n      <td>728</td>\n      <td>20.0</td>\n      <td>SAN BLAS-CANILLEJAS</td>\n      <td>Choque contra obstáculo fijo</td>\n      <td>Despejado</td>\n      <td>Turismo</td>\n      <td>...</td>\n      <td>De 50 a 54 años</td>\n      <td>H</td>\n      <td>2.0</td>\n      <td>Ingreso inferior o igual a 24 horas</td>\n      <td>449693,925</td>\n      <td>4477837,552</td>\n      <td>0.0</td>\n      <td>0.0</td>\n      <td>2</td>\n      <td>No</td>\n    </tr>\n    <tr>\n      <th>8</th>\n      <td>2022S000004</td>\n      <td>01/01/2022</td>\n      <td>3:40:00</td>\n      <td>CALL. ALCALA / PLAZA. EISENHOWER</td>\n      <td>728</td>\n      <td>20.0</td>\n      <td>SAN BLAS-CANILLEJAS</td>\n      <td>Choque contra obstáculo fijo</td>\n      <td>Despejado</td>\n      <td>Turismo</td>\n      <td>...</td>\n      <td>De 55 a 59 años</td>\n      <td>M</td>\n      <td>3.0</td>\n      <td>Ingreso superior a 24 horas</td>\n      <td>449693,925</td>\n      <td>4477837,552</td>\n      <td>0.0</td>\n      <td>0.0</td>\n      <td>2</td>\n      <td>No</td>\n    </tr>\n    <tr>\n      <th>9</th>\n      <td>2022S000005</td>\n      <td>01/01/2022</td>\n      <td>4:30:00</td>\n      <td>AUTOV. A-42, +00500E</td>\n      <td>+00500E</td>\n      <td>12.0</td>\n      <td>USERA</td>\n      <td>Choque contra obstáculo fijo</td>\n      <td>Despejado</td>\n      <td>Turismo</td>\n      <td>...</td>\n      <td>De 45 a 49 años</td>\n      <td>H</td>\n      <td>NaN</td>\n      <td>NaN</td>\n      <td>438952,303</td>\n      <td>4469985,021</td>\n      <td>1.0</td>\n      <td>0.0</td>\n      <td>2</td>\n      <td>No</td>\n    </tr>\n  </tbody>\n</table>\n<p>10 rows × 21 columns</p>\n</div>"
     },
     "execution_count": 3,
     "metadata": {},
     "output_type": "execute_result"
    }
   ],
   "source": [
    "df.head(10)"
   ],
   "metadata": {
    "collapsed": false,
    "ExecuteTime": {
     "end_time": "2024-01-29T17:17:55.546183Z",
     "start_time": "2024-01-29T17:17:55.536819Z"
    }
   },
   "execution_count": 3
  },
  {
   "cell_type": "markdown",
   "source": [
    "-- Creación de la tabla de Distritos\n",
    "CREATE TABLE Distritos (\n",
    "    distrito_id INT PRIMARY KEY,\n",
    "    codigo_distrito VARCHAR(255),\n",
    "    nombre_distrito VARCHAR(255)\n",
    ");\n",
    "\n",
    "-- Creación de la tabla de Direcciones\n",
    "CREATE TABLE Direcciones (\n",
    "    direccion_id INT PRIMARY KEY,\n",
    "    calle VARCHAR(255),\n",
    "    numero INT\n",
    ");\n",
    "\n",
    "-- Creación de la tabla de Accidentes\n",
    "CREATE TABLE Accidentes (\n",
    "    num_expediente VARCHAR(255) PRIMARY KEY,\n",
    "    fecha DATE,\n",
    "    hora TIME,\n",
    "    direccion_id INT,\n",
    "    distrito_id INT,\n",
    "    tipo_accidente VARCHAR(255),\n",
    "    estado_meteorologico VARCHAR(255),\n",
    "    coordenada_x_utm VARCHAR(255),\n",
    "    coordenada_y_utm VARCHAR(255),\n",
    "    positivo_alcohol BOOLEAN,\n",
    "    positivo_droga BOOLEAN,\n",
    "    fugado BOOLEAN,\n",
    "    FOREIGN KEY (direccion_id) REFERENCES Direcciones(direccion_id),\n",
    "    FOREIGN KEY (distrito_id) REFERENCES Distritos(distrito_id)\n",
    ");\n",
    "\n",
    "-- Creación de la tabla de Personas Involucradas en Accidentes\n",
    "CREATE TABLE PersonasInvolucradas (\n",
    "    id INT PRIMARY KEY,\n",
    "    num_expediente VARCHAR(255),\n",
    "    tipo_vehiculo VARCHAR(255),\n",
    "    tipo_persona VARCHAR(255),\n",
    "    rango_edad VARCHAR(255),\n",
    "    sexo CHAR(1),\n",
    "    codigo_lesividad INT,\n",
    "    lesividad VARCHAR(255),\n",
    "    numero_pasajeros INT,\n",
    "    FOREIGN KEY (num_expediente) REFERENCES Accidentes(num_expediente)\n",
    ");\n"
   ],
   "metadata": {
    "collapsed": false
   }
  },
  {
   "cell_type": "code",
   "outputs": [],
   "source": [],
   "metadata": {
    "collapsed": false,
    "ExecuteTime": {
     "end_time": "2024-01-29T17:17:55.546544Z",
     "start_time": "2024-01-29T17:17:55.544891Z"
    }
   },
   "execution_count": 3
  }
 ],
 "metadata": {
  "kernelspec": {
   "display_name": "Python 3",
   "language": "python",
   "name": "python3"
  },
  "language_info": {
   "codemirror_mode": {
    "name": "ipython",
    "version": 2
   },
   "file_extension": ".py",
   "mimetype": "text/x-python",
   "name": "python",
   "nbconvert_exporter": "python",
   "pygments_lexer": "ipython2",
   "version": "2.7.6"
  }
 },
 "nbformat": 4,
 "nbformat_minor": 0
}
