{
 "cells": [
  {
   "cell_type": "code",
   "outputs": [],
   "source": [
    "import pandas as pd\n",
    "import seaborn as sns\n",
    "import matplotlib.pyplot as plt\n",
    "import my_connector\n",
    "from my_connector import MySQLConnector"
   ],
   "metadata": {
    "collapsed": false,
    "ExecuteTime": {
     "end_time": "2024-02-05T14:39:04.925094968Z",
     "start_time": "2024-02-05T14:39:04.746736384Z"
    }
   },
   "execution_count": 2
  },
  {
   "cell_type": "code",
   "outputs": [],
   "source": [
    "df = pd.read_csv(\"Datasets/Data_Combinada.csv\", low_memory=False)"
   ],
   "metadata": {
    "collapsed": false,
    "ExecuteTime": {
     "end_time": "2024-02-05T14:39:43.860866777Z",
     "start_time": "2024-02-05T14:39:43.348558730Z"
    }
   },
   "execution_count": 6
  },
  {
   "cell_type": "code",
   "outputs": [
    {
     "data": {
      "text/plain": "  num_expediente       fecha     hora  \\\n0    2022S000001  01/01/2022  1:30:00   \n1    2022S000001  01/01/2022  1:30:00   \n2    2022S000002  01/01/2022  0:30:00   \n3    2022S000002  01/01/2022  0:30:00   \n4    2022S000002  01/01/2022  0:30:00   \n5    2022S000003  01/01/2022  1:50:00   \n6    2022S000003  01/01/2022  1:50:00   \n7    2022S000004  01/01/2022  3:40:00   \n8    2022S000004  01/01/2022  3:40:00   \n9    2022S000005  01/01/2022  4:30:00   \n\n                                 localizacion   numero  cod_distrito  \\\n0                          AVDA. ALBUFERA, 19       19          13.0   \n1                          AVDA. ALBUFERA, 19       19          13.0   \n2  PLAZA. CANOVAS DEL CASTILLO / PASEO. PRADO        2           3.0   \n3  PLAZA. CANOVAS DEL CASTILLO / PASEO. PRADO        2           3.0   \n4  PLAZA. CANOVAS DEL CASTILLO / PASEO. PRADO        2           3.0   \n5                      CALL. SAN BERNARDO, 53       53           1.0   \n6                      CALL. SAN BERNARDO, 53       53           1.0   \n7            CALL. ALCALA / PLAZA. EISENHOWER      728          20.0   \n8            CALL. ALCALA / PLAZA. EISENHOWER      728          20.0   \n9                        AUTOV. A-42, +00500E  +00500E          12.0   \n\n              distrito                tipo_accidente estado_meteorológico  \\\n0   PUENTE DE VALLECAS                       Alcance            Despejado   \n1   PUENTE DE VALLECAS                       Alcance            Despejado   \n2               RETIRO       Colisión fronto-lateral                  NaN   \n3               RETIRO       Colisión fronto-lateral                  NaN   \n4               RETIRO       Colisión fronto-lateral                  NaN   \n5               CENTRO           Atropello a persona            Despejado   \n6               CENTRO           Atropello a persona            Despejado   \n7  SAN BLAS-CANILLEJAS  Choque contra obstáculo fijo            Despejado   \n8  SAN BLAS-CANILLEJAS  Choque contra obstáculo fijo            Despejado   \n9                USERA  Choque contra obstáculo fijo            Despejado   \n\n             tipo_vehiculo  ...       rango_edad sexo cod_lesividad  \\\n0                  Turismo  ...  De 30 a 34 años    M           NaN   \n1                  Turismo  ...  De 45 a 49 años    H           NaN   \n2  Motocicleta hasta 125cc  ...  De 30 a 34 años    H           NaN   \n3  Motocicleta hasta 125cc  ...  De 35 a 39 años    M           NaN   \n4                  Turismo  ...  De 40 a 44 años    H           NaN   \n5      Motocicleta > 125cc  ...      Desconocido    H           NaN   \n6      Motocicleta > 125cc  ...  De 18 a 20 años    M           7.0   \n7                  Turismo  ...  De 50 a 54 años    H           2.0   \n8                  Turismo  ...  De 55 a 59 años    M           3.0   \n9                  Turismo  ...  De 45 a 49 años    H           NaN   \n\n                                           lesividad coordenada_x_utm  \\\n0                                                NaN       443359,226   \n1                                                NaN       443359,226   \n2                                                NaN       441155,351   \n3                                                NaN       441155,351   \n4                                                NaN       441155,351   \n5                                                NaN       439995,351   \n6  Asistencia sanitaria sólo en el lugar del acci...       439995,351   \n7                Ingreso inferior o igual a 24 horas       449693,925   \n8                        Ingreso superior a 24 horas       449693,925   \n9                                                NaN       438952,303   \n\n  coordenada_y_utm positiva_alcohol  positiva_droga  numero_pasajeros  fugado  \n0      4472082,272              0.0             0.0                 2      No  \n1      4472082,272              0.0             0.0                 2      No  \n2      4474129,588              1.0             0.0                 3      No  \n3      4474129,588              0.0             0.0                 3      No  \n4      4474129,588              0.0             0.0                 3      No  \n5      4475212,523              0.0             0.0                 2      No  \n6      4475212,523              0.0             0.0                 2      No  \n7      4477837,552              0.0             0.0                 2      No  \n8      4477837,552              0.0             0.0                 2      No  \n9      4469985,021              1.0             0.0                 2      No  \n\n[10 rows x 21 columns]",
      "text/html": "<div>\n<style scoped>\n    .dataframe tbody tr th:only-of-type {\n        vertical-align: middle;\n    }\n\n    .dataframe tbody tr th {\n        vertical-align: top;\n    }\n\n    .dataframe thead th {\n        text-align: right;\n    }\n</style>\n<table border=\"1\" class=\"dataframe\">\n  <thead>\n    <tr style=\"text-align: right;\">\n      <th></th>\n      <th>num_expediente</th>\n      <th>fecha</th>\n      <th>hora</th>\n      <th>localizacion</th>\n      <th>numero</th>\n      <th>cod_distrito</th>\n      <th>distrito</th>\n      <th>tipo_accidente</th>\n      <th>estado_meteorológico</th>\n      <th>tipo_vehiculo</th>\n      <th>...</th>\n      <th>rango_edad</th>\n      <th>sexo</th>\n      <th>cod_lesividad</th>\n      <th>lesividad</th>\n      <th>coordenada_x_utm</th>\n      <th>coordenada_y_utm</th>\n      <th>positiva_alcohol</th>\n      <th>positiva_droga</th>\n      <th>numero_pasajeros</th>\n      <th>fugado</th>\n    </tr>\n  </thead>\n  <tbody>\n    <tr>\n      <th>0</th>\n      <td>2022S000001</td>\n      <td>01/01/2022</td>\n      <td>1:30:00</td>\n      <td>AVDA. ALBUFERA, 19</td>\n      <td>19</td>\n      <td>13.0</td>\n      <td>PUENTE DE VALLECAS</td>\n      <td>Alcance</td>\n      <td>Despejado</td>\n      <td>Turismo</td>\n      <td>...</td>\n      <td>De 30 a 34 años</td>\n      <td>M</td>\n      <td>NaN</td>\n      <td>NaN</td>\n      <td>443359,226</td>\n      <td>4472082,272</td>\n      <td>0.0</td>\n      <td>0.0</td>\n      <td>2</td>\n      <td>No</td>\n    </tr>\n    <tr>\n      <th>1</th>\n      <td>2022S000001</td>\n      <td>01/01/2022</td>\n      <td>1:30:00</td>\n      <td>AVDA. ALBUFERA, 19</td>\n      <td>19</td>\n      <td>13.0</td>\n      <td>PUENTE DE VALLECAS</td>\n      <td>Alcance</td>\n      <td>Despejado</td>\n      <td>Turismo</td>\n      <td>...</td>\n      <td>De 45 a 49 años</td>\n      <td>H</td>\n      <td>NaN</td>\n      <td>NaN</td>\n      <td>443359,226</td>\n      <td>4472082,272</td>\n      <td>0.0</td>\n      <td>0.0</td>\n      <td>2</td>\n      <td>No</td>\n    </tr>\n    <tr>\n      <th>2</th>\n      <td>2022S000002</td>\n      <td>01/01/2022</td>\n      <td>0:30:00</td>\n      <td>PLAZA. CANOVAS DEL CASTILLO / PASEO. PRADO</td>\n      <td>2</td>\n      <td>3.0</td>\n      <td>RETIRO</td>\n      <td>Colisión fronto-lateral</td>\n      <td>NaN</td>\n      <td>Motocicleta hasta 125cc</td>\n      <td>...</td>\n      <td>De 30 a 34 años</td>\n      <td>H</td>\n      <td>NaN</td>\n      <td>NaN</td>\n      <td>441155,351</td>\n      <td>4474129,588</td>\n      <td>1.0</td>\n      <td>0.0</td>\n      <td>3</td>\n      <td>No</td>\n    </tr>\n    <tr>\n      <th>3</th>\n      <td>2022S000002</td>\n      <td>01/01/2022</td>\n      <td>0:30:00</td>\n      <td>PLAZA. CANOVAS DEL CASTILLO / PASEO. PRADO</td>\n      <td>2</td>\n      <td>3.0</td>\n      <td>RETIRO</td>\n      <td>Colisión fronto-lateral</td>\n      <td>NaN</td>\n      <td>Motocicleta hasta 125cc</td>\n      <td>...</td>\n      <td>De 35 a 39 años</td>\n      <td>M</td>\n      <td>NaN</td>\n      <td>NaN</td>\n      <td>441155,351</td>\n      <td>4474129,588</td>\n      <td>0.0</td>\n      <td>0.0</td>\n      <td>3</td>\n      <td>No</td>\n    </tr>\n    <tr>\n      <th>4</th>\n      <td>2022S000002</td>\n      <td>01/01/2022</td>\n      <td>0:30:00</td>\n      <td>PLAZA. CANOVAS DEL CASTILLO / PASEO. PRADO</td>\n      <td>2</td>\n      <td>3.0</td>\n      <td>RETIRO</td>\n      <td>Colisión fronto-lateral</td>\n      <td>NaN</td>\n      <td>Turismo</td>\n      <td>...</td>\n      <td>De 40 a 44 años</td>\n      <td>H</td>\n      <td>NaN</td>\n      <td>NaN</td>\n      <td>441155,351</td>\n      <td>4474129,588</td>\n      <td>0.0</td>\n      <td>0.0</td>\n      <td>3</td>\n      <td>No</td>\n    </tr>\n    <tr>\n      <th>5</th>\n      <td>2022S000003</td>\n      <td>01/01/2022</td>\n      <td>1:50:00</td>\n      <td>CALL. SAN BERNARDO, 53</td>\n      <td>53</td>\n      <td>1.0</td>\n      <td>CENTRO</td>\n      <td>Atropello a persona</td>\n      <td>Despejado</td>\n      <td>Motocicleta &gt; 125cc</td>\n      <td>...</td>\n      <td>Desconocido</td>\n      <td>H</td>\n      <td>NaN</td>\n      <td>NaN</td>\n      <td>439995,351</td>\n      <td>4475212,523</td>\n      <td>0.0</td>\n      <td>0.0</td>\n      <td>2</td>\n      <td>No</td>\n    </tr>\n    <tr>\n      <th>6</th>\n      <td>2022S000003</td>\n      <td>01/01/2022</td>\n      <td>1:50:00</td>\n      <td>CALL. SAN BERNARDO, 53</td>\n      <td>53</td>\n      <td>1.0</td>\n      <td>CENTRO</td>\n      <td>Atropello a persona</td>\n      <td>Despejado</td>\n      <td>Motocicleta &gt; 125cc</td>\n      <td>...</td>\n      <td>De 18 a 20 años</td>\n      <td>M</td>\n      <td>7.0</td>\n      <td>Asistencia sanitaria sólo en el lugar del acci...</td>\n      <td>439995,351</td>\n      <td>4475212,523</td>\n      <td>0.0</td>\n      <td>0.0</td>\n      <td>2</td>\n      <td>No</td>\n    </tr>\n    <tr>\n      <th>7</th>\n      <td>2022S000004</td>\n      <td>01/01/2022</td>\n      <td>3:40:00</td>\n      <td>CALL. ALCALA / PLAZA. EISENHOWER</td>\n      <td>728</td>\n      <td>20.0</td>\n      <td>SAN BLAS-CANILLEJAS</td>\n      <td>Choque contra obstáculo fijo</td>\n      <td>Despejado</td>\n      <td>Turismo</td>\n      <td>...</td>\n      <td>De 50 a 54 años</td>\n      <td>H</td>\n      <td>2.0</td>\n      <td>Ingreso inferior o igual a 24 horas</td>\n      <td>449693,925</td>\n      <td>4477837,552</td>\n      <td>0.0</td>\n      <td>0.0</td>\n      <td>2</td>\n      <td>No</td>\n    </tr>\n    <tr>\n      <th>8</th>\n      <td>2022S000004</td>\n      <td>01/01/2022</td>\n      <td>3:40:00</td>\n      <td>CALL. ALCALA / PLAZA. EISENHOWER</td>\n      <td>728</td>\n      <td>20.0</td>\n      <td>SAN BLAS-CANILLEJAS</td>\n      <td>Choque contra obstáculo fijo</td>\n      <td>Despejado</td>\n      <td>Turismo</td>\n      <td>...</td>\n      <td>De 55 a 59 años</td>\n      <td>M</td>\n      <td>3.0</td>\n      <td>Ingreso superior a 24 horas</td>\n      <td>449693,925</td>\n      <td>4477837,552</td>\n      <td>0.0</td>\n      <td>0.0</td>\n      <td>2</td>\n      <td>No</td>\n    </tr>\n    <tr>\n      <th>9</th>\n      <td>2022S000005</td>\n      <td>01/01/2022</td>\n      <td>4:30:00</td>\n      <td>AUTOV. A-42, +00500E</td>\n      <td>+00500E</td>\n      <td>12.0</td>\n      <td>USERA</td>\n      <td>Choque contra obstáculo fijo</td>\n      <td>Despejado</td>\n      <td>Turismo</td>\n      <td>...</td>\n      <td>De 45 a 49 años</td>\n      <td>H</td>\n      <td>NaN</td>\n      <td>NaN</td>\n      <td>438952,303</td>\n      <td>4469985,021</td>\n      <td>1.0</td>\n      <td>0.0</td>\n      <td>2</td>\n      <td>No</td>\n    </tr>\n  </tbody>\n</table>\n<p>10 rows × 21 columns</p>\n</div>"
     },
     "execution_count": 7,
     "metadata": {},
     "output_type": "execute_result"
    }
   ],
   "source": [
    "df.head(10)"
   ],
   "metadata": {
    "collapsed": false,
    "ExecuteTime": {
     "end_time": "2024-02-05T14:39:45.562838427Z",
     "start_time": "2024-02-05T14:39:45.366392136Z"
    }
   },
   "execution_count": 7
  },
  {
   "cell_type": "markdown",
   "source": [
    "-- Creación de la tabla de Distritos\n",
    "CREATE TABLE Distritos (\n",
    "    distrito_id INT PRIMARY KEY,\n",
    "    codigo_distrito VARCHAR(255),\n",
    "    nombre_distrito VARCHAR(255)\n",
    ");\n",
    "\n",
    "-- Creación de la tabla de Direcciones\n",
    "CREATE TABLE Direcciones (\n",
    "    direccion_id INT PRIMARY KEY,\n",
    "    calle VARCHAR(255),\n",
    "    numero INT\n",
    ");\n",
    "\n",
    "-- Creación de la tabla de Accidentes\n",
    "CREATE TABLE Accidentes (\n",
    "    num_expediente VARCHAR(255) PRIMARY KEY,\n",
    "    fecha DATE,\n",
    "    hora TIME,\n",
    "    direccion_id INT,\n",
    "    distrito_id INT,\n",
    "    tipo_accidente VARCHAR(255),\n",
    "    estado_meteorologico VARCHAR(255),\n",
    "    coordenada_x_utm VARCHAR(255),\n",
    "    coordenada_y_utm VARCHAR(255),\n",
    "    positivo_alcohol BOOLEAN,\n",
    "    positivo_droga BOOLEAN,\n",
    "    fugado BOOLEAN,\n",
    "    FOREIGN KEY (direccion_id) REFERENCES Direcciones(direccion_id),\n",
    "    FOREIGN KEY (distrito_id) REFERENCES Distritos(distrito_id)\n",
    ");\n",
    "\n",
    "-- Creación de la tabla de Personas Involucradas en Accidentes\n",
    "CREATE TABLE PersonasInvolucradas (\n",
    "    id INT PRIMARY KEY,\n",
    "    num_expediente VARCHAR(255),\n",
    "    tipo_vehiculo VARCHAR(255),\n",
    "    tipo_persona VARCHAR(255),\n",
    "    rango_edad VARCHAR(255),\n",
    "    sexo CHAR(1),\n",
    "    codigo_lesividad INT,\n",
    "    lesividad VARCHAR(255),\n",
    "    numero_pasajeros INT,\n",
    "    FOREIGN KEY (num_expediente) REFERENCES Accidentes(num_expediente)\n",
    ");\n"
   ],
   "metadata": {
    "collapsed": false
   }
  },
  {
   "cell_type": "code",
   "outputs": [
    {
     "name": "stdout",
     "output_type": "stream",
     "text": [
      "Connected to MySQL database.\n"
     ]
    }
   ],
   "source": [
    "connector = MySQLConnector('localhost', 'root', 'root', 'TNT')\n",
    "connector.connect()"
   ],
   "metadata": {
    "collapsed": false,
    "ExecuteTime": {
     "end_time": "2024-02-05T14:39:10.393324451Z",
     "start_time": "2024-02-05T14:39:10.168013060Z"
    }
   },
   "execution_count": 3
  },
  {
   "cell_type": "code",
   "outputs": [],
   "source": [
    "cod_distrito_unique = df['cod_distrito'].unique()\n",
    "distrito_unique = df['distrito'].unique()\n",
    "emparejados = {cod: dist for cod, dist in zip(cod_distrito_unique, distrito_unique)}"
   ],
   "metadata": {
    "collapsed": false,
    "ExecuteTime": {
     "end_time": "2024-02-05T14:43:09.247493362Z",
     "start_time": "2024-02-05T14:43:08.787528596Z"
    }
   },
   "execution_count": 13
  },
  {
   "cell_type": "code",
   "outputs": [
    {
     "name": "stdout",
     "output_type": "stream",
     "text": [
      "Query executed successfully.\n",
      "Query executed successfully.\n",
      "Query executed successfully.\n",
      "Query executed successfully.\n",
      "Query executed successfully.\n",
      "Query executed successfully.\n",
      "Query executed successfully.\n",
      "Query executed successfully.\n",
      "Query executed successfully.\n",
      "Query executed successfully.\n",
      "Query executed successfully.\n",
      "Query executed successfully.\n",
      "Query executed successfully.\n",
      "Query executed successfully.\n",
      "Query executed successfully.\n",
      "Query executed successfully.\n",
      "Query executed successfully.\n",
      "Query executed successfully.\n",
      "Query executed successfully.\n",
      "Query executed successfully.\n",
      "Query executed successfully.\n"
     ]
    }
   ],
   "source": [
    "for cod, dist in emparejados.items():\n",
    "    distrito_query = f\"\"\"\n",
    "        INSERT INTO Distritos (codigo_distrito, nombre_distrito) VALUES ('{cod}', '{dist}')\n",
    "        \"\"\"\n",
    "    connector.execute_query(distrito_query)"
   ],
   "metadata": {
    "collapsed": false,
    "ExecuteTime": {
     "end_time": "2024-02-05T14:46:45.798169523Z",
     "start_time": "2024-02-05T14:46:45.305557928Z"
    }
   },
   "execution_count": 17
  },
  {
   "cell_type": "code",
   "outputs": [
    {
     "data": {
      "text/plain": "      num_expediente       fecha      hora  \\\n0        2022S000001  01/01/2022   1:30:00   \n1        2022S000001  01/01/2022   1:30:00   \n2        2022S000002  01/01/2022   0:30:00   \n3        2022S000002  01/01/2022   0:30:00   \n4        2022S000002  01/01/2022   0:30:00   \n...              ...         ...       ...   \n74956    2023S028337  31/08/2023  23:20:00   \n74957    2023S028341  31/08/2023  22:30:00   \n74958    2023S028341  31/08/2023  22:30:00   \n74959    2023S028352  31/08/2023  14:40:00   \n74960    2023S029136  02/08/2023  22:10:00   \n\n                                     localizacion  numero  cod_distrito  \\\n0                              AVDA. ALBUFERA, 19      19          13.0   \n1                              AVDA. ALBUFERA, 19      19          13.0   \n2      PLAZA. CANOVAS DEL CASTILLO / PASEO. PRADO       2           3.0   \n3      PLAZA. CANOVAS DEL CASTILLO / PASEO. PRADO       2           3.0   \n4      PLAZA. CANOVAS DEL CASTILLO / PASEO. PRADO       2           3.0   \n...                                           ...     ...           ...   \n74956                 CALL. GOLFO DE SALONICA, 12      12          16.0   \n74957                           CALLE SAN SERAPIO       1          12.0   \n74958                           CALLE SAN SERAPIO       1          12.0   \n74959                         AUTOV. M-30, 00NC06  00NC06           5.0   \n74960             AVDA. CARDENAL HERRERA ORIA, 80      80           8.0   \n\n                  distrito                tipo_accidente estado_meteorológico  \\\n0       PUENTE DE VALLECAS                       Alcance            Despejado   \n1       PUENTE DE VALLECAS                       Alcance            Despejado   \n2                   RETIRO       Colisión fronto-lateral                  NaN   \n3                   RETIRO       Colisión fronto-lateral                  NaN   \n4                   RETIRO       Colisión fronto-lateral                  NaN   \n...                    ...                           ...                  ...   \n74956            HORTALEZA                          Otro            Despejado   \n74957                USERA                       Alcance            Despejado   \n74958                USERA                       Alcance            Despejado   \n74959            CHAMARTÍN                         Caída            Despejado   \n74960  FUENCARRAL-EL PARDO  Choque contra obstáculo fijo                  NaN   \n\n                 tipo_vehiculo  ...       rango_edad sexo cod_lesividad  \\\n0                      Turismo  ...  De 30 a 34 años    M           NaN   \n1                      Turismo  ...  De 45 a 49 años    H           NaN   \n2      Motocicleta hasta 125cc  ...  De 30 a 34 años    H           NaN   \n3      Motocicleta hasta 125cc  ...  De 35 a 39 años    M           NaN   \n4                      Turismo  ...  De 40 a 44 años    H           NaN   \n...                        ...  ...              ...  ...           ...   \n74956                  Turismo  ...  De 55 a 59 años    M          14.0   \n74957  Motocicleta hasta 125cc  ...  De 30 a 34 años    H           7.0   \n74958                  Turismo  ...  De 35 a 39 años    H          14.0   \n74959  Motocicleta hasta 125cc  ...  De 40 a 44 años    H           1.0   \n74960                  Turismo  ...  De 35 a 39 años    H           NaN   \n\n                                               lesividad coordenada_x_utm  \\\n0                                                    NaN       443359,226   \n1                                                    NaN       443359,226   \n2                                                    NaN       441155,351   \n3                                                    NaN       441155,351   \n4                                                    NaN       441155,351   \n...                                                  ...              ...   \n74956                           Sin asistencia sanitaria       443580.365   \n74957  Asistencia sanitaria sólo en el lugar del acci...        440795.55   \n74958                           Sin asistencia sanitaria        440795.55   \n74959        Atención en urgencias sin posterior ingreso         442825.5   \n74960                                                NaN       441491.437   \n\n      coordenada_y_utm positiva_alcohol  positiva_droga  numero_pasajeros  \\\n0          4472082,272              0.0             0.0                 2   \n1          4472082,272              0.0             0.0                 2   \n2          4474129,588              1.0             0.0                 3   \n3          4474129,588              0.0             0.0                 3   \n4          4474129,588              0.0             0.0                 3   \n...                ...              ...             ...               ...   \n74956      4480912.376              0.0             0.0                 3   \n74957      4471044.789              0.0             0.0                 2   \n74958      4471044.789              0.0             0.0                 2   \n74959      4481003.193              0.0             0.0                 1   \n74960       4482518.59              0.0             0.0                 1   \n\n       fugado  \n0          No  \n1          No  \n2          No  \n3          No  \n4          No  \n...       ...  \n74956      No  \n74957      No  \n74958      No  \n74959      No  \n74960      No  \n\n[74961 rows x 21 columns]",
      "text/html": "<div>\n<style scoped>\n    .dataframe tbody tr th:only-of-type {\n        vertical-align: middle;\n    }\n\n    .dataframe tbody tr th {\n        vertical-align: top;\n    }\n\n    .dataframe thead th {\n        text-align: right;\n    }\n</style>\n<table border=\"1\" class=\"dataframe\">\n  <thead>\n    <tr style=\"text-align: right;\">\n      <th></th>\n      <th>num_expediente</th>\n      <th>fecha</th>\n      <th>hora</th>\n      <th>localizacion</th>\n      <th>numero</th>\n      <th>cod_distrito</th>\n      <th>distrito</th>\n      <th>tipo_accidente</th>\n      <th>estado_meteorológico</th>\n      <th>tipo_vehiculo</th>\n      <th>...</th>\n      <th>rango_edad</th>\n      <th>sexo</th>\n      <th>cod_lesividad</th>\n      <th>lesividad</th>\n      <th>coordenada_x_utm</th>\n      <th>coordenada_y_utm</th>\n      <th>positiva_alcohol</th>\n      <th>positiva_droga</th>\n      <th>numero_pasajeros</th>\n      <th>fugado</th>\n    </tr>\n  </thead>\n  <tbody>\n    <tr>\n      <th>0</th>\n      <td>2022S000001</td>\n      <td>01/01/2022</td>\n      <td>1:30:00</td>\n      <td>AVDA. ALBUFERA, 19</td>\n      <td>19</td>\n      <td>13.0</td>\n      <td>PUENTE DE VALLECAS</td>\n      <td>Alcance</td>\n      <td>Despejado</td>\n      <td>Turismo</td>\n      <td>...</td>\n      <td>De 30 a 34 años</td>\n      <td>M</td>\n      <td>NaN</td>\n      <td>NaN</td>\n      <td>443359,226</td>\n      <td>4472082,272</td>\n      <td>0.0</td>\n      <td>0.0</td>\n      <td>2</td>\n      <td>No</td>\n    </tr>\n    <tr>\n      <th>1</th>\n      <td>2022S000001</td>\n      <td>01/01/2022</td>\n      <td>1:30:00</td>\n      <td>AVDA. ALBUFERA, 19</td>\n      <td>19</td>\n      <td>13.0</td>\n      <td>PUENTE DE VALLECAS</td>\n      <td>Alcance</td>\n      <td>Despejado</td>\n      <td>Turismo</td>\n      <td>...</td>\n      <td>De 45 a 49 años</td>\n      <td>H</td>\n      <td>NaN</td>\n      <td>NaN</td>\n      <td>443359,226</td>\n      <td>4472082,272</td>\n      <td>0.0</td>\n      <td>0.0</td>\n      <td>2</td>\n      <td>No</td>\n    </tr>\n    <tr>\n      <th>2</th>\n      <td>2022S000002</td>\n      <td>01/01/2022</td>\n      <td>0:30:00</td>\n      <td>PLAZA. CANOVAS DEL CASTILLO / PASEO. PRADO</td>\n      <td>2</td>\n      <td>3.0</td>\n      <td>RETIRO</td>\n      <td>Colisión fronto-lateral</td>\n      <td>NaN</td>\n      <td>Motocicleta hasta 125cc</td>\n      <td>...</td>\n      <td>De 30 a 34 años</td>\n      <td>H</td>\n      <td>NaN</td>\n      <td>NaN</td>\n      <td>441155,351</td>\n      <td>4474129,588</td>\n      <td>1.0</td>\n      <td>0.0</td>\n      <td>3</td>\n      <td>No</td>\n    </tr>\n    <tr>\n      <th>3</th>\n      <td>2022S000002</td>\n      <td>01/01/2022</td>\n      <td>0:30:00</td>\n      <td>PLAZA. CANOVAS DEL CASTILLO / PASEO. PRADO</td>\n      <td>2</td>\n      <td>3.0</td>\n      <td>RETIRO</td>\n      <td>Colisión fronto-lateral</td>\n      <td>NaN</td>\n      <td>Motocicleta hasta 125cc</td>\n      <td>...</td>\n      <td>De 35 a 39 años</td>\n      <td>M</td>\n      <td>NaN</td>\n      <td>NaN</td>\n      <td>441155,351</td>\n      <td>4474129,588</td>\n      <td>0.0</td>\n      <td>0.0</td>\n      <td>3</td>\n      <td>No</td>\n    </tr>\n    <tr>\n      <th>4</th>\n      <td>2022S000002</td>\n      <td>01/01/2022</td>\n      <td>0:30:00</td>\n      <td>PLAZA. CANOVAS DEL CASTILLO / PASEO. PRADO</td>\n      <td>2</td>\n      <td>3.0</td>\n      <td>RETIRO</td>\n      <td>Colisión fronto-lateral</td>\n      <td>NaN</td>\n      <td>Turismo</td>\n      <td>...</td>\n      <td>De 40 a 44 años</td>\n      <td>H</td>\n      <td>NaN</td>\n      <td>NaN</td>\n      <td>441155,351</td>\n      <td>4474129,588</td>\n      <td>0.0</td>\n      <td>0.0</td>\n      <td>3</td>\n      <td>No</td>\n    </tr>\n    <tr>\n      <th>...</th>\n      <td>...</td>\n      <td>...</td>\n      <td>...</td>\n      <td>...</td>\n      <td>...</td>\n      <td>...</td>\n      <td>...</td>\n      <td>...</td>\n      <td>...</td>\n      <td>...</td>\n      <td>...</td>\n      <td>...</td>\n      <td>...</td>\n      <td>...</td>\n      <td>...</td>\n      <td>...</td>\n      <td>...</td>\n      <td>...</td>\n      <td>...</td>\n      <td>...</td>\n      <td>...</td>\n    </tr>\n    <tr>\n      <th>74956</th>\n      <td>2023S028337</td>\n      <td>31/08/2023</td>\n      <td>23:20:00</td>\n      <td>CALL. GOLFO DE SALONICA, 12</td>\n      <td>12</td>\n      <td>16.0</td>\n      <td>HORTALEZA</td>\n      <td>Otro</td>\n      <td>Despejado</td>\n      <td>Turismo</td>\n      <td>...</td>\n      <td>De 55 a 59 años</td>\n      <td>M</td>\n      <td>14.0</td>\n      <td>Sin asistencia sanitaria</td>\n      <td>443580.365</td>\n      <td>4480912.376</td>\n      <td>0.0</td>\n      <td>0.0</td>\n      <td>3</td>\n      <td>No</td>\n    </tr>\n    <tr>\n      <th>74957</th>\n      <td>2023S028341</td>\n      <td>31/08/2023</td>\n      <td>22:30:00</td>\n      <td>CALLE SAN SERAPIO</td>\n      <td>1</td>\n      <td>12.0</td>\n      <td>USERA</td>\n      <td>Alcance</td>\n      <td>Despejado</td>\n      <td>Motocicleta hasta 125cc</td>\n      <td>...</td>\n      <td>De 30 a 34 años</td>\n      <td>H</td>\n      <td>7.0</td>\n      <td>Asistencia sanitaria sólo en el lugar del acci...</td>\n      <td>440795.55</td>\n      <td>4471044.789</td>\n      <td>0.0</td>\n      <td>0.0</td>\n      <td>2</td>\n      <td>No</td>\n    </tr>\n    <tr>\n      <th>74958</th>\n      <td>2023S028341</td>\n      <td>31/08/2023</td>\n      <td>22:30:00</td>\n      <td>CALLE SAN SERAPIO</td>\n      <td>1</td>\n      <td>12.0</td>\n      <td>USERA</td>\n      <td>Alcance</td>\n      <td>Despejado</td>\n      <td>Turismo</td>\n      <td>...</td>\n      <td>De 35 a 39 años</td>\n      <td>H</td>\n      <td>14.0</td>\n      <td>Sin asistencia sanitaria</td>\n      <td>440795.55</td>\n      <td>4471044.789</td>\n      <td>0.0</td>\n      <td>0.0</td>\n      <td>2</td>\n      <td>No</td>\n    </tr>\n    <tr>\n      <th>74959</th>\n      <td>2023S028352</td>\n      <td>31/08/2023</td>\n      <td>14:40:00</td>\n      <td>AUTOV. M-30, 00NC06</td>\n      <td>00NC06</td>\n      <td>5.0</td>\n      <td>CHAMARTÍN</td>\n      <td>Caída</td>\n      <td>Despejado</td>\n      <td>Motocicleta hasta 125cc</td>\n      <td>...</td>\n      <td>De 40 a 44 años</td>\n      <td>H</td>\n      <td>1.0</td>\n      <td>Atención en urgencias sin posterior ingreso</td>\n      <td>442825.5</td>\n      <td>4481003.193</td>\n      <td>0.0</td>\n      <td>0.0</td>\n      <td>1</td>\n      <td>No</td>\n    </tr>\n    <tr>\n      <th>74960</th>\n      <td>2023S029136</td>\n      <td>02/08/2023</td>\n      <td>22:10:00</td>\n      <td>AVDA. CARDENAL HERRERA ORIA, 80</td>\n      <td>80</td>\n      <td>8.0</td>\n      <td>FUENCARRAL-EL PARDO</td>\n      <td>Choque contra obstáculo fijo</td>\n      <td>NaN</td>\n      <td>Turismo</td>\n      <td>...</td>\n      <td>De 35 a 39 años</td>\n      <td>H</td>\n      <td>NaN</td>\n      <td>NaN</td>\n      <td>441491.437</td>\n      <td>4482518.59</td>\n      <td>0.0</td>\n      <td>0.0</td>\n      <td>1</td>\n      <td>No</td>\n    </tr>\n  </tbody>\n</table>\n<p>74961 rows × 21 columns</p>\n</div>"
     },
     "execution_count": 18,
     "metadata": {},
     "output_type": "execute_result"
    }
   ],
   "source": [
    "df"
   ],
   "metadata": {
    "collapsed": false,
    "ExecuteTime": {
     "end_time": "2024-02-05T14:49:00.570087076Z",
     "start_time": "2024-02-05T14:49:00.507633343Z"
    }
   },
   "execution_count": 18
  }
 ],
 "metadata": {
  "kernelspec": {
   "display_name": "Python 3",
   "language": "python",
   "name": "python3"
  },
  "language_info": {
   "codemirror_mode": {
    "name": "ipython",
    "version": 2
   },
   "file_extension": ".py",
   "mimetype": "text/x-python",
   "name": "python",
   "nbconvert_exporter": "python",
   "pygments_lexer": "ipython2",
   "version": "2.7.6"
  }
 },
 "nbformat": 4,
 "nbformat_minor": 0
}
