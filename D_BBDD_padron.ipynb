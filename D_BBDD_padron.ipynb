{
 "cells": [
  {
   "cell_type": "code",
   "execution_count": 113,
   "id": "initial_id",
   "metadata": {
    "collapsed": true,
    "ExecuteTime": {
     "end_time": "2024-02-05T19:47:26.547299562Z",
     "start_time": "2024-02-05T19:47:26.389766541Z"
    }
   },
   "source": [
    "import pandas as pd\n",
    "from my_connector import MySQLConnector"
   ],
   "outputs": []
  },
  {
   "cell_type": "markdown",
   "source": [
    "# Limpieza"
   ],
   "metadata": {
    "collapsed": false
   },
   "id": "842b8b52d1bbdde5"
  },
  {
   "cell_type": "code",
   "source": [
    "# noinspection SpellCheckingInspection\n",
    "df_padron = pd.read_csv(\"Datasets/padron22.csv\", low_memory=False, encoding='UTF-8')"
   ],
   "metadata": {
    "collapsed": false,
    "ExecuteTime": {
     "end_time": "2024-02-05T19:47:26.776079107Z",
     "start_time": "2024-02-05T19:47:26.542743285Z"
    }
   },
   "id": "587a6fa810e1109c",
   "execution_count": 114,
   "outputs": []
  },
  {
   "cell_type": "code",
   "source": [
    "df_padron.head(20)"
   ],
   "metadata": {
    "collapsed": false,
    "ExecuteTime": {
     "end_time": "2024-02-05T19:47:26.778989736Z",
     "start_time": "2024-02-05T19:47:26.775864413Z"
    }
   },
   "id": "88e22828ccc75d70",
   "execution_count": 115,
   "outputs": []
  },
  {
   "cell_type": "markdown",
   "source": [
    "Tiramos las columnas que no podemos utilizar para cruzar con accidentalidad. Así como los datos repetidos"
   ],
   "metadata": {
    "collapsed": false
   },
   "id": "7681d94dfc185245"
  },
  {
   "cell_type": "code",
   "source": [
    "df_padron.drop(columns=['Ï»¿EJERICIO', 'DISTRITO', 'BARRIO', 'COD_BARRIO', 'CONTADOR'], inplace=True)"
   ],
   "metadata": {
    "collapsed": false,
    "ExecuteTime": {
     "end_time": "2024-02-05T19:47:26.833761844Z",
     "start_time": "2024-02-05T19:47:26.776138635Z"
    }
   },
   "id": "d397b3a9e0fc759f",
   "execution_count": 116,
   "outputs": []
  },
  {
   "cell_type": "markdown",
   "source": [
    "Arreglamos los códigos para que tengan sentido"
   ],
   "metadata": {
    "collapsed": false
   },
   "id": "d7d6419a80fe9c12"
  },
  {
   "cell_type": "code",
   "source": [
    "cod_veh = df_padron['COD_TIPO_VEHICULO'].unique()\n",
    "tipo_veh = df_padron['TIPO_VEHICULO'].unique()"
   ],
   "metadata": {
    "collapsed": false,
    "ExecuteTime": {
     "end_time": "2024-02-05T19:47:26.869470289Z",
     "start_time": "2024-02-05T19:47:26.797727872Z"
    }
   },
   "id": "ecea508b0a0300d5",
   "execution_count": 117,
   "outputs": []
  },
  {
   "cell_type": "code",
   "source": [
    "cod_veh"
   ],
   "metadata": {
    "collapsed": false,
    "ExecuteTime": {
     "end_time": "2024-02-05T19:47:26.871006769Z",
     "start_time": "2024-02-05T19:47:26.834863958Z"
    }
   },
   "id": "924e247a081b469c",
   "execution_count": 118,
   "outputs": []
  },
  {
   "cell_type": "code",
   "source": [
    "tipo_veh"
   ],
   "metadata": {
    "collapsed": false,
    "ExecuteTime": {
     "end_time": "2024-02-05T19:47:27.086354270Z",
     "start_time": "2024-02-05T19:47:26.834993946Z"
    }
   },
   "id": "9333faa383c98bb6",
   "execution_count": 119,
   "outputs": []
  },
  {
   "cell_type": "code",
   "source": [
    "for row in zip(cod_veh, tipo_veh):\n",
    "    print(row)"
   ],
   "metadata": {
    "collapsed": false,
    "ExecuteTime": {
     "end_time": "2024-02-05T19:47:27.087220151Z",
     "start_time": "2024-02-05T19:47:26.870105208Z"
    }
   },
   "id": "d5352402473be71f",
   "execution_count": 120,
   "outputs": []
  },
  {
   "cell_type": "code",
   "source": [
    "df_padron['COD_TIPO_VEHICULO'] = df_padron['COD_TIPO_VEHICULO'].replace({'CA': 'C', 'MT': 'M', 'RE': 'O', 'TR': 'T', 'TU': 'T'})"
   ],
   "metadata": {
    "collapsed": false,
    "ExecuteTime": {
     "end_time": "2024-02-05T19:47:27.140279428Z",
     "start_time": "2024-02-05T19:47:26.870231178Z"
    }
   },
   "id": "c3e6bbd5a741bc27",
   "execution_count": 121,
   "outputs": []
  },
  {
   "cell_type": "code",
   "source": [
    "cod_veh = df_padron['COD_TIPO_VEHICULO'].unique()\n",
    "tipo_veh = df_padron['TIPO_VEHICULO'].unique()\n",
    "for row in zip(cod_veh, tipo_veh):\n",
    "    print(row)"
   ],
   "metadata": {
    "collapsed": false,
    "ExecuteTime": {
     "end_time": "2024-02-05T19:47:27.141239198Z",
     "start_time": "2024-02-05T19:47:26.911634044Z"
    }
   },
   "id": "94865c333698a83e",
   "execution_count": 122,
   "outputs": []
  },
  {
   "cell_type": "code",
   "source": [
    "df_padron.pop('TIPO_VEHICULO').head()"
   ],
   "metadata": {
    "collapsed": false,
    "ExecuteTime": {
     "end_time": "2024-02-05T19:47:27.142170931Z",
     "start_time": "2024-02-05T19:47:26.914895730Z"
    }
   },
   "id": "fdcef99ca2d14dcf",
   "execution_count": 123,
   "outputs": []
  },
  {
   "cell_type": "markdown",
   "source": [],
   "metadata": {
    "collapsed": false
   },
   "id": "2a6666868db156b7"
  },
  {
   "cell_type": "code",
   "source": [
    "df_padron.head()"
   ],
   "metadata": {
    "collapsed": false,
    "ExecuteTime": {
     "end_time": "2024-02-05T19:47:27.143200446Z",
     "start_time": "2024-02-05T19:47:26.938609304Z"
    }
   },
   "id": "5f7a44e1aa9ba821",
   "execution_count": 124,
   "outputs": []
  },
  {
   "cell_type": "code",
   "source": [
    "cod_veh = df_padron['ETIQUETA_MEDIOAMBIENTAL'].unique()\n",
    "tipo_veh = df_padron['CLASIFICACIÃ\\x93N_AMBIENTAL'].unique()\n",
    "for row in zip(cod_veh, tipo_veh):\n",
    "    print(row)"
   ],
   "metadata": {
    "collapsed": false,
    "ExecuteTime": {
     "end_time": "2024-02-05T19:47:27.143966202Z",
     "start_time": "2024-02-05T19:47:26.979680883Z"
    }
   },
   "id": "c17de10324a372eb",
   "execution_count": 125,
   "outputs": []
  },
  {
   "cell_type": "code",
   "source": [
    "df_padron['ETIQUETA_MEDIOAMBIENTAL'] = df_padron['ETIQUETA_MEDIOAMBIENTAL'].replace({'--': 'A'})\n",
    "df_padron['ETIQUETA_MEDIOAMBIENTAL'] = df_padron['ETIQUETA_MEDIOAMBIENTAL'].fillna('A')\n",
    "df_padron.pop('CLASIFICACIÃ\\x93N_AMBIENTAL').head()"
   ],
   "metadata": {
    "collapsed": false,
    "ExecuteTime": {
     "end_time": "2024-02-05T19:47:27.144646318Z",
     "start_time": "2024-02-05T19:47:27.023625610Z"
    }
   },
   "id": "1a1ce1fda5d6c2f2",
   "execution_count": 126,
   "outputs": []
  },
  {
   "cell_type": "code",
   "source": [
    "df_padron['COD_TIPO_PERSONA'].unique()"
   ],
   "metadata": {
    "collapsed": false,
    "ExecuteTime": {
     "end_time": "2024-02-05T19:47:27.145373090Z",
     "start_time": "2024-02-05T19:47:27.023773322Z"
    }
   },
   "id": "1f81502ff40b443d",
   "execution_count": 127,
   "outputs": []
  },
  {
   "cell_type": "code",
   "source": [
    "df_padron['COD_TIPO_PERSONA'] = df_padron['COD_TIPO_PERSONA'].replace({'E': 'S'})"
   ],
   "metadata": {
    "collapsed": false,
    "ExecuteTime": {
     "end_time": "2024-02-05T19:47:27.145961951Z",
     "start_time": "2024-02-05T19:47:27.023814536Z"
    }
   },
   "id": "46dce6212706610c",
   "execution_count": 128,
   "outputs": []
  },
  {
   "cell_type": "markdown",
   "source": [
    "Solo existe una fila con la O y no tiene una clasificación clara así que lo he tirado"
   ],
   "metadata": {
    "collapsed": false
   },
   "id": "e3f34386801d43e1"
  },
  {
   "cell_type": "code",
   "source": [
    "df_padron = df_padron.drop(df_padron[df_padron['COD_TIPO_PERSONA'] == 'O'].index)"
   ],
   "metadata": {
    "collapsed": false,
    "ExecuteTime": {
     "end_time": "2024-02-05T19:47:27.152878844Z",
     "start_time": "2024-02-05T19:47:27.030827585Z"
    }
   },
   "id": "a367a957b57bbb42",
   "execution_count": 129,
   "outputs": []
  },
  {
   "cell_type": "code",
   "source": [
    "df_padron.pop('TIPO_PERSONA').head()"
   ],
   "metadata": {
    "collapsed": false,
    "ExecuteTime": {
     "end_time": "2024-02-05T19:47:27.205235519Z",
     "start_time": "2024-02-05T19:47:27.053992296Z"
    }
   },
   "id": "78925878b47732fc",
   "execution_count": 130,
   "outputs": []
  },
  {
   "cell_type": "code",
   "source": [
    "df_padron[df_padron['COD_DISTRITO'] == 0]"
   ],
   "metadata": {
    "collapsed": false,
    "ExecuteTime": {
     "end_time": "2024-02-05T19:47:27.206404532Z",
     "start_time": "2024-02-05T19:47:27.086642281Z"
    }
   },
   "id": "8c5e5802eb35cc3",
   "execution_count": 131,
   "outputs": []
  },
  {
   "cell_type": "code",
   "source": [
    "df_padron['TIPO_CARBURANTE'].unique()"
   ],
   "metadata": {
    "collapsed": false,
    "ExecuteTime": {
     "end_time": "2024-02-05T19:47:27.209053451Z",
     "start_time": "2024-02-05T19:47:27.086769047Z"
    }
   },
   "id": "f360f910c3ae22a8",
   "execution_count": 132,
   "outputs": []
  },
  {
   "cell_type": "code",
   "source": [
    "df_padron['TIPO_CARBURANTE'] = df_padron['TIPO_CARBURANTE'].replace(\n",
    "    {'HÃBRIDO': 'HIBRIDO', 'ELÃCTRICO': 'ELECTRICO', 'Tipo carburante desconocido': 'DESCONOCIDO'})"
   ],
   "metadata": {
    "collapsed": false,
    "ExecuteTime": {
     "end_time": "2024-02-05T19:47:27.209900604Z",
     "start_time": "2024-02-05T19:47:27.127657269Z"
    }
   },
   "id": "cbfaaeb83e5cfa93",
   "execution_count": 133,
   "outputs": []
  },
  {
   "cell_type": "code",
   "source": [
    "df_padron.rename(columns={'AÃ\\x91O_MATRICULACIÃ\\x93N': 'Y_MATRICULACION'}, inplace=True)"
   ],
   "metadata": {
    "collapsed": false,
    "ExecuteTime": {
     "end_time": "2024-02-05T19:47:27.220388601Z",
     "start_time": "2024-02-05T19:47:27.127775409Z"
    }
   },
   "id": "fff4c6067826a6f7",
   "execution_count": 134,
   "outputs": []
  },
  {
   "cell_type": "code",
   "source": [
    "df_padron.head()"
   ],
   "metadata": {
    "collapsed": false,
    "ExecuteTime": {
     "end_time": "2024-02-05T19:47:27.223433126Z",
     "start_time": "2024-02-05T19:47:27.127818069Z"
    }
   },
   "id": "931f80c40a034f0b",
   "execution_count": 135,
   "outputs": []
  },
  {
   "cell_type": "markdown",
   "source": [
    "Vamos a clusterizar los datos ya que hay muchos repetidos"
   ],
   "metadata": {
    "collapsed": false
   },
   "id": "2a1fd9175e671420"
  },
  {
   "cell_type": "code",
   "source": [
    "df_padron.pop('CUOTA').head()"
   ],
   "metadata": {
    "collapsed": false,
    "ExecuteTime": {
     "end_time": "2024-02-05T19:47:27.348112533Z",
     "start_time": "2024-02-05T19:47:27.205875867Z"
    }
   },
   "id": "dd11fadba64eef6d",
   "execution_count": 136,
   "outputs": []
  },
  {
   "cell_type": "code",
   "source": [
    "df_padron['OCURRENCIAS'] = 0"
   ],
   "metadata": {
    "collapsed": false,
    "ExecuteTime": {
     "end_time": "2024-02-05T19:47:27.665263527Z",
     "start_time": "2024-02-05T19:47:27.338992892Z"
    }
   },
   "id": "e8f900f4055561ac",
   "execution_count": 137,
   "outputs": []
  },
  {
   "cell_type": "code",
   "source": [
    "vehicles = df_padron.groupby(\n",
    "    ['COD_TIPO_PERSONA', 'COD_DISTRITO', 'COD_TIPO_VEHICULO', 'ETIQUETA_MEDIOAMBIENTAL', 'TIPO_CARBURANTE',\n",
    "     'Y_MATRICULACION']).count()"
   ],
   "metadata": {
    "collapsed": false,
    "ExecuteTime": {
     "end_time": "2024-02-05T19:47:27.922392028Z",
     "start_time": "2024-02-05T19:47:27.453152566Z"
    }
   },
   "id": "5d28ffc10b9610ca",
   "execution_count": 138,
   "outputs": []
  },
  {
   "cell_type": "code",
   "source": [
    "vehicles.reset_index(inplace=True)"
   ],
   "metadata": {
    "collapsed": false,
    "ExecuteTime": {
     "end_time": "2024-02-05T19:47:28.036672410Z",
     "start_time": "2024-02-05T19:47:27.925395315Z"
    }
   },
   "id": "26e49d6e3cd4b618",
   "execution_count": 139,
   "outputs": []
  },
  {
   "cell_type": "code",
   "source": [
    "vehicles['Y_MATRICULACION'] = vehicles['Y_MATRICULACION'].replace({'Desconocido':-1})"
   ],
   "metadata": {
    "collapsed": false,
    "ExecuteTime": {
     "end_time": "2024-02-05T19:47:28.096621895Z",
     "start_time": "2024-02-05T19:47:28.035731997Z"
    }
   },
   "id": "d2f6c7a7ec093b35",
   "execution_count": 140,
   "outputs": []
  },
  {
   "cell_type": "code",
   "source": [
    "vehicles.head()"
   ],
   "metadata": {
    "collapsed": false,
    "ExecuteTime": {
     "end_time": "2024-02-05T19:47:28.194622199Z",
     "start_time": "2024-02-05T19:47:28.091086094Z"
    }
   },
   "id": "994d61e0a33f8d85",
   "execution_count": 141,
   "outputs": []
  },
  {
   "cell_type": "code",
   "source": [
    "connector = MySQLConnector('localhost', 'root', 'root', 'TNT')\n",
    "connector.connect()"
   ],
   "metadata": {
    "collapsed": false,
    "ExecuteTime": {
     "end_time": "2024-02-05T19:47:28.254171829Z",
     "start_time": "2024-02-05T19:47:28.194476388Z"
    }
   },
   "id": "d1e7a4d3549fbbad",
   "execution_count": 142,
   "outputs": []
  },
  {
   "cell_type": "code",
   "source": [
    "import uuid\n",
    "i = 0\n",
    "for index, row in vehicles.iterrows():\n",
    "    i = i + 1\n",
    "    try:\n",
    "        id = uuid.uuid4()\n",
    "        owner_type = row['COD_TIPO_PERSONA']\n",
    "        district_code = row['COD_DISTRITO']\n",
    "        vehicle_type = row['COD_TIPO_VEHICULO']\n",
    "        sticker = row['ETIQUETA_MEDIOAMBIENTAL']\n",
    "        fuel_type = row['TIPO_CARBURANTE']\n",
    "        year_matriculation = row['Y_MATRICULACION']\n",
    "        num_ocurrence = row['OCURRENCIAS']\n",
    "    \n",
    "        # Construir la sentencia SQL INSERT\n",
    "        insert_query = f\"INSERT INTO Vehicles (id, owner_type, district_code, vehicle_type, sticker, fuel_type, year_matriculation, num_ocurrence) VALUES ('{id}', '{owner_type}', {district_code}, '{vehicle_type}', '{sticker}', '{fuel_type}', {year_matriculation}, {num_ocurrence});\"\n",
    "        connector.execute_query(insert_query)\n",
    "        \n",
    "        print(f\"Inserting row: {index}, item: {i}\")\n",
    "    except Exception as e:\n",
    "        print(e)\n"
   ],
   "metadata": {
    "collapsed": false,
    "ExecuteTime": {
     "end_time": "2024-02-05T19:55:06.744206108Z",
     "start_time": "2024-02-05T19:47:28.253657419Z"
    }
   },
   "id": "2c5f3797adace157",
   "execution_count": 143,
   "outputs": []
  },
  {
   "cell_type": "code",
   "source": [
    "connector.close()"
   ],
   "metadata": {
    "collapsed": false,
    "ExecuteTime": {
     "end_time": "2024-02-05T19:55:06.746035787Z",
     "start_time": "2024-02-05T19:55:06.735993970Z"
    }
   },
   "id": "f6348d82d23f3423",
   "execution_count": 144,
   "outputs": []
  }
 ],
 "metadata": {
  "kernelspec": {
   "display_name": "Python 3",
   "language": "python",
   "name": "python3"
  },
  "language_info": {
   "codemirror_mode": {
    "name": "ipython",
    "version": 2
   },
   "file_extension": ".py",
   "mimetype": "text/x-python",
   "name": "python",
   "nbconvert_exporter": "python",
   "pygments_lexer": "ipython2",
   "version": "2.7.6"
  }
 },
 "nbformat": 4,
 "nbformat_minor": 5
}
