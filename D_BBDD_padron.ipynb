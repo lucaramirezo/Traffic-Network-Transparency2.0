{
 "cells": [
  {
   "cell_type": "code",
   "execution_count": 139,
   "id": "initial_id",
   "metadata": {
    "collapsed": true,
    "ExecuteTime": {
     "end_time": "2024-02-05T17:57:18.727684174Z",
     "start_time": "2024-02-05T17:57:18.645774669Z"
    }
   },
   "outputs": [],
   "source": [
    "import uuid\n",
    "import pandas as pd\n",
    "import seaborn as sns\n",
    "import matplotlib.pyplot as plt\n",
    "import my_connector\n",
    "from datetime import datetime\n",
    "from my_connector import MySQLConnector"
   ]
  },
  {
   "cell_type": "markdown",
   "source": [
    "# Limpieza"
   ],
   "metadata": {
    "collapsed": false
   },
   "id": "842b8b52d1bbdde5"
  },
  {
   "cell_type": "code",
   "outputs": [],
   "source": [
    "df = pd.read_csv(\"Datasets/padron22.csv\", low_memory=False, encoding='UTF-8')"
   ],
   "metadata": {
    "collapsed": false,
    "ExecuteTime": {
     "end_time": "2024-02-05T17:57:18.957573690Z",
     "start_time": "2024-02-05T17:57:18.730187395Z"
    }
   },
   "id": "587a6fa810e1109c",
   "execution_count": 140
  },
  {
   "cell_type": "code",
   "outputs": [
    {
     "data": {
      "text/plain": "   Ï»¿EJERICIO COD_TIPO_PERSONA                    TIPO_PERSONA  COD_DISTRITO  \\\n0         2022                E  Ente sin Personalidad Art 35.4             0   \n1         2022                E  Ente sin Personalidad Art 35.4             0   \n2         2022                E  Ente sin Personalidad Art 35.4             0   \n3         2022                E  Ente sin Personalidad Art 35.4             0   \n4         2022                E  Ente sin Personalidad Art 35.4             0   \n\n  DISTRITO  COD_BARRIO BARRIO COD_TIPO_VEHICULO TIPO_VEHICULO  \\\n0       --           0     --                CA        CAMION   \n1       --           0     --                CA        CAMION   \n2       --           0     --                CA        CAMION   \n3       --           0     --                CA        CAMION   \n4       --           0     --                CA        CAMION   \n\n  ETIQUETA_MEDIOAMBIENTAL      CLASIFICACIÃN_AMBIENTAL  CUOTA  \\\n0                      --  Sin clasificaciÃ³n ambiental   73.0   \n1                      --  Sin clasificaciÃ³n ambiental   73.0   \n2                      --  Sin clasificaciÃ³n ambiental   73.0   \n3                      --  Sin clasificaciÃ³n ambiental   73.0   \n4                      --  Sin clasificaciÃ³n ambiental   73.0   \n\n               TIPO_CARBURANTE AÃO_MATRICULACIÃN  CONTADOR  \n0  Tipo carburante desconocido                2013         1  \n1                       DIESEL                2006         1  \n2                       DIESEL                2007         1  \n3                       DIESEL                2009         1  \n4                       DIESEL                2015         1  ",
      "text/html": "<div>\n<style scoped>\n    .dataframe tbody tr th:only-of-type {\n        vertical-align: middle;\n    }\n\n    .dataframe tbody tr th {\n        vertical-align: top;\n    }\n\n    .dataframe thead th {\n        text-align: right;\n    }\n</style>\n<table border=\"1\" class=\"dataframe\">\n  <thead>\n    <tr style=\"text-align: right;\">\n      <th></th>\n      <th>Ï»¿EJERICIO</th>\n      <th>COD_TIPO_PERSONA</th>\n      <th>TIPO_PERSONA</th>\n      <th>COD_DISTRITO</th>\n      <th>DISTRITO</th>\n      <th>COD_BARRIO</th>\n      <th>BARRIO</th>\n      <th>COD_TIPO_VEHICULO</th>\n      <th>TIPO_VEHICULO</th>\n      <th>ETIQUETA_MEDIOAMBIENTAL</th>\n      <th>CLASIFICACIÃN_AMBIENTAL</th>\n      <th>CUOTA</th>\n      <th>TIPO_CARBURANTE</th>\n      <th>AÃO_MATRICULACIÃN</th>\n      <th>CONTADOR</th>\n    </tr>\n  </thead>\n  <tbody>\n    <tr>\n      <th>0</th>\n      <td>2022</td>\n      <td>E</td>\n      <td>Ente sin Personalidad Art 35.4</td>\n      <td>0</td>\n      <td>--</td>\n      <td>0</td>\n      <td>--</td>\n      <td>CA</td>\n      <td>CAMION</td>\n      <td>--</td>\n      <td>Sin clasificaciÃ³n ambiental</td>\n      <td>73.0</td>\n      <td>Tipo carburante desconocido</td>\n      <td>2013</td>\n      <td>1</td>\n    </tr>\n    <tr>\n      <th>1</th>\n      <td>2022</td>\n      <td>E</td>\n      <td>Ente sin Personalidad Art 35.4</td>\n      <td>0</td>\n      <td>--</td>\n      <td>0</td>\n      <td>--</td>\n      <td>CA</td>\n      <td>CAMION</td>\n      <td>--</td>\n      <td>Sin clasificaciÃ³n ambiental</td>\n      <td>73.0</td>\n      <td>DIESEL</td>\n      <td>2006</td>\n      <td>1</td>\n    </tr>\n    <tr>\n      <th>2</th>\n      <td>2022</td>\n      <td>E</td>\n      <td>Ente sin Personalidad Art 35.4</td>\n      <td>0</td>\n      <td>--</td>\n      <td>0</td>\n      <td>--</td>\n      <td>CA</td>\n      <td>CAMION</td>\n      <td>--</td>\n      <td>Sin clasificaciÃ³n ambiental</td>\n      <td>73.0</td>\n      <td>DIESEL</td>\n      <td>2007</td>\n      <td>1</td>\n    </tr>\n    <tr>\n      <th>3</th>\n      <td>2022</td>\n      <td>E</td>\n      <td>Ente sin Personalidad Art 35.4</td>\n      <td>0</td>\n      <td>--</td>\n      <td>0</td>\n      <td>--</td>\n      <td>CA</td>\n      <td>CAMION</td>\n      <td>--</td>\n      <td>Sin clasificaciÃ³n ambiental</td>\n      <td>73.0</td>\n      <td>DIESEL</td>\n      <td>2009</td>\n      <td>1</td>\n    </tr>\n    <tr>\n      <th>4</th>\n      <td>2022</td>\n      <td>E</td>\n      <td>Ente sin Personalidad Art 35.4</td>\n      <td>0</td>\n      <td>--</td>\n      <td>0</td>\n      <td>--</td>\n      <td>CA</td>\n      <td>CAMION</td>\n      <td>--</td>\n      <td>Sin clasificaciÃ³n ambiental</td>\n      <td>73.0</td>\n      <td>DIESEL</td>\n      <td>2015</td>\n      <td>1</td>\n    </tr>\n  </tbody>\n</table>\n</div>"
     },
     "execution_count": 141,
     "metadata": {},
     "output_type": "execute_result"
    }
   ],
   "source": [
    "df.head()"
   ],
   "metadata": {
    "collapsed": false,
    "ExecuteTime": {
     "end_time": "2024-02-05T17:57:19.002393937Z",
     "start_time": "2024-02-05T17:57:18.958992787Z"
    }
   },
   "id": "fff9203ce301936d",
   "execution_count": 141
  },
  {
   "cell_type": "code",
   "outputs": [
    {
     "data": {
      "text/plain": "    Ï»¿EJERICIO COD_TIPO_PERSONA                    TIPO_PERSONA  \\\n0          2022                E  Ente sin Personalidad Art 35.4   \n1          2022                E  Ente sin Personalidad Art 35.4   \n2          2022                E  Ente sin Personalidad Art 35.4   \n3          2022                E  Ente sin Personalidad Art 35.4   \n4          2022                E  Ente sin Personalidad Art 35.4   \n5          2022                E  Ente sin Personalidad Art 35.4   \n6          2022                E  Ente sin Personalidad Art 35.4   \n7          2022                E  Ente sin Personalidad Art 35.4   \n8          2022                E  Ente sin Personalidad Art 35.4   \n9          2022                E  Ente sin Personalidad Art 35.4   \n10         2022                E  Ente sin Personalidad Art 35.4   \n11         2022                E  Ente sin Personalidad Art 35.4   \n12         2022                E  Ente sin Personalidad Art 35.4   \n13         2022                E  Ente sin Personalidad Art 35.4   \n14         2022                E  Ente sin Personalidad Art 35.4   \n15         2022                E  Ente sin Personalidad Art 35.4   \n16         2022                E  Ente sin Personalidad Art 35.4   \n17         2022                E  Ente sin Personalidad Art 35.4   \n18         2022                E  Ente sin Personalidad Art 35.4   \n19         2022                E  Ente sin Personalidad Art 35.4   \n\n    COD_DISTRITO DISTRITO  COD_BARRIO BARRIO COD_TIPO_VEHICULO TIPO_VEHICULO  \\\n0              0       --           0     --                CA        CAMION   \n1              0       --           0     --                CA        CAMION   \n2              0       --           0     --                CA        CAMION   \n3              0       --           0     --                CA        CAMION   \n4              0       --           0     --                CA        CAMION   \n5              0       --           0     --                CA        CAMION   \n6              0       --           0     --                CA        CAMION   \n7              0       --           0     --                CA        CAMION   \n8              0       --           0     --                CA        CAMION   \n9              0       --           0     --                CA        CAMION   \n10             0       --           0     --                CA        CAMION   \n11             0       --           0     --                MT   MOTOCICLETA   \n12             0       --           0     --                MT   MOTOCICLETA   \n13             0       --           0     --                MT   MOTOCICLETA   \n14             0       --           0     --                MT   MOTOCICLETA   \n15             0       --           0     --                MT   MOTOCICLETA   \n16             0       --           0     --                RE         OTROS   \n17             0       --           0     --                RE         OTROS   \n18             0       --           0     --                RE         OTROS   \n19             0       --           0     --                RE         OTROS   \n\n   ETIQUETA_MEDIOAMBIENTAL      CLASIFICACIÃN_AMBIENTAL  CUOTA  \\\n0                       --  Sin clasificaciÃ³n ambiental   73.0   \n1                       --  Sin clasificaciÃ³n ambiental   73.0   \n2                       --  Sin clasificaciÃ³n ambiental   73.0   \n3                       --  Sin clasificaciÃ³n ambiental   73.0   \n4                       --  Sin clasificaciÃ³n ambiental   73.0   \n5                       --  Sin clasificaciÃ³n ambiental  149.0   \n6                        B                    Etiqueta B   73.0   \n7                        B                    Etiqueta B  149.0   \n8                        C                    Etiqueta C   73.0   \n9                        C                    Etiqueta C  149.0   \n10                     NaN      Sin distintivo Ambiental   73.0   \n11                      --  Sin clasificaciÃ³n ambiental    7.0   \n12                      --  Sin clasificaciÃ³n ambiental    7.0   \n13                      --  Sin clasificaciÃ³n ambiental   12.0   \n14                      --  Sin clasificaciÃ³n ambiental   27.0   \n15                      --  Sin clasificaciÃ³n ambiental   60.0   \n16                      --  Sin clasificaciÃ³n ambiental   50.0   \n17                      --  Sin clasificaciÃ³n ambiental  149.0   \n18                     NaN      Sin distintivo Ambiental    0.0   \n19                     NaN      Sin distintivo Ambiental  149.0   \n\n                TIPO_CARBURANTE AÃO_MATRICULACIÃN  CONTADOR  \n0   Tipo carburante desconocido                2013         1  \n1                        DIESEL                2006         1  \n2                        DIESEL                2007         1  \n3                        DIESEL                2009         1  \n4                        DIESEL                2015         1  \n5                        DIESEL                2010         1  \n6                        DIESEL                2015         1  \n7                        DIESEL                2014         1  \n8                        DIESEL                2018         2  \n9                        DIESEL                2019         3  \n10                       DIESEL                1999         1  \n11  Tipo carburante desconocido         Desconocido        11  \n12                     GASOLINA                2012         1  \n13  Tipo carburante desconocido         Desconocido         4  \n14  Tipo carburante desconocido         Desconocido         4  \n15  Tipo carburante desconocido         Desconocido         4  \n16  Tipo carburante desconocido                1990         1  \n17  Tipo carburante desconocido         Desconocido         2  \n18  Tipo carburante desconocido                2021         1  \n19  Tipo carburante desconocido                2005         1  ",
      "text/html": "<div>\n<style scoped>\n    .dataframe tbody tr th:only-of-type {\n        vertical-align: middle;\n    }\n\n    .dataframe tbody tr th {\n        vertical-align: top;\n    }\n\n    .dataframe thead th {\n        text-align: right;\n    }\n</style>\n<table border=\"1\" class=\"dataframe\">\n  <thead>\n    <tr style=\"text-align: right;\">\n      <th></th>\n      <th>Ï»¿EJERICIO</th>\n      <th>COD_TIPO_PERSONA</th>\n      <th>TIPO_PERSONA</th>\n      <th>COD_DISTRITO</th>\n      <th>DISTRITO</th>\n      <th>COD_BARRIO</th>\n      <th>BARRIO</th>\n      <th>COD_TIPO_VEHICULO</th>\n      <th>TIPO_VEHICULO</th>\n      <th>ETIQUETA_MEDIOAMBIENTAL</th>\n      <th>CLASIFICACIÃN_AMBIENTAL</th>\n      <th>CUOTA</th>\n      <th>TIPO_CARBURANTE</th>\n      <th>AÃO_MATRICULACIÃN</th>\n      <th>CONTADOR</th>\n    </tr>\n  </thead>\n  <tbody>\n    <tr>\n      <th>0</th>\n      <td>2022</td>\n      <td>E</td>\n      <td>Ente sin Personalidad Art 35.4</td>\n      <td>0</td>\n      <td>--</td>\n      <td>0</td>\n      <td>--</td>\n      <td>CA</td>\n      <td>CAMION</td>\n      <td>--</td>\n      <td>Sin clasificaciÃ³n ambiental</td>\n      <td>73.0</td>\n      <td>Tipo carburante desconocido</td>\n      <td>2013</td>\n      <td>1</td>\n    </tr>\n    <tr>\n      <th>1</th>\n      <td>2022</td>\n      <td>E</td>\n      <td>Ente sin Personalidad Art 35.4</td>\n      <td>0</td>\n      <td>--</td>\n      <td>0</td>\n      <td>--</td>\n      <td>CA</td>\n      <td>CAMION</td>\n      <td>--</td>\n      <td>Sin clasificaciÃ³n ambiental</td>\n      <td>73.0</td>\n      <td>DIESEL</td>\n      <td>2006</td>\n      <td>1</td>\n    </tr>\n    <tr>\n      <th>2</th>\n      <td>2022</td>\n      <td>E</td>\n      <td>Ente sin Personalidad Art 35.4</td>\n      <td>0</td>\n      <td>--</td>\n      <td>0</td>\n      <td>--</td>\n      <td>CA</td>\n      <td>CAMION</td>\n      <td>--</td>\n      <td>Sin clasificaciÃ³n ambiental</td>\n      <td>73.0</td>\n      <td>DIESEL</td>\n      <td>2007</td>\n      <td>1</td>\n    </tr>\n    <tr>\n      <th>3</th>\n      <td>2022</td>\n      <td>E</td>\n      <td>Ente sin Personalidad Art 35.4</td>\n      <td>0</td>\n      <td>--</td>\n      <td>0</td>\n      <td>--</td>\n      <td>CA</td>\n      <td>CAMION</td>\n      <td>--</td>\n      <td>Sin clasificaciÃ³n ambiental</td>\n      <td>73.0</td>\n      <td>DIESEL</td>\n      <td>2009</td>\n      <td>1</td>\n    </tr>\n    <tr>\n      <th>4</th>\n      <td>2022</td>\n      <td>E</td>\n      <td>Ente sin Personalidad Art 35.4</td>\n      <td>0</td>\n      <td>--</td>\n      <td>0</td>\n      <td>--</td>\n      <td>CA</td>\n      <td>CAMION</td>\n      <td>--</td>\n      <td>Sin clasificaciÃ³n ambiental</td>\n      <td>73.0</td>\n      <td>DIESEL</td>\n      <td>2015</td>\n      <td>1</td>\n    </tr>\n    <tr>\n      <th>5</th>\n      <td>2022</td>\n      <td>E</td>\n      <td>Ente sin Personalidad Art 35.4</td>\n      <td>0</td>\n      <td>--</td>\n      <td>0</td>\n      <td>--</td>\n      <td>CA</td>\n      <td>CAMION</td>\n      <td>--</td>\n      <td>Sin clasificaciÃ³n ambiental</td>\n      <td>149.0</td>\n      <td>DIESEL</td>\n      <td>2010</td>\n      <td>1</td>\n    </tr>\n    <tr>\n      <th>6</th>\n      <td>2022</td>\n      <td>E</td>\n      <td>Ente sin Personalidad Art 35.4</td>\n      <td>0</td>\n      <td>--</td>\n      <td>0</td>\n      <td>--</td>\n      <td>CA</td>\n      <td>CAMION</td>\n      <td>B</td>\n      <td>Etiqueta B</td>\n      <td>73.0</td>\n      <td>DIESEL</td>\n      <td>2015</td>\n      <td>1</td>\n    </tr>\n    <tr>\n      <th>7</th>\n      <td>2022</td>\n      <td>E</td>\n      <td>Ente sin Personalidad Art 35.4</td>\n      <td>0</td>\n      <td>--</td>\n      <td>0</td>\n      <td>--</td>\n      <td>CA</td>\n      <td>CAMION</td>\n      <td>B</td>\n      <td>Etiqueta B</td>\n      <td>149.0</td>\n      <td>DIESEL</td>\n      <td>2014</td>\n      <td>1</td>\n    </tr>\n    <tr>\n      <th>8</th>\n      <td>2022</td>\n      <td>E</td>\n      <td>Ente sin Personalidad Art 35.4</td>\n      <td>0</td>\n      <td>--</td>\n      <td>0</td>\n      <td>--</td>\n      <td>CA</td>\n      <td>CAMION</td>\n      <td>C</td>\n      <td>Etiqueta C</td>\n      <td>73.0</td>\n      <td>DIESEL</td>\n      <td>2018</td>\n      <td>2</td>\n    </tr>\n    <tr>\n      <th>9</th>\n      <td>2022</td>\n      <td>E</td>\n      <td>Ente sin Personalidad Art 35.4</td>\n      <td>0</td>\n      <td>--</td>\n      <td>0</td>\n      <td>--</td>\n      <td>CA</td>\n      <td>CAMION</td>\n      <td>C</td>\n      <td>Etiqueta C</td>\n      <td>149.0</td>\n      <td>DIESEL</td>\n      <td>2019</td>\n      <td>3</td>\n    </tr>\n    <tr>\n      <th>10</th>\n      <td>2022</td>\n      <td>E</td>\n      <td>Ente sin Personalidad Art 35.4</td>\n      <td>0</td>\n      <td>--</td>\n      <td>0</td>\n      <td>--</td>\n      <td>CA</td>\n      <td>CAMION</td>\n      <td>NaN</td>\n      <td>Sin distintivo Ambiental</td>\n      <td>73.0</td>\n      <td>DIESEL</td>\n      <td>1999</td>\n      <td>1</td>\n    </tr>\n    <tr>\n      <th>11</th>\n      <td>2022</td>\n      <td>E</td>\n      <td>Ente sin Personalidad Art 35.4</td>\n      <td>0</td>\n      <td>--</td>\n      <td>0</td>\n      <td>--</td>\n      <td>MT</td>\n      <td>MOTOCICLETA</td>\n      <td>--</td>\n      <td>Sin clasificaciÃ³n ambiental</td>\n      <td>7.0</td>\n      <td>Tipo carburante desconocido</td>\n      <td>Desconocido</td>\n      <td>11</td>\n    </tr>\n    <tr>\n      <th>12</th>\n      <td>2022</td>\n      <td>E</td>\n      <td>Ente sin Personalidad Art 35.4</td>\n      <td>0</td>\n      <td>--</td>\n      <td>0</td>\n      <td>--</td>\n      <td>MT</td>\n      <td>MOTOCICLETA</td>\n      <td>--</td>\n      <td>Sin clasificaciÃ³n ambiental</td>\n      <td>7.0</td>\n      <td>GASOLINA</td>\n      <td>2012</td>\n      <td>1</td>\n    </tr>\n    <tr>\n      <th>13</th>\n      <td>2022</td>\n      <td>E</td>\n      <td>Ente sin Personalidad Art 35.4</td>\n      <td>0</td>\n      <td>--</td>\n      <td>0</td>\n      <td>--</td>\n      <td>MT</td>\n      <td>MOTOCICLETA</td>\n      <td>--</td>\n      <td>Sin clasificaciÃ³n ambiental</td>\n      <td>12.0</td>\n      <td>Tipo carburante desconocido</td>\n      <td>Desconocido</td>\n      <td>4</td>\n    </tr>\n    <tr>\n      <th>14</th>\n      <td>2022</td>\n      <td>E</td>\n      <td>Ente sin Personalidad Art 35.4</td>\n      <td>0</td>\n      <td>--</td>\n      <td>0</td>\n      <td>--</td>\n      <td>MT</td>\n      <td>MOTOCICLETA</td>\n      <td>--</td>\n      <td>Sin clasificaciÃ³n ambiental</td>\n      <td>27.0</td>\n      <td>Tipo carburante desconocido</td>\n      <td>Desconocido</td>\n      <td>4</td>\n    </tr>\n    <tr>\n      <th>15</th>\n      <td>2022</td>\n      <td>E</td>\n      <td>Ente sin Personalidad Art 35.4</td>\n      <td>0</td>\n      <td>--</td>\n      <td>0</td>\n      <td>--</td>\n      <td>MT</td>\n      <td>MOTOCICLETA</td>\n      <td>--</td>\n      <td>Sin clasificaciÃ³n ambiental</td>\n      <td>60.0</td>\n      <td>Tipo carburante desconocido</td>\n      <td>Desconocido</td>\n      <td>4</td>\n    </tr>\n    <tr>\n      <th>16</th>\n      <td>2022</td>\n      <td>E</td>\n      <td>Ente sin Personalidad Art 35.4</td>\n      <td>0</td>\n      <td>--</td>\n      <td>0</td>\n      <td>--</td>\n      <td>RE</td>\n      <td>OTROS</td>\n      <td>--</td>\n      <td>Sin clasificaciÃ³n ambiental</td>\n      <td>50.0</td>\n      <td>Tipo carburante desconocido</td>\n      <td>1990</td>\n      <td>1</td>\n    </tr>\n    <tr>\n      <th>17</th>\n      <td>2022</td>\n      <td>E</td>\n      <td>Ente sin Personalidad Art 35.4</td>\n      <td>0</td>\n      <td>--</td>\n      <td>0</td>\n      <td>--</td>\n      <td>RE</td>\n      <td>OTROS</td>\n      <td>--</td>\n      <td>Sin clasificaciÃ³n ambiental</td>\n      <td>149.0</td>\n      <td>Tipo carburante desconocido</td>\n      <td>Desconocido</td>\n      <td>2</td>\n    </tr>\n    <tr>\n      <th>18</th>\n      <td>2022</td>\n      <td>E</td>\n      <td>Ente sin Personalidad Art 35.4</td>\n      <td>0</td>\n      <td>--</td>\n      <td>0</td>\n      <td>--</td>\n      <td>RE</td>\n      <td>OTROS</td>\n      <td>NaN</td>\n      <td>Sin distintivo Ambiental</td>\n      <td>0.0</td>\n      <td>Tipo carburante desconocido</td>\n      <td>2021</td>\n      <td>1</td>\n    </tr>\n    <tr>\n      <th>19</th>\n      <td>2022</td>\n      <td>E</td>\n      <td>Ente sin Personalidad Art 35.4</td>\n      <td>0</td>\n      <td>--</td>\n      <td>0</td>\n      <td>--</td>\n      <td>RE</td>\n      <td>OTROS</td>\n      <td>NaN</td>\n      <td>Sin distintivo Ambiental</td>\n      <td>149.0</td>\n      <td>Tipo carburante desconocido</td>\n      <td>2005</td>\n      <td>1</td>\n    </tr>\n  </tbody>\n</table>\n</div>"
     },
     "execution_count": 142,
     "metadata": {},
     "output_type": "execute_result"
    }
   ],
   "source": [
    "df.head(20)"
   ],
   "metadata": {
    "collapsed": false,
    "ExecuteTime": {
     "end_time": "2024-02-05T17:57:19.003957386Z",
     "start_time": "2024-02-05T17:57:19.001824700Z"
    }
   },
   "id": "88e22828ccc75d70",
   "execution_count": 142
  },
  {
   "cell_type": "markdown",
   "source": [
    "Tiramos las columnas que no podemos utilizar para cruzar con accidentalidad. Así como los datos repetidos"
   ],
   "metadata": {
    "collapsed": false
   },
   "id": "7681d94dfc185245"
  },
  {
   "cell_type": "code",
   "outputs": [],
   "source": [
    "df.drop(columns=['Ï»¿EJERICIO','DISTRITO', 'BARRIO', 'COD_BARRIO', 'CONTADOR'], inplace=True)"
   ],
   "metadata": {
    "collapsed": false,
    "ExecuteTime": {
     "end_time": "2024-02-05T17:57:19.119056507Z",
     "start_time": "2024-02-05T17:57:19.002185298Z"
    }
   },
   "id": "d397b3a9e0fc759f",
   "execution_count": 143
  },
  {
   "cell_type": "markdown",
   "source": [
    "Arreglamos los códigos para que tengan sentido"
   ],
   "metadata": {
    "collapsed": false
   },
   "id": "d7d6419a80fe9c12"
  },
  {
   "cell_type": "code",
   "outputs": [],
   "source": [
    "cod_veh = df['COD_TIPO_VEHICULO'].unique()\n",
    "tipo_veh = df['TIPO_VEHICULO'].unique()"
   ],
   "metadata": {
    "collapsed": false,
    "ExecuteTime": {
     "end_time": "2024-02-05T17:57:19.119792904Z",
     "start_time": "2024-02-05T17:57:19.049619055Z"
    }
   },
   "id": "ecea508b0a0300d5",
   "execution_count": 144
  },
  {
   "cell_type": "code",
   "outputs": [
    {
     "data": {
      "text/plain": "array(['CA', 'MT', 'RE', 'TR', 'TU', 'CI', 'AU', 'SE'], dtype=object)"
     },
     "execution_count": 145,
     "metadata": {},
     "output_type": "execute_result"
    }
   ],
   "source": [
    "cod_veh"
   ],
   "metadata": {
    "collapsed": false,
    "ExecuteTime": {
     "end_time": "2024-02-05T17:57:19.120376709Z",
     "start_time": "2024-02-05T17:57:19.049728680Z"
    }
   },
   "id": "924e247a081b469c",
   "execution_count": 145
  },
  {
   "cell_type": "code",
   "outputs": [
    {
     "data": {
      "text/plain": "array(['CAMION', 'MOTOCICLETA', 'OTROS', 'TURISMO'], dtype=object)"
     },
     "execution_count": 146,
     "metadata": {},
     "output_type": "execute_result"
    }
   ],
   "source": [
    "tipo_veh"
   ],
   "metadata": {
    "collapsed": false,
    "ExecuteTime": {
     "end_time": "2024-02-05T17:57:19.120934087Z",
     "start_time": "2024-02-05T17:57:19.049769947Z"
    }
   },
   "id": "9333faa383c98bb6",
   "execution_count": 146
  },
  {
   "cell_type": "code",
   "outputs": [
    {
     "name": "stdout",
     "output_type": "stream",
     "text": [
      "('CA', 'CAMION')\n",
      "('MT', 'MOTOCICLETA')\n",
      "('RE', 'OTROS')\n",
      "('TR', 'TURISMO')\n"
     ]
    }
   ],
   "source": [
    "for row in zip(cod_veh, tipo_veh):\n",
    "    print(row)"
   ],
   "metadata": {
    "collapsed": false,
    "ExecuteTime": {
     "end_time": "2024-02-05T17:57:19.188704505Z",
     "start_time": "2024-02-05T17:57:19.054687972Z"
    }
   },
   "id": "d5352402473be71f",
   "execution_count": 147
  },
  {
   "cell_type": "code",
   "outputs": [],
   "source": [
    "df['COD_TIPO_VEHICULO'] = df['COD_TIPO_VEHICULO'].replace({'CA': 'C', 'MT': 'M', 'RE': 'O', 'TR': 'T'})"
   ],
   "metadata": {
    "collapsed": false,
    "ExecuteTime": {
     "end_time": "2024-02-05T17:57:19.191753091Z",
     "start_time": "2024-02-05T17:57:19.097686457Z"
    }
   },
   "id": "c3e6bbd5a741bc27",
   "execution_count": 148
  },
  {
   "cell_type": "code",
   "outputs": [
    {
     "name": "stdout",
     "output_type": "stream",
     "text": [
      "('C', 'CAMION')\n",
      "('M', 'MOTOCICLETA')\n",
      "('O', 'OTROS')\n",
      "('T', 'TURISMO')\n"
     ]
    }
   ],
   "source": [
    "cod_veh = df['COD_TIPO_VEHICULO'].unique()\n",
    "tipo_veh = df['TIPO_VEHICULO'].unique()\n",
    "for row in zip(cod_veh, tipo_veh):\n",
    "    print(row)"
   ],
   "metadata": {
    "collapsed": false,
    "ExecuteTime": {
     "end_time": "2024-02-05T17:57:19.192299883Z",
     "start_time": "2024-02-05T17:57:19.141679492Z"
    }
   },
   "id": "94865c333698a83e",
   "execution_count": 149
  },
  {
   "cell_type": "code",
   "outputs": [
    {
     "data": {
      "text/plain": "0    CAMION\n1    CAMION\n2    CAMION\n3    CAMION\n4    CAMION\nName: TIPO_VEHICULO, dtype: object"
     },
     "execution_count": 150,
     "metadata": {},
     "output_type": "execute_result"
    }
   ],
   "source": [
    "df.pop('TIPO_VEHICULO').head()"
   ],
   "metadata": {
    "collapsed": false,
    "ExecuteTime": {
     "end_time": "2024-02-05T17:57:19.198167142Z",
     "start_time": "2024-02-05T17:57:19.141853658Z"
    }
   },
   "id": "fdcef99ca2d14dcf",
   "execution_count": 150
  },
  {
   "cell_type": "markdown",
   "source": [],
   "metadata": {
    "collapsed": false
   },
   "id": "2a6666868db156b7"
  },
  {
   "cell_type": "code",
   "outputs": [
    {
     "data": {
      "text/plain": "  COD_TIPO_PERSONA                    TIPO_PERSONA  COD_DISTRITO  \\\n0                E  Ente sin Personalidad Art 35.4             0   \n1                E  Ente sin Personalidad Art 35.4             0   \n2                E  Ente sin Personalidad Art 35.4             0   \n3                E  Ente sin Personalidad Art 35.4             0   \n4                E  Ente sin Personalidad Art 35.4             0   \n\n  COD_TIPO_VEHICULO ETIQUETA_MEDIOAMBIENTAL      CLASIFICACIÃN_AMBIENTAL  \\\n0                 C                      --  Sin clasificaciÃ³n ambiental   \n1                 C                      --  Sin clasificaciÃ³n ambiental   \n2                 C                      --  Sin clasificaciÃ³n ambiental   \n3                 C                      --  Sin clasificaciÃ³n ambiental   \n4                 C                      --  Sin clasificaciÃ³n ambiental   \n\n   CUOTA              TIPO_CARBURANTE AÃO_MATRICULACIÃN  \n0   73.0  Tipo carburante desconocido                2013  \n1   73.0                       DIESEL                2006  \n2   73.0                       DIESEL                2007  \n3   73.0                       DIESEL                2009  \n4   73.0                       DIESEL                2015  ",
      "text/html": "<div>\n<style scoped>\n    .dataframe tbody tr th:only-of-type {\n        vertical-align: middle;\n    }\n\n    .dataframe tbody tr th {\n        vertical-align: top;\n    }\n\n    .dataframe thead th {\n        text-align: right;\n    }\n</style>\n<table border=\"1\" class=\"dataframe\">\n  <thead>\n    <tr style=\"text-align: right;\">\n      <th></th>\n      <th>COD_TIPO_PERSONA</th>\n      <th>TIPO_PERSONA</th>\n      <th>COD_DISTRITO</th>\n      <th>COD_TIPO_VEHICULO</th>\n      <th>ETIQUETA_MEDIOAMBIENTAL</th>\n      <th>CLASIFICACIÃN_AMBIENTAL</th>\n      <th>CUOTA</th>\n      <th>TIPO_CARBURANTE</th>\n      <th>AÃO_MATRICULACIÃN</th>\n    </tr>\n  </thead>\n  <tbody>\n    <tr>\n      <th>0</th>\n      <td>E</td>\n      <td>Ente sin Personalidad Art 35.4</td>\n      <td>0</td>\n      <td>C</td>\n      <td>--</td>\n      <td>Sin clasificaciÃ³n ambiental</td>\n      <td>73.0</td>\n      <td>Tipo carburante desconocido</td>\n      <td>2013</td>\n    </tr>\n    <tr>\n      <th>1</th>\n      <td>E</td>\n      <td>Ente sin Personalidad Art 35.4</td>\n      <td>0</td>\n      <td>C</td>\n      <td>--</td>\n      <td>Sin clasificaciÃ³n ambiental</td>\n      <td>73.0</td>\n      <td>DIESEL</td>\n      <td>2006</td>\n    </tr>\n    <tr>\n      <th>2</th>\n      <td>E</td>\n      <td>Ente sin Personalidad Art 35.4</td>\n      <td>0</td>\n      <td>C</td>\n      <td>--</td>\n      <td>Sin clasificaciÃ³n ambiental</td>\n      <td>73.0</td>\n      <td>DIESEL</td>\n      <td>2007</td>\n    </tr>\n    <tr>\n      <th>3</th>\n      <td>E</td>\n      <td>Ente sin Personalidad Art 35.4</td>\n      <td>0</td>\n      <td>C</td>\n      <td>--</td>\n      <td>Sin clasificaciÃ³n ambiental</td>\n      <td>73.0</td>\n      <td>DIESEL</td>\n      <td>2009</td>\n    </tr>\n    <tr>\n      <th>4</th>\n      <td>E</td>\n      <td>Ente sin Personalidad Art 35.4</td>\n      <td>0</td>\n      <td>C</td>\n      <td>--</td>\n      <td>Sin clasificaciÃ³n ambiental</td>\n      <td>73.0</td>\n      <td>DIESEL</td>\n      <td>2015</td>\n    </tr>\n  </tbody>\n</table>\n</div>"
     },
     "execution_count": 151,
     "metadata": {},
     "output_type": "execute_result"
    }
   ],
   "source": [
    "df.head()"
   ],
   "metadata": {
    "collapsed": false,
    "ExecuteTime": {
     "end_time": "2024-02-05T17:57:19.198928036Z",
     "start_time": "2024-02-05T17:57:19.189644184Z"
    }
   },
   "id": "5f7a44e1aa9ba821",
   "execution_count": 151
  },
  {
   "cell_type": "code",
   "outputs": [
    {
     "name": "stdout",
     "output_type": "stream",
     "text": [
      "('--', 'Sin clasificaciÃ³n ambiental')\n",
      "('B', 'Etiqueta B')\n",
      "('C', 'Etiqueta C')\n",
      "(nan, 'Sin distintivo Ambiental')\n",
      "('0', 'Cero Emisiones')\n",
      "('E', 'ECO')\n"
     ]
    }
   ],
   "source": [
    "cod_veh = df['ETIQUETA_MEDIOAMBIENTAL'].unique()\n",
    "tipo_veh = df['CLASIFICACIÃ\\x93N_AMBIENTAL'].unique()\n",
    "for row in zip(cod_veh, tipo_veh):\n",
    "    print(row)"
   ],
   "metadata": {
    "collapsed": false,
    "ExecuteTime": {
     "end_time": "2024-02-05T17:57:19.199382685Z",
     "start_time": "2024-02-05T17:57:19.189769893Z"
    }
   },
   "id": "c17de10324a372eb",
   "execution_count": 152
  },
  {
   "cell_type": "code",
   "outputs": [
    {
     "data": {
      "text/plain": "0    Sin clasificaciÃ³n ambiental\n1    Sin clasificaciÃ³n ambiental\n2    Sin clasificaciÃ³n ambiental\n3    Sin clasificaciÃ³n ambiental\n4    Sin clasificaciÃ³n ambiental\nName: CLASIFICACIÃN_AMBIENTAL, dtype: object"
     },
     "execution_count": 153,
     "metadata": {},
     "output_type": "execute_result"
    }
   ],
   "source": [
    "df['ETIQUETA_MEDIOAMBIENTAL'] = df['ETIQUETA_MEDIOAMBIENTAL'].replace({'--': 'A'})\n",
    "df['ETIQUETA_MEDIOAMBIENTAL'] = df['ETIQUETA_MEDIOAMBIENTAL'].fillna('A')\n",
    "df.pop('CLASIFICACIÃ\\x93N_AMBIENTAL').head()"
   ],
   "metadata": {
    "collapsed": false,
    "ExecuteTime": {
     "end_time": "2024-02-05T17:57:19.258448168Z",
     "start_time": "2024-02-05T17:57:19.233603199Z"
    }
   },
   "id": "1a1ce1fda5d6c2f2",
   "execution_count": 153
  },
  {
   "cell_type": "code",
   "outputs": [
    {
     "data": {
      "text/plain": "array(['E', 'F', 'J', 'O'], dtype=object)"
     },
     "execution_count": 154,
     "metadata": {},
     "output_type": "execute_result"
    }
   ],
   "source": [
    "df['COD_TIPO_PERSONA'].unique()"
   ],
   "metadata": {
    "collapsed": false,
    "ExecuteTime": {
     "end_time": "2024-02-05T17:57:19.259016760Z",
     "start_time": "2024-02-05T17:57:19.233740909Z"
    }
   },
   "id": "1f81502ff40b443d",
   "execution_count": 154
  },
  {
   "cell_type": "code",
   "outputs": [],
   "source": [
    "df['COD_TIPO_PERSONA'] = df['COD_TIPO_PERSONA'].replace({'E': 'S'})"
   ],
   "metadata": {
    "collapsed": false,
    "ExecuteTime": {
     "end_time": "2024-02-05T17:57:19.277759854Z",
     "start_time": "2024-02-05T17:57:19.233786085Z"
    }
   },
   "id": "46dce6212706610c",
   "execution_count": 155
  },
  {
   "cell_type": "markdown",
   "source": [
    "Solo existe una fila con la O y no tiene una clasificación clara así que lo he tirado"
   ],
   "metadata": {
    "collapsed": false
   },
   "id": "e3f34386801d43e1"
  },
  {
   "cell_type": "code",
   "outputs": [],
   "source": [
    "df = df.drop(df[df['COD_TIPO_PERSONA'] == 'O'].index)"
   ],
   "metadata": {
    "collapsed": false,
    "ExecuteTime": {
     "end_time": "2024-02-05T17:57:19.330581345Z",
     "start_time": "2024-02-05T17:57:19.245389822Z"
    }
   },
   "id": "a367a957b57bbb42",
   "execution_count": 156
  },
  {
   "cell_type": "code",
   "outputs": [
    {
     "data": {
      "text/plain": "0    Ente sin Personalidad Art 35.4\n1    Ente sin Personalidad Art 35.4\n2    Ente sin Personalidad Art 35.4\n3    Ente sin Personalidad Art 35.4\n4    Ente sin Personalidad Art 35.4\nName: TIPO_PERSONA, dtype: object"
     },
     "execution_count": 157,
     "metadata": {},
     "output_type": "execute_result"
    }
   ],
   "source": [
    "df.pop('TIPO_PERSONA').head()"
   ],
   "metadata": {
    "collapsed": false,
    "ExecuteTime": {
     "end_time": "2024-02-05T17:57:19.331215121Z",
     "start_time": "2024-02-05T17:57:19.289647281Z"
    }
   },
   "id": "78925878b47732fc",
   "execution_count": 157
  },
  {
   "cell_type": "code",
   "outputs": [
    {
     "data": {
      "text/plain": "       COD_TIPO_PERSONA  COD_DISTRITO COD_TIPO_VEHICULO  \\\n0                     S             0                 C   \n1                     S             0                 C   \n2                     S             0                 C   \n3                     S             0                 C   \n4                     S             0                 C   \n...                 ...           ...               ...   \n156973                J             0                TU   \n156974                J             0                TU   \n156975                J             0                TU   \n156976                J             0                TU   \n156977                J             0                TU   \n\n       ETIQUETA_MEDIOAMBIENTAL  CUOTA              TIPO_CARBURANTE  \\\n0                            A   73.0  Tipo carburante desconocido   \n1                            A   73.0                       DIESEL   \n2                            A   73.0                       DIESEL   \n3                            A   73.0                       DIESEL   \n4                            A   73.0                       DIESEL   \n...                        ...    ...                          ...   \n156973                       A  224.0                     GASOLINA   \n156974                       A  224.0                     GASOLINA   \n156975                       A  224.0                     GASOLINA   \n156976                       A  224.0                     GASOLINA   \n156977                       A  224.0                     GASOLINA   \n\n       AÃO_MATRICULACIÃN  \n0                     2013  \n1                     2006  \n2                     2007  \n3                     2009  \n4                     2015  \n...                    ...  \n156973                1999  \n156974                2005  \n156975                2007  \n156976                2018  \n156977                2020  \n\n[5039 rows x 7 columns]",
      "text/html": "<div>\n<style scoped>\n    .dataframe tbody tr th:only-of-type {\n        vertical-align: middle;\n    }\n\n    .dataframe tbody tr th {\n        vertical-align: top;\n    }\n\n    .dataframe thead th {\n        text-align: right;\n    }\n</style>\n<table border=\"1\" class=\"dataframe\">\n  <thead>\n    <tr style=\"text-align: right;\">\n      <th></th>\n      <th>COD_TIPO_PERSONA</th>\n      <th>COD_DISTRITO</th>\n      <th>COD_TIPO_VEHICULO</th>\n      <th>ETIQUETA_MEDIOAMBIENTAL</th>\n      <th>CUOTA</th>\n      <th>TIPO_CARBURANTE</th>\n      <th>AÃO_MATRICULACIÃN</th>\n    </tr>\n  </thead>\n  <tbody>\n    <tr>\n      <th>0</th>\n      <td>S</td>\n      <td>0</td>\n      <td>C</td>\n      <td>A</td>\n      <td>73.0</td>\n      <td>Tipo carburante desconocido</td>\n      <td>2013</td>\n    </tr>\n    <tr>\n      <th>1</th>\n      <td>S</td>\n      <td>0</td>\n      <td>C</td>\n      <td>A</td>\n      <td>73.0</td>\n      <td>DIESEL</td>\n      <td>2006</td>\n    </tr>\n    <tr>\n      <th>2</th>\n      <td>S</td>\n      <td>0</td>\n      <td>C</td>\n      <td>A</td>\n      <td>73.0</td>\n      <td>DIESEL</td>\n      <td>2007</td>\n    </tr>\n    <tr>\n      <th>3</th>\n      <td>S</td>\n      <td>0</td>\n      <td>C</td>\n      <td>A</td>\n      <td>73.0</td>\n      <td>DIESEL</td>\n      <td>2009</td>\n    </tr>\n    <tr>\n      <th>4</th>\n      <td>S</td>\n      <td>0</td>\n      <td>C</td>\n      <td>A</td>\n      <td>73.0</td>\n      <td>DIESEL</td>\n      <td>2015</td>\n    </tr>\n    <tr>\n      <th>...</th>\n      <td>...</td>\n      <td>...</td>\n      <td>...</td>\n      <td>...</td>\n      <td>...</td>\n      <td>...</td>\n      <td>...</td>\n    </tr>\n    <tr>\n      <th>156973</th>\n      <td>J</td>\n      <td>0</td>\n      <td>TU</td>\n      <td>A</td>\n      <td>224.0</td>\n      <td>GASOLINA</td>\n      <td>1999</td>\n    </tr>\n    <tr>\n      <th>156974</th>\n      <td>J</td>\n      <td>0</td>\n      <td>TU</td>\n      <td>A</td>\n      <td>224.0</td>\n      <td>GASOLINA</td>\n      <td>2005</td>\n    </tr>\n    <tr>\n      <th>156975</th>\n      <td>J</td>\n      <td>0</td>\n      <td>TU</td>\n      <td>A</td>\n      <td>224.0</td>\n      <td>GASOLINA</td>\n      <td>2007</td>\n    </tr>\n    <tr>\n      <th>156976</th>\n      <td>J</td>\n      <td>0</td>\n      <td>TU</td>\n      <td>A</td>\n      <td>224.0</td>\n      <td>GASOLINA</td>\n      <td>2018</td>\n    </tr>\n    <tr>\n      <th>156977</th>\n      <td>J</td>\n      <td>0</td>\n      <td>TU</td>\n      <td>A</td>\n      <td>224.0</td>\n      <td>GASOLINA</td>\n      <td>2020</td>\n    </tr>\n  </tbody>\n</table>\n<p>5039 rows × 7 columns</p>\n</div>"
     },
     "execution_count": 158,
     "metadata": {},
     "output_type": "execute_result"
    }
   ],
   "source": [
    "df[df['COD_DISTRITO']==0]"
   ],
   "metadata": {
    "collapsed": false,
    "ExecuteTime": {
     "end_time": "2024-02-05T17:57:22.325265117Z",
     "start_time": "2024-02-05T17:57:22.280482093Z"
    }
   },
   "id": "8c5e5802eb35cc3",
   "execution_count": 158
  },
  {
   "cell_type": "code",
   "outputs": [
    {
     "data": {
      "text/plain": "array(['Tipo carburante desconocido', 'DIESEL', 'GASOLINA', 'OTROS',\n       'HIBRIDO ENCHUFABLES PHEV', 'HÃ\\x8dBRIDO',\n       'GAS LICUADO DE PETROLEO', 'GAS NATURAL COMPRIMIDO',\n       'ELÃ\\x89CTRICO', 'ELECTRICOS RANGO EXTENDIDO',\n       'GAS NATURAL LICUADO', 'ETANOL', 'BIOMETANO', 'BIODIESEL'],\n      dtype=object)"
     },
     "execution_count": 159,
     "metadata": {},
     "output_type": "execute_result"
    }
   ],
   "source": [
    "df['TIPO_CARBURANTE'].unique()"
   ],
   "metadata": {
    "collapsed": false,
    "ExecuteTime": {
     "end_time": "2024-02-05T17:58:21.819814161Z",
     "start_time": "2024-02-05T17:58:21.775111636Z"
    }
   },
   "id": "f360f910c3ae22a8",
   "execution_count": 159
  },
  {
   "cell_type": "code",
   "outputs": [],
   "source": [
    "df['TIPO_CARBURANTE'] = df['TIPO_CARBURANTE'].replace({'HÃBRIDO': 'HIBRIDO', 'ELÃCTRICO': 'ELECTRICO', 'Tipo carburante desconocido':'DESCONOCIDO'})"
   ],
   "metadata": {
    "collapsed": false,
    "ExecuteTime": {
     "end_time": "2024-02-05T17:59:56.846142452Z",
     "start_time": "2024-02-05T17:59:56.797610683Z"
    }
   },
   "id": "cbfaaeb83e5cfa93",
   "execution_count": 160
  },
  {
   "cell_type": "code",
   "outputs": [],
   "source": [
    "df.rename(columns={'AÃ\\x91O_MATRICULACIÃ\\x93N':'Y_MATRICULACION'}, inplace=True)"
   ],
   "metadata": {
    "collapsed": false,
    "ExecuteTime": {
     "end_time": "2024-02-05T18:01:31.109102914Z",
     "start_time": "2024-02-05T18:01:31.098728501Z"
    }
   },
   "id": "fff4c6067826a6f7",
   "execution_count": 163
  },
  {
   "cell_type": "code",
   "outputs": [
    {
     "data": {
      "text/plain": "       COD_TIPO_PERSONA  COD_DISTRITO COD_TIPO_VEHICULO  \\\n0                     S             0                 C   \n1                     S             0                 C   \n2                     S             0                 C   \n3                     S             0                 C   \n4                     S             0                 C   \n...                 ...           ...               ...   \n180340                J            21                TU   \n180341                J            21                TU   \n180342                J            21                TU   \n180343                J            21                TU   \n180344                J            21                TU   \n\n       ETIQUETA_MEDIOAMBIENTAL  CUOTA TIPO_CARBURANTE Y_MATRICULACION  \n0                            A   73.0     DESCONOCIDO            2013  \n1                            A   73.0          DIESEL            2006  \n2                            A   73.0          DIESEL            2007  \n3                            A   73.0          DIESEL            2009  \n4                            A   73.0          DIESEL            2015  \n...                        ...    ...             ...             ...  \n180340                       A  129.0          DIESEL            2001  \n180341                       A  129.0          DIESEL            2003  \n180342                       A  129.0          DIESEL            2005  \n180343                       A  129.0        GASOLINA            2000  \n180344                       A  224.0        GASOLINA            2003  \n\n[180344 rows x 7 columns]",
      "text/html": "<div>\n<style scoped>\n    .dataframe tbody tr th:only-of-type {\n        vertical-align: middle;\n    }\n\n    .dataframe tbody tr th {\n        vertical-align: top;\n    }\n\n    .dataframe thead th {\n        text-align: right;\n    }\n</style>\n<table border=\"1\" class=\"dataframe\">\n  <thead>\n    <tr style=\"text-align: right;\">\n      <th></th>\n      <th>COD_TIPO_PERSONA</th>\n      <th>COD_DISTRITO</th>\n      <th>COD_TIPO_VEHICULO</th>\n      <th>ETIQUETA_MEDIOAMBIENTAL</th>\n      <th>CUOTA</th>\n      <th>TIPO_CARBURANTE</th>\n      <th>Y_MATRICULACION</th>\n    </tr>\n  </thead>\n  <tbody>\n    <tr>\n      <th>0</th>\n      <td>S</td>\n      <td>0</td>\n      <td>C</td>\n      <td>A</td>\n      <td>73.0</td>\n      <td>DESCONOCIDO</td>\n      <td>2013</td>\n    </tr>\n    <tr>\n      <th>1</th>\n      <td>S</td>\n      <td>0</td>\n      <td>C</td>\n      <td>A</td>\n      <td>73.0</td>\n      <td>DIESEL</td>\n      <td>2006</td>\n    </tr>\n    <tr>\n      <th>2</th>\n      <td>S</td>\n      <td>0</td>\n      <td>C</td>\n      <td>A</td>\n      <td>73.0</td>\n      <td>DIESEL</td>\n      <td>2007</td>\n    </tr>\n    <tr>\n      <th>3</th>\n      <td>S</td>\n      <td>0</td>\n      <td>C</td>\n      <td>A</td>\n      <td>73.0</td>\n      <td>DIESEL</td>\n      <td>2009</td>\n    </tr>\n    <tr>\n      <th>4</th>\n      <td>S</td>\n      <td>0</td>\n      <td>C</td>\n      <td>A</td>\n      <td>73.0</td>\n      <td>DIESEL</td>\n      <td>2015</td>\n    </tr>\n    <tr>\n      <th>...</th>\n      <td>...</td>\n      <td>...</td>\n      <td>...</td>\n      <td>...</td>\n      <td>...</td>\n      <td>...</td>\n      <td>...</td>\n    </tr>\n    <tr>\n      <th>180340</th>\n      <td>J</td>\n      <td>21</td>\n      <td>TU</td>\n      <td>A</td>\n      <td>129.0</td>\n      <td>DIESEL</td>\n      <td>2001</td>\n    </tr>\n    <tr>\n      <th>180341</th>\n      <td>J</td>\n      <td>21</td>\n      <td>TU</td>\n      <td>A</td>\n      <td>129.0</td>\n      <td>DIESEL</td>\n      <td>2003</td>\n    </tr>\n    <tr>\n      <th>180342</th>\n      <td>J</td>\n      <td>21</td>\n      <td>TU</td>\n      <td>A</td>\n      <td>129.0</td>\n      <td>DIESEL</td>\n      <td>2005</td>\n    </tr>\n    <tr>\n      <th>180343</th>\n      <td>J</td>\n      <td>21</td>\n      <td>TU</td>\n      <td>A</td>\n      <td>129.0</td>\n      <td>GASOLINA</td>\n      <td>2000</td>\n    </tr>\n    <tr>\n      <th>180344</th>\n      <td>J</td>\n      <td>21</td>\n      <td>TU</td>\n      <td>A</td>\n      <td>224.0</td>\n      <td>GASOLINA</td>\n      <td>2003</td>\n    </tr>\n  </tbody>\n</table>\n<p>180344 rows × 7 columns</p>\n</div>"
     },
     "execution_count": 164,
     "metadata": {},
     "output_type": "execute_result"
    }
   ],
   "source": [
    "df"
   ],
   "metadata": {
    "collapsed": false,
    "ExecuteTime": {
     "end_time": "2024-02-05T18:01:33.487467021Z",
     "start_time": "2024-02-05T18:01:33.481551074Z"
    }
   },
   "id": "931f80c40a034f0b",
   "execution_count": 164
  },
  {
   "cell_type": "markdown",
   "source": [
    "Vamos a clusterizar los datos ya que hay muchos repetidos"
   ],
   "metadata": {
    "collapsed": false
   },
   "id": "2a1fd9175e671420"
  },
  {
   "cell_type": "code",
   "outputs": [
    {
     "data": {
      "text/plain": "              COD_TIPO_PERSONA  COD_TIPO_VEHICULO  ETIQUETA_MEDIOAMBIENTAL  \\\nCOD_DISTRITO                                                                 \n0                         5039               5039                     5039   \n1                         8355               8355                     8355   \n2                         8277               8277                     8277   \n3                         8318               8318                     8318   \n4                        10520              10520                    10520   \n5                        11121              11121                    11121   \n6                         9161               9161                     9161   \n7                         9520               9520                     9520   \n8                        11171              11171                    11171   \n9                         9018               9018                     9018   \n10                        8667               8667                     8667   \n11                        9985               9985                     9985   \n12                        7398               7398                     7398   \n13                        8876               8876                     8876   \n14                        5648               5648                     5648   \n15                       11081              11081                    11081   \n16                        9375               9375                     9375   \n17                        6445               6445                     6445   \n18                        4596               4596                     4596   \n19                        4028               4028                     4028   \n20                        9619               9619                     9619   \n21                        4126               4126                     4126   \n\n              CUOTA  TIPO_CARBURANTE  Y_MATRICULACION  \nCOD_DISTRITO                                           \n0              5039             5039             5039  \n1              8355             8355             8355  \n2              8277             8277             8277  \n3              8318             8318             8318  \n4             10520            10520            10520  \n5             11121            11121            11121  \n6              9161             9161             9161  \n7              9520             9520             9520  \n8             11171            11171            11171  \n9              9018             9018             9018  \n10             8667             8667             8667  \n11             9985             9985             9985  \n12             7398             7398             7398  \n13             8876             8876             8876  \n14             5648             5648             5648  \n15            11081            11081            11081  \n16             9375             9375             9375  \n17             6445             6445             6445  \n18             4596             4596             4596  \n19             4028             4028             4028  \n20             9619             9619             9619  \n21             4126             4126             4126  ",
      "text/html": "<div>\n<style scoped>\n    .dataframe tbody tr th:only-of-type {\n        vertical-align: middle;\n    }\n\n    .dataframe tbody tr th {\n        vertical-align: top;\n    }\n\n    .dataframe thead th {\n        text-align: right;\n    }\n</style>\n<table border=\"1\" class=\"dataframe\">\n  <thead>\n    <tr style=\"text-align: right;\">\n      <th></th>\n      <th>COD_TIPO_PERSONA</th>\n      <th>COD_TIPO_VEHICULO</th>\n      <th>ETIQUETA_MEDIOAMBIENTAL</th>\n      <th>CUOTA</th>\n      <th>TIPO_CARBURANTE</th>\n      <th>Y_MATRICULACION</th>\n    </tr>\n    <tr>\n      <th>COD_DISTRITO</th>\n      <th></th>\n      <th></th>\n      <th></th>\n      <th></th>\n      <th></th>\n      <th></th>\n    </tr>\n  </thead>\n  <tbody>\n    <tr>\n      <th>0</th>\n      <td>5039</td>\n      <td>5039</td>\n      <td>5039</td>\n      <td>5039</td>\n      <td>5039</td>\n      <td>5039</td>\n    </tr>\n    <tr>\n      <th>1</th>\n      <td>8355</td>\n      <td>8355</td>\n      <td>8355</td>\n      <td>8355</td>\n      <td>8355</td>\n      <td>8355</td>\n    </tr>\n    <tr>\n      <th>2</th>\n      <td>8277</td>\n      <td>8277</td>\n      <td>8277</td>\n      <td>8277</td>\n      <td>8277</td>\n      <td>8277</td>\n    </tr>\n    <tr>\n      <th>3</th>\n      <td>8318</td>\n      <td>8318</td>\n      <td>8318</td>\n      <td>8318</td>\n      <td>8318</td>\n      <td>8318</td>\n    </tr>\n    <tr>\n      <th>4</th>\n      <td>10520</td>\n      <td>10520</td>\n      <td>10520</td>\n      <td>10520</td>\n      <td>10520</td>\n      <td>10520</td>\n    </tr>\n    <tr>\n      <th>5</th>\n      <td>11121</td>\n      <td>11121</td>\n      <td>11121</td>\n      <td>11121</td>\n      <td>11121</td>\n      <td>11121</td>\n    </tr>\n    <tr>\n      <th>6</th>\n      <td>9161</td>\n      <td>9161</td>\n      <td>9161</td>\n      <td>9161</td>\n      <td>9161</td>\n      <td>9161</td>\n    </tr>\n    <tr>\n      <th>7</th>\n      <td>9520</td>\n      <td>9520</td>\n      <td>9520</td>\n      <td>9520</td>\n      <td>9520</td>\n      <td>9520</td>\n    </tr>\n    <tr>\n      <th>8</th>\n      <td>11171</td>\n      <td>11171</td>\n      <td>11171</td>\n      <td>11171</td>\n      <td>11171</td>\n      <td>11171</td>\n    </tr>\n    <tr>\n      <th>9</th>\n      <td>9018</td>\n      <td>9018</td>\n      <td>9018</td>\n      <td>9018</td>\n      <td>9018</td>\n      <td>9018</td>\n    </tr>\n    <tr>\n      <th>10</th>\n      <td>8667</td>\n      <td>8667</td>\n      <td>8667</td>\n      <td>8667</td>\n      <td>8667</td>\n      <td>8667</td>\n    </tr>\n    <tr>\n      <th>11</th>\n      <td>9985</td>\n      <td>9985</td>\n      <td>9985</td>\n      <td>9985</td>\n      <td>9985</td>\n      <td>9985</td>\n    </tr>\n    <tr>\n      <th>12</th>\n      <td>7398</td>\n      <td>7398</td>\n      <td>7398</td>\n      <td>7398</td>\n      <td>7398</td>\n      <td>7398</td>\n    </tr>\n    <tr>\n      <th>13</th>\n      <td>8876</td>\n      <td>8876</td>\n      <td>8876</td>\n      <td>8876</td>\n      <td>8876</td>\n      <td>8876</td>\n    </tr>\n    <tr>\n      <th>14</th>\n      <td>5648</td>\n      <td>5648</td>\n      <td>5648</td>\n      <td>5648</td>\n      <td>5648</td>\n      <td>5648</td>\n    </tr>\n    <tr>\n      <th>15</th>\n      <td>11081</td>\n      <td>11081</td>\n      <td>11081</td>\n      <td>11081</td>\n      <td>11081</td>\n      <td>11081</td>\n    </tr>\n    <tr>\n      <th>16</th>\n      <td>9375</td>\n      <td>9375</td>\n      <td>9375</td>\n      <td>9375</td>\n      <td>9375</td>\n      <td>9375</td>\n    </tr>\n    <tr>\n      <th>17</th>\n      <td>6445</td>\n      <td>6445</td>\n      <td>6445</td>\n      <td>6445</td>\n      <td>6445</td>\n      <td>6445</td>\n    </tr>\n    <tr>\n      <th>18</th>\n      <td>4596</td>\n      <td>4596</td>\n      <td>4596</td>\n      <td>4596</td>\n      <td>4596</td>\n      <td>4596</td>\n    </tr>\n    <tr>\n      <th>19</th>\n      <td>4028</td>\n      <td>4028</td>\n      <td>4028</td>\n      <td>4028</td>\n      <td>4028</td>\n      <td>4028</td>\n    </tr>\n    <tr>\n      <th>20</th>\n      <td>9619</td>\n      <td>9619</td>\n      <td>9619</td>\n      <td>9619</td>\n      <td>9619</td>\n      <td>9619</td>\n    </tr>\n    <tr>\n      <th>21</th>\n      <td>4126</td>\n      <td>4126</td>\n      <td>4126</td>\n      <td>4126</td>\n      <td>4126</td>\n      <td>4126</td>\n    </tr>\n  </tbody>\n</table>\n</div>"
     },
     "execution_count": 168,
     "metadata": {},
     "output_type": "execute_result"
    }
   ],
   "source": [
    "df.groupby(['COD_DISTRITO']).count()"
   ],
   "metadata": {
    "collapsed": false,
    "ExecuteTime": {
     "end_time": "2024-02-05T18:10:05.134738273Z",
     "start_time": "2024-02-05T18:10:05.089807048Z"
    }
   },
   "id": "5d28ffc10b9610ca",
   "execution_count": 168
  }
 ],
 "metadata": {
  "kernelspec": {
   "display_name": "Python 3",
   "language": "python",
   "name": "python3"
  },
  "language_info": {
   "codemirror_mode": {
    "name": "ipython",
    "version": 2
   },
   "file_extension": ".py",
   "mimetype": "text/x-python",
   "name": "python",
   "nbconvert_exporter": "python",
   "pygments_lexer": "ipython2",
   "version": "2.7.6"
  }
 },
 "nbformat": 4,
 "nbformat_minor": 5
}
