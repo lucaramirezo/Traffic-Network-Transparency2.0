{
 "cells": [
  {
   "cell_type": "markdown",
   "source": [
    "Esta celda importa TikaApp desde tikapp. TikaApp es una interfaz de Python para Apache Tika, que permite la extracción de metadatos y texto de una amplia variedad de archivos."
   ],
   "metadata": {
    "collapsed": false
   },
   "id": "a411ab6e0a13b1fd"
  },
  {
   "cell_type": "code",
   "execution_count": 1,
   "id": "initial_id",
   "metadata": {
    "collapsed": true,
    "ExecuteTime": {
     "end_time": "2024-03-04T15:37:31.326932Z",
     "start_time": "2024-03-04T15:37:31.317259Z"
    }
   },
   "outputs": [],
   "source": [
    "from tikapp import TikaApp"
   ]
  },
  {
   "cell_type": "markdown",
   "source": [
    "# Operaciones básicas de TIKA"
   ],
   "metadata": {
    "collapsed": false
   },
   "id": "c22d9fedebb23d17"
  },
  {
   "cell_type": "markdown",
   "source": [
    "Se crea una instancia de TikaApp, especificando la ubicación del archivo JAR de Tika. Este paso es necesario para interactuar con Apache Tika desde Python."
   ],
   "metadata": {
    "collapsed": false
   },
   "id": "1c88e98cce2bad0c"
  },
  {
   "cell_type": "code",
   "outputs": [],
   "source": [
    "tika = TikaApp(file_jar=\"/home/duo/DataspellProjects/Traffic-Network-Transparency2.0/tika-app-1.16_duo.jar\")"
   ],
   "metadata": {
    "collapsed": false,
    "ExecuteTime": {
     "end_time": "2024-03-04T15:37:31.333813Z",
     "start_time": "2024-03-04T15:37:31.328672Z"
    }
   },
   "id": "69773acc3bfc5c74",
   "execution_count": 2
  },
  {
   "cell_type": "markdown",
   "source": [
    "Esta celda establece la ruta del archivo a analizar y utiliza detect_content_type para determinar el tipo de contenido del archivo especificado, retornando application/pdf, indicando que el archivo es un PDF."
   ],
   "metadata": {
    "collapsed": false
   },
   "id": "de742c3731f406c0"
  },
  {
   "cell_type": "code",
   "outputs": [
    {
     "data": {
      "text/plain": "'application/pdf'"
     },
     "execution_count": 3,
     "metadata": {},
     "output_type": "execute_result"
    }
   ],
   "source": [
    "file_path = \"/home/duo/DataspellProjects/Traffic-Network-Transparency2.0/Enunciado P2 POD2.pdf\"\n",
    "tika.detect_content_type(file_path)"
   ],
   "metadata": {
    "collapsed": false,
    "ExecuteTime": {
     "end_time": "2024-03-04T15:37:32.044812Z",
     "start_time": "2024-03-04T15:37:31.334915Z"
    }
   },
   "id": "6450f4d8c2ea9ef4",
   "execution_count": 3
  },
  {
   "cell_type": "markdown",
   "source": [
    "Utiliza detect_language para determinar el idioma del contenido del archivo, retornando 'es' para español."
   ],
   "metadata": {
    "collapsed": false
   },
   "id": "30b1a7ce302c6b6"
  },
  {
   "cell_type": "code",
   "outputs": [
    {
     "data": {
      "text/plain": "'es'"
     },
     "execution_count": 4,
     "metadata": {},
     "output_type": "execute_result"
    }
   ],
   "source": [
    "tika.detect_language(file_path)"
   ],
   "metadata": {
    "collapsed": false,
    "ExecuteTime": {
     "end_time": "2024-03-04T15:37:34.205443Z",
     "start_time": "2024-03-04T15:37:32.046152Z"
    }
   },
   "id": "dfb4f7f5f5843e1f",
   "execution_count": 4
  },
  {
   "cell_type": "markdown",
   "source": [
    "Esta celda extrae y muestra únicamente los metadatos del archivo, proporcionando información como el autor, la longitud del contenido, la fecha de creación, entre otros"
   ],
   "metadata": {
    "collapsed": false
   },
   "id": "ae6ff95dfa55c629"
  },
  {
   "cell_type": "code",
   "outputs": [
    {
     "data": {
      "text/plain": "'{\"Author\":\"RAFAEL MUÑOZ GIL\",\"Content-Length\":\"182719\",\"Content-Type\":\"application/pdf\",\"Creation-Date\":\"2023-02-28T09:43:32Z\",\"Last-Modified\":\"2023-02-28T09:43:32Z\",\"Last-Save-Date\":\"2023-02-28T09:43:32Z\",\"X-Parsed-By\":[\"org.apache.tika.parser.DefaultParser\",\"org.apache.tika.parser.pdf.PDFParser\"],\"access_permission:assemble_document\":\"true\",\"access_permission:can_modify\":\"true\",\"access_permission:can_print\":\"true\",\"access_permission:can_print_degraded\":\"true\",\"access_permission:extract_content\":\"true\",\"access_permission:extract_for_accessibility\":\"true\",\"access_permission:fill_in_form\":\"true\",\"access_permission:modify_annotations\":\"true\",\"created\":\"Tue Feb 28 10:43:32 CET 2023\",\"creator\":\"RAFAEL MUÑOZ GIL\",\"date\":\"2023-02-28T09:43:32Z\",\"dc:creator\":\"RAFAEL MUÑOZ GIL\",\"dc:format\":\"application/pdf; version\\\\u003d1.7\",\"dcterms:created\":\"2023-02-28T09:43:32Z\",\"dcterms:modified\":\"2023-02-28T09:43:32Z\",\"meta:author\":\"RAFAEL MUÑOZ GIL\",\"meta:creation-date\":\"2023-02-28T09:43:32Z\",\"meta:save-date\":\"2023-02-28T09:43:32Z\",\"modified\":\"2023-02-28T09:43:32Z\",\"pdf:PDFVersion\":\"1.7\",\"pdf:docinfo:created\":\"2023-02-28T09:43:32Z\",\"pdf:docinfo:creator\":\"RAFAEL MUÑOZ GIL\",\"pdf:docinfo:creator_tool\":\"Microsoft® Word para Microsoft 365\",\"pdf:docinfo:modified\":\"2023-02-28T09:43:32Z\",\"pdf:docinfo:producer\":\"Microsoft® Word para Microsoft 365\",\"pdf:encrypted\":\"false\",\"producer\":\"Microsoft® Word para Microsoft 365\",\"resourceName\":\"Enunciado P2 POD2.pdf\",\"xmp:CreatorTool\":\"Microsoft® Word para Microsoft 365\",\"xmpMM:DocumentID\":\"uuid:D651E7C3-2EB2-4384-9D77-7A28E1C5587E\",\"xmpTPg:NPages\":\"2\"}'"
     },
     "execution_count": 5,
     "metadata": {},
     "output_type": "execute_result"
    }
   ],
   "source": [
    "tika.extract_only_metadata(file_path)"
   ],
   "metadata": {
    "collapsed": false,
    "ExecuteTime": {
     "end_time": "2024-03-04T15:37:35.395783Z",
     "start_time": "2024-03-04T15:37:34.207066Z"
    }
   },
   "id": "acf6be7264157133",
   "execution_count": 5
  },
  {
   "cell_type": "markdown",
   "source": [
    "Este output muestra los metadatos extraídos del archivo, incluyendo autor, longitud del contenido, tipo de archivo (PDF), fechas de creación y modificación, herramienta de creación (Microsoft® Word para Microsoft 365), y más. Es notable cómo Apache Tika puede extraer una amplia gama de metadatos, demostrando su utilidad en el análisis de documentos."
   ],
   "metadata": {
    "collapsed": false
   },
   "id": "a0a0642f85f0f089"
  },
  {
   "cell_type": "markdown",
   "source": [
    "Extrae todo el contenido y metadatos del archivo especificado. La salida incluye tanto los metadatos (como autor y fechas) como el contenido textual completo del archivo PDF."
   ],
   "metadata": {
    "collapsed": false
   },
   "id": "6d1ec889b8a7fa5c"
  },
  {
   "cell_type": "code",
   "outputs": [
    {
     "data": {
      "text/plain": "'[{\"Author\":\"RAFAEL MUÑOZ GIL\",\"Content-Length\":\"182719\",\"Content-Type\":\"application/pdf\",\"Creation-Date\":\"2023-02-28T09:43:32Z\",\"Last-Modified\":\"2023-02-28T09:43:32Z\",\"Last-Save-Date\":\"2023-02-28T09:43:32Z\",\"X-Parsed-By\":[\"org.apache.tika.parser.DefaultParser\",\"org.apache.tika.parser.pdf.PDFParser\"],\"X-TIKA:content\":\"\\\\n\\\\n\\\\n\\\\n\\\\n\\\\n\\\\n\\\\n\\\\n\\\\n\\\\n\\\\n\\\\n\\\\n\\\\n\\\\n\\\\n\\\\n\\\\n\\\\n\\\\n\\\\n\\\\n\\\\n\\\\n\\\\n\\\\n\\\\n\\\\n\\\\n\\\\n\\\\n\\\\n\\\\n\\\\n\\\\n\\\\n\\\\n\\\\n\\\\n\\\\n\\\\n\\\\n\\\\n \\\\n\\\\nPRÁCTICA OBLIGATORIA EVALUABLE \\\\n\\\\nMETADATOS CON APACHE TIKA \\\\n\\\\nObjetivo  \\\\n\\\\nEl objetivo es poner en práctica diferentes conceptos aprendidos durante el módulo y \\\\n\\\\nrelacionados con la unidad de metadatos.  \\\\n\\\\nNormativa de entrega  \\\\n\\\\n La entrega de esta práctica es obligatoria se realiza individualmente. A continuación, se detallan \\\\n\\\\notros datos de interés relacionados con la normativa de entrega:   \\\\n\\\\n• La fecha límite de entrega de la práctica será el día indicado en el campus virtual. \\\\n\\\\n• La entrega de la práctica se hará a través de Aula Virtual, empleando la actividad \\\\nhabilitada para ello. \\\\n\\\\n• Se deberá subir un único archivo comprimido con todo el código fuente que se haya \\\\nimplementado y se necesite para ejecutar la práctica, así como una memoria explicando qué se \\\\nha hecho y por qué. \\\\n\\\\n• El archivo debe ser nombrado de la siguiente manera: UAXAYZNombre/s. Donde: \\\\n\\\\no X es el número de la Unidad  \\\\no Y equivale a “I” si se ha hecho Individual o “C” si se ha hecho Colectiva  \\\\no Z equivale al número de práctica de la unidad. Nombre/s es vuestro nombre/s \\\\n\\\\ncompleto/s. Ejemplo: UA1AI1RafaelMuñoz \\\\n\\\\n \\\\n\\\\nEnunciado  \\\\n\\\\nEl/ La alumno/a tiene que realizar una extracción de metadatos, tratarlos y mostrarlos haciendo \\\\n\\\\nuso de una serie de funciones de la librería Tika. \\\\n\\\\nObjetivos Generales \\\\n\\\\nSe proponen los siguientes ejercicios para el procesamiento de documentos con Tika.  \\\\n\\\\n1. Crear una función (se recomienda el nombre: TikaReader) que permita llevar a cabo las \\\\n\\\\ncuatro operaciones básicas de Tika en Python. Estas cuatro operaciones deben ir \\\\n\\\\nencapsuladas en un método propio de la clase. Hacer una función donde se debe pasar \\\\n\\\\ncomo parámetro el documento a procesar (se recomienda utilizar un pdf a vuestra \\\\n\\\\nelección). Hacer otra función que debe cargar el fichero jar del cliente de Tika.  \\\\n\\\\nAyuda:  \\\\n\\\\nLibrería necesaria para este desarrollo  \\\\nfrom tikapp import TikaApp  \\\\n\\\\nOperaciones básicas de Tika  \\\\ndetect_content_type(\\\\u003cfichero\\\\u003e)  \\\\n\\\\n\\\\n\\\\ndetect_language(\\\\u003cfichero\\\\u003e)  \\\\n\\\\nextract_all_content((\\\\u003cfichero\\\\u003e, convert_to_obj\\\\u003d\\\\u003cTrue/False\\\\u003e)  \\\\n\\\\nextract_only_content((\\\\u003cfichero\\\\u003e) \\\\n\\\\n \\\\n\\\\n2. Crear una función (se recomienda el nombre: ProcessJSONTika) para procesar el JSON \\\\n\\\\nproporcionado por Tika en el método:  \\\\n\\\\nextract_all_content(\\\\u003cfichero\\\\u003e, convert_to_obj\\\\u003d\\\\u003cTrue/False\\\\u003e)  \\\\n\\\\nEsta clase debe obtener los siguientes métodos:  \\\\n\\\\nA) Dado el JSON de procesamiento Tika escribir por consola los metadatos sobre \\\\n\\\\nautores, fecha de creación y fecha de modificación.  \\\\n\\\\nB) Obtener el contenido (solo texto) del fichero JSON proporcionado por Tika.  \\\\n\\\\n \\\\n\\\\nAyuda: Se recomienda reutilizar el lector de Tika creado en el ejercicio anterior. El \\\\n\\\\natributo convert_to_obj\\\\u003dTrue es la manera de obtener el resultado en formato JSON. \\\\n\\\\nLos campos del fichero JSON para el apartado A son: ‘Author’, ‘Creation-Date’ y ‘Last-\\\\n\\\\nModified’. El campo del fichero JSON para el apartado B es: \\\\u0027X-TIKA:content’. \\\\n\\\\n \\\\n\\\\nMemoria.  \\\\n\\\\nLa resolución de la siguiente práctica consiste en la utilización de Python para extraer los \\\\n\\\\nmetadatos a un documento y mostrarlos. El/La alumno/a realizará una labor de investigación y \\\\n\\\\naprendizaje sobre la librería, poniendo en práctica de una asignatura de proyectos los \\\\n\\\\nconocimientos adquiridos en la asignatura de POD 1 y Fundamentos de Programación.  \\\\n\\\\nLa memoria deberá tener la estructura de Introducción, Desarrollo y Conclusiones. El nivel de \\\\n\\\\nexplicación y profundidad en cada uno de dichos apartados determinará la nota de la memoria. \\\\n\\\\nLa nota de la práctica la determinará el manejo que se demuestre de la librería Tika integrada \\\\n\\\\ncon Python. La estructuración del código Python (uso de funciones y recursos aprendidos en \\\\n\\\\nPOD 1), limpieza del código y comentarios explicativos también son evaluables. \\\\n\\\\n \\\\n\\\\n \\\\n\\\\n \\\\n\\\\nInstalación de software necesario \\\\n\\\\nPara la realización de la práctica vamos a hacer uso de la librería Tika. Realizar la instalación \\\\n\\\\nsiguiendo el tutorial que proporciona la documentación en la teoría. \\\\n\\\\n\\\\n\",\"X-TIKA:parse_time_millis\":\"425\",\"access_permission:assemble_document\":\"true\",\"access_permission:can_modify\":\"true\",\"access_permission:can_print\":\"true\",\"access_permission:can_print_degraded\":\"true\",\"access_permission:extract_content\":\"true\",\"access_permission:extract_for_accessibility\":\"true\",\"access_permission:fill_in_form\":\"true\",\"access_permission:modify_annotations\":\"true\",\"created\":\"Tue Feb 28 10:43:32 CET 2023\",\"creator\":\"RAFAEL MUÑOZ GIL\",\"date\":\"2023-02-28T09:43:32Z\",\"dc:creator\":\"RAFAEL MUÑOZ GIL\",\"dc:format\":\"application/pdf; version\\\\u003d1.7\",\"dcterms:created\":\"2023-02-28T09:43:32Z\",\"dcterms:modified\":\"2023-02-28T09:43:32Z\",\"meta:author\":\"RAFAEL MUÑOZ GIL\",\"meta:creation-date\":\"2023-02-28T09:43:32Z\",\"meta:save-date\":\"2023-02-28T09:43:32Z\",\"modified\":\"2023-02-28T09:43:32Z\",\"pdf:PDFVersion\":\"1.7\",\"pdf:docinfo:created\":\"2023-02-28T09:43:32Z\",\"pdf:docinfo:creator\":\"RAFAEL MUÑOZ GIL\",\"pdf:docinfo:creator_tool\":\"Microsoft® Word para Microsoft 365\",\"pdf:docinfo:modified\":\"2023-02-28T09:43:32Z\",\"pdf:docinfo:producer\":\"Microsoft® Word para Microsoft 365\",\"pdf:encrypted\":\"false\",\"producer\":\"Microsoft® Word para Microsoft 365\",\"resourceName\":\"Enunciado P2 POD2.pdf\",\"xmp:CreatorTool\":\"Microsoft® Word para Microsoft 365\",\"xmpMM:DocumentID\":\"uuid:D651E7C3-2EB2-4384-9D77-7A28E1C5587E\",\"xmpTPg:NPages\":\"2\"}]'"
     },
     "execution_count": 6,
     "metadata": {},
     "output_type": "execute_result"
    }
   ],
   "source": [
    "tika.extract_all_content(file_path)"
   ],
   "metadata": {
    "collapsed": false,
    "ExecuteTime": {
     "end_time": "2024-03-04T15:37:36.413996Z",
     "start_time": "2024-03-04T15:37:35.396933Z"
    }
   },
   "id": "35cc6a4feb78b976",
   "execution_count": 6
  },
  {
   "cell_type": "markdown",
   "source": [
    "La salida incluye tanto los metadatos (similar a [Out [5]]) como el contenido textual del documento, destacando la capacidad de Tika para extraer texto limpio de archivos PDF. El texto extraído comienza con \"PRÁCTICA OBLIGATORIA EVALUABLE\" seguido por detalles de la asignación, mostrando cómo Tika maneja eficazmente la extracción de contenido textual de documentos complejos."
   ],
   "metadata": {
    "collapsed": false
   },
   "id": "b7da23a1fe33edb8"
  },
  {
   "cell_type": "markdown",
   "source": [
    "Se definen dos funciones: tika_extract, que imprime el tipo de contenido, el idioma, los metadatos y el contenido del archivo; y tika_extract_json, que retorna todo el contenido y metadatos del archivo en formato JSON."
   ],
   "metadata": {
    "collapsed": false
   },
   "id": "1a317ef1c3ec21b1"
  },
  {
   "cell_type": "code",
   "outputs": [],
   "source": [
    "def tika_extract(file_path):\n",
    "    print(tika.detect_content_type(file_path))\n",
    "    print(tika.detect_language(file_path))\n",
    "    print(tika.extract_only_metadata(file_path))\n",
    "    print(tika.extract_only_content(file_path))\n",
    "\n",
    "\n",
    "def tika_extract_json(file_path):\n",
    "    return tika.extract_all_content(file_path, convert_to_obj=True)"
   ],
   "metadata": {
    "collapsed": false,
    "ExecuteTime": {
     "end_time": "2024-03-04T15:37:36.420769Z",
     "start_time": "2024-03-04T15:37:36.415606Z"
    }
   },
   "id": "e3682349a76c0d5c",
   "execution_count": 7
  },
  {
   "cell_type": "markdown",
   "source": [
    "Esta celda muestra cómo utilizar tika_extract_json para obtener el contenido y metadatos del archivo en formato JSON y almacenar el resultado en fjson."
   ],
   "metadata": {
    "collapsed": false
   },
   "id": "d0b45cf35d743c3"
  },
  {
   "cell_type": "code",
   "outputs": [],
   "source": [
    "fjson = tika_extract_json(file_path)[0]"
   ],
   "metadata": {
    "collapsed": false,
    "ExecuteTime": {
     "end_time": "2024-03-04T15:37:37.482933Z",
     "start_time": "2024-03-04T15:37:36.422337Z"
    }
   },
   "id": "f8f180620fb18e46",
   "execution_count": 8
  },
  {
   "cell_type": "markdown",
   "source": [
    "Muestra el contenido de fjson, que incluye metadatos como el autor, el tipo de contenido, las fechas de creación y modificación, y el contenido textual del archivo PDF."
   ],
   "metadata": {
    "collapsed": false
   },
   "id": "594028b1f0d78148"
  },
  {
   "cell_type": "code",
   "outputs": [
    {
     "data": {
      "text/plain": "{'Author': 'RAFAEL MUÑOZ GIL',\n 'Content-Length': '182719',\n 'Content-Type': 'application/pdf',\n 'Creation-Date': '2023-02-28T09:43:32Z',\n 'Last-Modified': '2023-02-28T09:43:32Z',\n 'Last-Save-Date': '2023-02-28T09:43:32Z',\n 'X-Parsed-By': ['org.apache.tika.parser.DefaultParser',\n  'org.apache.tika.parser.pdf.PDFParser'],\n 'X-TIKA:content': \"\\n\\n\\n\\n\\n\\n\\n\\n\\n\\n\\n\\n\\n\\n\\n\\n\\n\\n\\n\\n\\n\\n\\n\\n\\n\\n\\n\\n\\n\\n\\n\\n\\n\\n\\n\\n\\n\\n\\n\\n\\n\\n\\n\\n \\n\\nPRÁCTICA OBLIGATORIA EVALUABLE \\n\\nMETADATOS CON APACHE TIKA \\n\\nObjetivo  \\n\\nEl objetivo es poner en práctica diferentes conceptos aprendidos durante el módulo y \\n\\nrelacionados con la unidad de metadatos.  \\n\\nNormativa de entrega  \\n\\n La entrega de esta práctica es obligatoria se realiza individualmente. A continuación, se detallan \\n\\notros datos de interés relacionados con la normativa de entrega:   \\n\\n• La fecha límite de entrega de la práctica será el día indicado en el campus virtual. \\n\\n• La entrega de la práctica se hará a través de Aula Virtual, empleando la actividad \\nhabilitada para ello. \\n\\n• Se deberá subir un único archivo comprimido con todo el código fuente que se haya \\nimplementado y se necesite para ejecutar la práctica, así como una memoria explicando qué se \\nha hecho y por qué. \\n\\n• El archivo debe ser nombrado de la siguiente manera: UAXAYZNombre/s. Donde: \\n\\no X es el número de la Unidad  \\no Y equivale a “I” si se ha hecho Individual o “C” si se ha hecho Colectiva  \\no Z equivale al número de práctica de la unidad. Nombre/s es vuestro nombre/s \\n\\ncompleto/s. Ejemplo: UA1AI1RafaelMuñoz \\n\\n \\n\\nEnunciado  \\n\\nEl/ La alumno/a tiene que realizar una extracción de metadatos, tratarlos y mostrarlos haciendo \\n\\nuso de una serie de funciones de la librería Tika. \\n\\nObjetivos Generales \\n\\nSe proponen los siguientes ejercicios para el procesamiento de documentos con Tika.  \\n\\n1. Crear una función (se recomienda el nombre: TikaReader) que permita llevar a cabo las \\n\\ncuatro operaciones básicas de Tika en Python. Estas cuatro operaciones deben ir \\n\\nencapsuladas en un método propio de la clase. Hacer una función donde se debe pasar \\n\\ncomo parámetro el documento a procesar (se recomienda utilizar un pdf a vuestra \\n\\nelección). Hacer otra función que debe cargar el fichero jar del cliente de Tika.  \\n\\nAyuda:  \\n\\nLibrería necesaria para este desarrollo  \\nfrom tikapp import TikaApp  \\n\\nOperaciones básicas de Tika  \\ndetect_content_type(<fichero>)  \\n\\n\\n\\ndetect_language(<fichero>)  \\n\\nextract_all_content((<fichero>, convert_to_obj=<True/False>)  \\n\\nextract_only_content((<fichero>) \\n\\n \\n\\n2. Crear una función (se recomienda el nombre: ProcessJSONTika) para procesar el JSON \\n\\nproporcionado por Tika en el método:  \\n\\nextract_all_content(<fichero>, convert_to_obj=<True/False>)  \\n\\nEsta clase debe obtener los siguientes métodos:  \\n\\nA) Dado el JSON de procesamiento Tika escribir por consola los metadatos sobre \\n\\nautores, fecha de creación y fecha de modificación.  \\n\\nB) Obtener el contenido (solo texto) del fichero JSON proporcionado por Tika.  \\n\\n \\n\\nAyuda: Se recomienda reutilizar el lector de Tika creado en el ejercicio anterior. El \\n\\natributo convert_to_obj=True es la manera de obtener el resultado en formato JSON. \\n\\nLos campos del fichero JSON para el apartado A son: ‘Author’, ‘Creation-Date’ y ‘Last-\\n\\nModified’. El campo del fichero JSON para el apartado B es: 'X-TIKA:content’. \\n\\n \\n\\nMemoria.  \\n\\nLa resolución de la siguiente práctica consiste en la utilización de Python para extraer los \\n\\nmetadatos a un documento y mostrarlos. El/La alumno/a realizará una labor de investigación y \\n\\naprendizaje sobre la librería, poniendo en práctica de una asignatura de proyectos los \\n\\nconocimientos adquiridos en la asignatura de POD 1 y Fundamentos de Programación.  \\n\\nLa memoria deberá tener la estructura de Introducción, Desarrollo y Conclusiones. El nivel de \\n\\nexplicación y profundidad en cada uno de dichos apartados determinará la nota de la memoria. \\n\\nLa nota de la práctica la determinará el manejo que se demuestre de la librería Tika integrada \\n\\ncon Python. La estructuración del código Python (uso de funciones y recursos aprendidos en \\n\\nPOD 1), limpieza del código y comentarios explicativos también son evaluables. \\n\\n \\n\\n \\n\\n \\n\\nInstalación de software necesario \\n\\nPara la realización de la práctica vamos a hacer uso de la librería Tika. Realizar la instalación \\n\\nsiguiendo el tutorial que proporciona la documentación en la teoría. \\n\\n\\n\",\n 'X-TIKA:parse_time_millis': '469',\n 'access_permission:assemble_document': 'true',\n 'access_permission:can_modify': 'true',\n 'access_permission:can_print': 'true',\n 'access_permission:can_print_degraded': 'true',\n 'access_permission:extract_content': 'true',\n 'access_permission:extract_for_accessibility': 'true',\n 'access_permission:fill_in_form': 'true',\n 'access_permission:modify_annotations': 'true',\n 'created': 'Tue Feb 28 10:43:32 CET 2023',\n 'creator': 'RAFAEL MUÑOZ GIL',\n 'date': '2023-02-28T09:43:32Z',\n 'dc:creator': 'RAFAEL MUÑOZ GIL',\n 'dc:format': 'application/pdf; version=1.7',\n 'dcterms:created': '2023-02-28T09:43:32Z',\n 'dcterms:modified': '2023-02-28T09:43:32Z',\n 'meta:author': 'RAFAEL MUÑOZ GIL',\n 'meta:creation-date': '2023-02-28T09:43:32Z',\n 'meta:save-date': '2023-02-28T09:43:32Z',\n 'modified': '2023-02-28T09:43:32Z',\n 'pdf:PDFVersion': '1.7',\n 'pdf:docinfo:created': '2023-02-28T09:43:32Z',\n 'pdf:docinfo:creator': 'RAFAEL MUÑOZ GIL',\n 'pdf:docinfo:creator_tool': 'Microsoft® Word para Microsoft 365',\n 'pdf:docinfo:modified': '2023-02-28T09:43:32Z',\n 'pdf:docinfo:producer': 'Microsoft® Word para Microsoft 365',\n 'pdf:encrypted': 'false',\n 'producer': 'Microsoft® Word para Microsoft 365',\n 'resourceName': 'Enunciado P2 POD2.pdf',\n 'xmp:CreatorTool': 'Microsoft® Word para Microsoft 365',\n 'xmpMM:DocumentID': 'uuid:D651E7C3-2EB2-4384-9D77-7A28E1C5587E',\n 'xmpTPg:NPages': '2'}"
     },
     "execution_count": 9,
     "metadata": {},
     "output_type": "execute_result"
    }
   ],
   "source": [
    "fjson"
   ],
   "metadata": {
    "collapsed": false,
    "ExecuteTime": {
     "end_time": "2024-03-04T15:37:37.487916Z",
     "start_time": "2024-03-04T15:37:37.484035Z"
    }
   },
   "id": "f7725e87312d60ed",
   "execution_count": 9
  },
  {
   "cell_type": "markdown",
   "source": [
    "Este ejemplo ilustra cómo acceder y combinar datos específicos (autor y fecha de última modificación) del JSON extraído para generar una salida personalizada."
   ],
   "metadata": {
    "collapsed": false
   },
   "id": "d408076adf5eb1c9"
  },
  {
   "cell_type": "code",
   "outputs": [
    {
     "name": "stdout",
     "output_type": "stream",
     "text": [
      "RAFAEL MUÑOZ GIL creó  2023-02-28T09:43:32Z  y lo modificó en  2023-02-28T09:43:32Z\n"
     ]
    }
   ],
   "source": [
    "print(fjson['Author'], \"creó \", fjson['Last-Modified'], \" y lo modificó en \", fjson['Last-Save-Date'])"
   ],
   "metadata": {
    "collapsed": false,
    "ExecuteTime": {
     "end_time": "2024-03-04T15:37:37.496963Z",
     "start_time": "2024-03-04T15:37:37.489034Z"
    }
   },
   "id": "89b6c6746ee192fb",
   "execution_count": 10
  },
  {
   "cell_type": "markdown",
   "source": [
    "# Operaciones de tika encapsulados\n",
    "\n",
    "Ahora que conocemos las operaciones básicas, vamos a encapsularlas en dos clases:"
   ],
   "metadata": {
    "collapsed": false
   },
   "id": "643d2208adc79534"
  },
  {
   "cell_type": "code",
   "outputs": [],
   "source": [
    "from tikapp import TikaApp\n",
    "\n",
    "\n",
    "class TikaReader:\n",
    "    def __init__(self, tika_path):\n",
    "        \"\"\"\n",
    "        Inicializa la clase TikaReader.\n",
    "        :param tika_path: Ruta al archivo jar de Tika.\n",
    "        \"\"\"\n",
    "        self.tika = TikaApp(file_jar=tika_path)\n",
    "\n",
    "    def detect_content_type(self, file_path):\n",
    "        \"\"\"\n",
    "        Detecta el tipo de contenido del archivo.\n",
    "        :param file_path: Ruta al archivo a analizar.\n",
    "        :return: Tipo de contenido del archivo.\n",
    "        \"\"\"\n",
    "        return self.tika.detect_content_type(file_path)\n",
    "\n",
    "    def detect_language(self, file_path):\n",
    "        \"\"\"\n",
    "        Detecta el idioma del contenido del archivo.\n",
    "        :param file_path: Ruta al archivo a analizar.\n",
    "        :return: Idioma del archivo.\n",
    "        \"\"\"\n",
    "        return self.tika.detect_language(file_path)\n",
    "\n",
    "    def extract_metadata(self, file_path):\n",
    "        \"\"\"\n",
    "        Extrae solo los metadatos del archivo.\n",
    "        :param file_path: Ruta al archivo a analizar.\n",
    "        :return: Metadatos del archivo.\n",
    "        \"\"\"\n",
    "        return self.tika.extract_only_metadata(file_path)\n",
    "\n",
    "    def extract_content(self, file_path):\n",
    "        \"\"\"\n",
    "        Extrae todo el contenido y metadatos del archivo.\n",
    "        :param file_path: Ruta al archivo a analizar.\n",
    "        :return: Contenido y metadatos del archivo.\n",
    "        \"\"\"\n",
    "        return self.tika.extract_all_content(file_path)\n",
    "    \n",
    "    def extract_json(self, file_path):\n",
    "        \"\"\"\n",
    "        Extrae todo el contenido y metadatos del archivo en formato json\n",
    "        :param file_path: Ruta al archivo a analizar.\n",
    "        :return: Contenido y metadatos del archivo en formato json\n",
    "        \"\"\"\n",
    "        return tika_extract_json(file_path)[0]\n"
   ],
   "metadata": {
    "collapsed": false,
    "ExecuteTime": {
     "end_time": "2024-03-04T15:37:37.506896Z",
     "start_time": "2024-03-04T15:37:37.498045Z"
    }
   },
   "id": "15408522ccae8e9c",
   "execution_count": 11
  },
  {
   "cell_type": "code",
   "outputs": [],
   "source": [
    "class ProcessJSONTika:\n",
    "    def __init__(self, json_data):\n",
    "        \"\"\"\n",
    "        Inicializa la clase ProcessJSONTika.\n",
    "        :param json_data: Datos JSON proporcionados por Tika.\n",
    "        \"\"\"\n",
    "        self.json_data = json_data\n",
    "\n",
    "    def print_metadata(self):\n",
    "        \"\"\"\n",
    "        Escribe por consola los metadatos específicos sobre autores, fecha de creación y fecha de modificación.\n",
    "        \"\"\"\n",
    "        author = self.json_data.get('Author', 'Desconocido')\n",
    "        creation_date = self.json_data.get('Creation-Date', 'Desconocida')\n",
    "        modification_date = self.json_data.get('Last-Modified', 'Desconocida')\n",
    "        print(f\"Autor: {author}, Fecha de Creación: {creation_date}, Fecha de Modificación: {modification_date}\")\n",
    "\n",
    "    def get_content(self):\n",
    "        \"\"\"\n",
    "        Obtiene solo el contenido (texto) del fichero JSON.\n",
    "        :return: Texto contenido en el fichero.\n",
    "        \"\"\"\n",
    "        return self.json_data.get('X-TIKA:content', 'Contenido no disponible')\n"
   ],
   "metadata": {
    "collapsed": false,
    "ExecuteTime": {
     "end_time": "2024-03-04T15:37:37.520837Z",
     "start_time": "2024-03-04T15:37:37.507907Z"
    }
   },
   "id": "cd8c78646ab46623",
   "execution_count": 12
  },
  {
   "cell_type": "markdown",
   "source": [
    "Primero, necesitaremos instanciar la clase TikaReader con la ruta al archivo JAR de Tika. Reemplaza tu_ruta_a_tika.jar con la ruta correcta a tu archivo JAR de Tika."
   ],
   "metadata": {
    "collapsed": false
   },
   "id": "20ec355becab40b"
  },
  {
   "cell_type": "code",
   "outputs": [],
   "source": [
    "tika_path = \"/home/duo/DataspellProjects/Traffic-Network-Transparency2.0/tika-app-1.16_duo.jar\"\n",
    "reader = TikaReader(tika_path)"
   ],
   "metadata": {
    "collapsed": false,
    "ExecuteTime": {
     "end_time": "2024-03-04T15:37:37.534366Z",
     "start_time": "2024-03-04T15:37:37.521782Z"
    }
   },
   "id": "40c66c8d8e892912",
   "execution_count": 13
  },
  {
   "cell_type": "markdown",
   "source": [
    "A continuación, prueba la detección del tipo de contenido y el idioma del archivo especificado. Reemplaza /path/to/your/file con la ruta al archivo que quieres analizar."
   ],
   "metadata": {
    "collapsed": false
   },
   "id": "2ac0511abb47f12e"
  },
  {
   "cell_type": "code",
   "outputs": [
    {
     "name": "stdout",
     "output_type": "stream",
     "text": [
      "Tipo de Contenido: application/pdf\n",
      "Idioma: es\n"
     ]
    }
   ],
   "source": [
    "# Ruta al archivo a analizar\n",
    "file_path = \"/home/duo/DataspellProjects/Traffic-Network-Transparency2.0/Enunciado P2 POD2.pdf\"\n",
    "\n",
    "# Detección del tipo de contenido\n",
    "print(\"Tipo de Contenido:\", reader.detect_content_type(file_path))\n",
    "\n",
    "# Detección del idioma\n",
    "print(\"Idioma:\", reader.detect_language(file_path))\n"
   ],
   "metadata": {
    "collapsed": false,
    "ExecuteTime": {
     "end_time": "2024-03-04T15:37:39.959727Z",
     "start_time": "2024-03-04T15:37:37.536001Z"
    }
   },
   "id": "99dbb3e37ddc7071",
   "execution_count": 14
  },
  {
   "cell_type": "markdown",
   "source": [
    "Ahora, vamos a extraer los metadatos y el contenido del archivo para su posterior procesamiento."
   ],
   "metadata": {
    "collapsed": false
   },
   "id": "47dda432e8e8e394"
  },
  {
   "cell_type": "code",
   "outputs": [
    {
     "name": "stdout",
     "output_type": "stream",
     "text": [
      "Metadatos: {\"Author\":\"RAFAEL MUÑOZ GIL\",\"Content-Length\":\"182719\",\"Content-Type\":\"application/pdf\",\"Creation-Date\":\"2023-02-28T09:43:32Z\",\"Last-Modified\":\"2023-02-28T09:43:32Z\",\"Last-Save-Date\":\"2023-02-28T09:43:32Z\",\"X-Parsed-By\":[\"org.apache.tika.parser.DefaultParser\",\"org.apache.tika.parser.pdf.PDFParser\"],\"access_permission:assemble_document\":\"true\",\"access_permission:can_modify\":\"true\",\"access_permission:can_print\":\"true\",\"access_permission:can_print_degraded\":\"true\",\"access_permission:extract_content\":\"true\",\"access_permission:extract_for_accessibility\":\"true\",\"access_permission:fill_in_form\":\"true\",\"access_permission:modify_annotations\":\"true\",\"created\":\"Tue Feb 28 10:43:32 CET 2023\",\"creator\":\"RAFAEL MUÑOZ GIL\",\"date\":\"2023-02-28T09:43:32Z\",\"dc:creator\":\"RAFAEL MUÑOZ GIL\",\"dc:format\":\"application/pdf; version\\u003d1.7\",\"dcterms:created\":\"2023-02-28T09:43:32Z\",\"dcterms:modified\":\"2023-02-28T09:43:32Z\",\"meta:author\":\"RAFAEL MUÑOZ GIL\",\"meta:creation-date\":\"2023-02-28T09:43:32Z\",\"meta:save-date\":\"2023-02-28T09:43:32Z\",\"modified\":\"2023-02-28T09:43:32Z\",\"pdf:PDFVersion\":\"1.7\",\"pdf:docinfo:created\":\"2023-02-28T09:43:32Z\",\"pdf:docinfo:creator\":\"RAFAEL MUÑOZ GIL\",\"pdf:docinfo:creator_tool\":\"Microsoft® Word para Microsoft 365\",\"pdf:docinfo:modified\":\"2023-02-28T09:43:32Z\",\"pdf:docinfo:producer\":\"Microsoft® Word para Microsoft 365\",\"pdf:encrypted\":\"false\",\"producer\":\"Microsoft® Word para Microsoft 365\",\"resourceName\":\"Enunciado P2 POD2.pdf\",\"xmp:CreatorTool\":\"Microsoft® Word para Microsoft 365\",\"xmpMM:DocumentID\":\"uuid:D651E7C3-2EB2-4384-9D77-7A28E1C5587E\",\"xmpTPg:NPages\":\"2\"}\n",
      "Contenido y Metadatos: [{\"Author\":\"RAFAEL MUÑOZ GIL\",\"Content-Length\":\"182719\",\"Content-Type\":\"application/pdf\",\"Creation-Date\":\"2023-02-28T09:43:32Z\",\"Last-Modified\":\"2023-02-28T09:43:32Z\",\"Last-Save-Date\":\"2023-02-28T09:43:32Z\",\"X-Parsed-By\":[\"org.apache.tika.parser.DefaultParser\",\"org.apache.tika.parser.pdf.PDFParser\"],\"X-TIKA:content\":\"\\n\\n\\n\\n\\n\\n\\n\\n\\n\\n\\n\\n\\n\\n\\n\\n\\n\\n\\n\\n\\n\\n\\n\\n\\n\\n\\n\\n\\n\\n\\n\\n\\n\\n\\n\\n\\n\\n\\n\\n\\n\\n\\n\\n \\n\\nPRÁCTICA OBLIGATORIA EVALUABLE \\n\\nMETADATOS CON APACHE TIKA \\n\\nObjetivo  \\n\\nEl objetivo es poner en práctica diferentes conceptos aprendidos durante el módulo y \\n\\nrelacionados con la unidad de metadatos.  \\n\\nNormativa de entrega  \\n\\n La entrega de esta práctica es obligatoria se realiza individualmente. A continuación, se detallan \\n\\notros datos de interés relacionados con la normativa de entrega:   \\n\\n• La fecha límite de entrega de la práctica será el día indicado en el campus virtual. \\n\\n• La entrega de la práctica se hará a través de Aula Virtual, empleando la actividad \\nhabilitada para ello. \\n\\n• Se deberá subir un único archivo comprimido con todo el código fuente que se haya \\nimplementado y se necesite para ejecutar la práctica, así como una memoria explicando qué se \\nha hecho y por qué. \\n\\n• El archivo debe ser nombrado de la siguiente manera: UAXAYZNombre/s. Donde: \\n\\no X es el número de la Unidad  \\no Y equivale a “I” si se ha hecho Individual o “C” si se ha hecho Colectiva  \\no Z equivale al número de práctica de la unidad. Nombre/s es vuestro nombre/s \\n\\ncompleto/s. Ejemplo: UA1AI1RafaelMuñoz \\n\\n \\n\\nEnunciado  \\n\\nEl/ La alumno/a tiene que realizar una extracción de metadatos, tratarlos y mostrarlos haciendo \\n\\nuso de una serie de funciones de la librería Tika. \\n\\nObjetivos Generales \\n\\nSe proponen los siguientes ejercicios para el procesamiento de documentos con Tika.  \\n\\n1. Crear una función (se recomienda el nombre: TikaReader) que permita llevar a cabo las \\n\\ncuatro operaciones básicas de Tika en Python. Estas cuatro operaciones deben ir \\n\\nencapsuladas en un método propio de la clase. Hacer una función donde se debe pasar \\n\\ncomo parámetro el documento a procesar (se recomienda utilizar un pdf a vuestra \\n\\nelección). Hacer otra función que debe cargar el fichero jar del cliente de Tika.  \\n\\nAyuda:  \\n\\nLibrería necesaria para este desarrollo  \\nfrom tikapp import TikaApp  \\n\\nOperaciones básicas de Tika  \\ndetect_content_type(\\u003cfichero\\u003e)  \\n\\n\\n\\ndetect_language(\\u003cfichero\\u003e)  \\n\\nextract_all_content((\\u003cfichero\\u003e, convert_to_obj\\u003d\\u003cTrue/False\\u003e)  \\n\\nextract_only_content((\\u003cfichero\\u003e) \\n\\n \\n\\n2. Crear una función (se recomienda el nombre: ProcessJSONTika) para procesar el JSON \\n\\nproporcionado por Tika en el método:  \\n\\nextract_all_content(\\u003cfichero\\u003e, convert_to_obj\\u003d\\u003cTrue/False\\u003e)  \\n\\nEsta clase debe obtener los siguientes métodos:  \\n\\nA) Dado el JSON de procesamiento Tika escribir por consola los metadatos sobre \\n\\nautores, fecha de creación y fecha de modificación.  \\n\\nB) Obtener el contenido (solo texto) del fichero JSON proporcionado por Tika.  \\n\\n \\n\\nAyuda: Se recomienda reutilizar el lector de Tika creado en el ejercicio anterior. El \\n\\natributo convert_to_obj\\u003dTrue es la manera de obtener el resultado en formato JSON. \\n\\nLos campos del fichero JSON para el apartado A son: ‘Author’, ‘Creation-Date’ y ‘Last-\\n\\nModified’. El campo del fichero JSON para el apartado B es: \\u0027X-TIKA:content’. \\n\\n \\n\\nMemoria.  \\n\\nLa resolución de la siguiente práctica consiste en la utilización de Python para extraer los \\n\\nmetadatos a un documento y mostrarlos. El/La alumno/a realizará una labor de investigación y \\n\\naprendizaje sobre la librería, poniendo en práctica de una asignatura de proyectos los \\n\\nconocimientos adquiridos en la asignatura de POD 1 y Fundamentos de Programación.  \\n\\nLa memoria deberá tener la estructura de Introducción, Desarrollo y Conclusiones. El nivel de \\n\\nexplicación y profundidad en cada uno de dichos apartados determinará la nota de la memoria. \\n\\nLa nota de la práctica la determinará el manejo que se demuestre de la librería Tika integrada \\n\\ncon Python. La estructuración del código Python (uso de funciones y recursos aprendidos en \\n\\nPOD 1), limpieza del código y comentarios explicativos también son evaluables. \\n\\n \\n\\n \\n\\n \\n\\nInstalación de software necesario \\n\\nPara la realización de la práctica vamos a hacer uso de la librería Tika. Realizar la instalación \\n\\nsiguiendo el tutorial que proporciona la documentación en la teoría. \\n\\n\\n\",\"X-TIKA:parse_time_millis\":\"437\",\"access_permission:assemble_document\":\"true\",\"access_permission:can_modify\":\"true\",\"access_permission:can_print\":\"true\",\"access_permission:can_print_degraded\":\"true\",\"access_permission:extract_content\":\"true\",\"access_permission:extract_for_accessibility\":\"true\",\"access_permission:fill_in_form\":\"true\",\"access_permission:modify_annotations\":\"true\",\"created\":\"Tue Feb 28 10:43:32 CET 2023\",\"creator\":\"RAFAEL MUÑOZ GIL\",\"date\":\"2023-02-28T09:43:32Z\",\"dc:creator\":\"RAFAEL MUÑOZ GIL\",\"dc:format\":\"application/pdf; version\\u003d1.7\",\"dcterms:created\":\"2023-02-28T09:43:32Z\",\"dcterms:modified\":\"2023-02-28T09:43:32Z\",\"meta:author\":\"RAFAEL MUÑOZ GIL\",\"meta:creation-date\":\"2023-02-28T09:43:32Z\",\"meta:save-date\":\"2023-02-28T09:43:32Z\",\"modified\":\"2023-02-28T09:43:32Z\",\"pdf:PDFVersion\":\"1.7\",\"pdf:docinfo:created\":\"2023-02-28T09:43:32Z\",\"pdf:docinfo:creator\":\"RAFAEL MUÑOZ GIL\",\"pdf:docinfo:creator_tool\":\"Microsoft® Word para Microsoft 365\",\"pdf:docinfo:modified\":\"2023-02-28T09:43:32Z\",\"pdf:docinfo:producer\":\"Microsoft® Word para Microsoft 365\",\"pdf:encrypted\":\"false\",\"producer\":\"Microsoft® Word para Microsoft 365\",\"resourceName\":\"Enunciado P2 POD2.pdf\",\"xmp:CreatorTool\":\"Microsoft® Word para Microsoft 365\",\"xmpMM:DocumentID\":\"uuid:D651E7C3-2EB2-4384-9D77-7A28E1C5587E\",\"xmpTPg:NPages\":\"2\"}]\n"
     ]
    }
   ],
   "source": [
    "# Extraer metadatos\n",
    "metadata = reader.extract_metadata(file_path)\n",
    "print(\"Metadatos:\", metadata)\n",
    "\n",
    "content_and_metadata = reader.extract_content(file_path)\n",
    "print(\"Contenido y Metadatos:\", content_and_metadata)\n"
   ],
   "metadata": {
    "collapsed": false,
    "ExecuteTime": {
     "end_time": "2024-03-04T15:37:42.186028Z",
     "start_time": "2024-03-04T15:37:39.961270Z"
    }
   },
   "id": "e853c5164b574c07",
   "execution_count": 15
  },
  {
   "cell_type": "markdown",
   "source": [
    "Finalmente, utilizaremos ProcessJSONTika para procesar la salida JSON obtenida de Tika, centrándonos en los metadatos y el contenido textual."
   ],
   "metadata": {
    "collapsed": false
   },
   "id": "82d5478126fd628a"
  },
  {
   "cell_type": "code",
   "outputs": [
    {
     "name": "stdout",
     "output_type": "stream",
     "text": [
      "Autor: RAFAEL MUÑOZ GIL, Fecha de Creación: 2023-02-28T09:43:32Z, Fecha de Modificación: 2023-02-28T09:43:32Z\n",
      "Contenido del Archivo: \n",
      "\n",
      "\n",
      "\n",
      "\n",
      "\n",
      "\n",
      "\n",
      "\n",
      "\n",
      "\n",
      "\n",
      "\n",
      "\n",
      "\n",
      "\n",
      "\n",
      "\n",
      "\n",
      "\n",
      "\n",
      "\n",
      "\n",
      "\n",
      "\n",
      "\n",
      "\n",
      "\n",
      "\n",
      "\n",
      "\n",
      "\n",
      "\n",
      "\n",
      "\n",
      "\n",
      "\n",
      "\n",
      "\n",
      "\n",
      "\n",
      "\n",
      "\n",
      "\n",
      " \n",
      "\n",
      "PRÁCTICA OBLIGATORIA EVALUABLE \n",
      "\n",
      "METADATOS CON APACHE TIKA \n",
      "\n",
      "Objetivo  \n",
      "\n",
      "El objetivo es poner en práctica diferentes conceptos aprendidos durante el módulo y \n",
      "\n",
      "relacionados con la unidad de metadatos.  \n",
      "\n",
      "Normativa de entrega  \n",
      "\n",
      " La entrega de esta práctica es obligatoria se realiza individualmente. A continuación, se detallan \n",
      "\n",
      "otros datos de interés relacionados con la normativa de entrega:   \n",
      "\n",
      "• La fecha límite de entrega de la práctica será el día indicado en el campus virtual. \n",
      "\n",
      "• La entrega de la práctica se hará a través de Aula Virtual, empleando la actividad \n",
      "habilitada para ello. \n",
      "\n",
      "• Se deberá subir un único archivo comprimido con todo el código fuente que se haya \n",
      "implementado y se necesite para ejecutar la práctica, así como una memoria explicando qué se \n",
      "ha hecho y por qué. \n",
      "\n",
      "• El archivo debe ser nombrado de la siguiente manera: UAXAYZNombre/s. Donde: \n",
      "\n",
      "o X es el número de la Unidad  \n",
      "o Y equivale a “I” si se ha hecho Individual o “C” si se ha hecho Colectiva  \n",
      "o Z equivale al número de práctica de la unidad. Nombre/s es vuestro nombre/s \n",
      "\n",
      "completo/s. Ejemplo: UA1AI1RafaelMuñoz \n",
      "\n",
      " \n",
      "\n",
      "Enunciado  \n",
      "\n",
      "El/ La alumno/a tiene que realizar una extracción de metadatos, tratarlos y mostrarlos haciendo \n",
      "\n",
      "uso de una serie de funciones de la librería Tika. \n",
      "\n",
      "Objetivos Generales \n",
      "\n",
      "Se proponen los siguientes ejercicios para el procesamiento de documentos con Tika.  \n",
      "\n",
      "1. Crear una función (se recomienda el nombre: TikaReader) que permita llevar a cabo las \n",
      "\n",
      "cuatro operaciones básicas de Tika en Python. Estas cuatro operaciones deben ir \n",
      "\n",
      "encapsuladas en un método propio de la clase. Hacer una función donde se debe pasar \n",
      "\n",
      "como parámetro el documento a procesar (se recomienda utilizar un pdf a vuestra \n",
      "\n",
      "elección). Hacer otra función que debe cargar el fichero jar del cliente de Tika.  \n",
      "\n",
      "Ayuda:  \n",
      "\n",
      "Librería necesaria para este desarrollo  \n",
      "from tikapp import TikaApp  \n",
      "\n",
      "Operaciones básicas de Tika  \n",
      "detect_content_type(<fichero>)  \n",
      "\n",
      "\n",
      "\n",
      "detect_language(<fichero>)  \n",
      "\n",
      "extract_all_content((<fichero>, convert_to_obj=<True/False>)  \n",
      "\n",
      "extract_only_content((<fichero>) \n",
      "\n",
      " \n",
      "\n",
      "2. Crear una función (se recomienda el nombre: ProcessJSONTika) para procesar el JSON \n",
      "\n",
      "proporcionado por Tika en el método:  \n",
      "\n",
      "extract_all_content(<fichero>, convert_to_obj=<True/False>)  \n",
      "\n",
      "Esta clase debe obtener los siguientes métodos:  \n",
      "\n",
      "A) Dado el JSON de procesamiento Tika escribir por consola los metadatos sobre \n",
      "\n",
      "autores, fecha de creación y fecha de modificación.  \n",
      "\n",
      "B) Obtener el contenido (solo texto) del fichero JSON proporcionado por Tika.  \n",
      "\n",
      " \n",
      "\n",
      "Ayuda: Se recomienda reutilizar el lector de Tika creado en el ejercicio anterior. El \n",
      "\n",
      "atributo convert_to_obj=True es la manera de obtener el resultado en formato JSON. \n",
      "\n",
      "Los campos del fichero JSON para el apartado A son: ‘Author’, ‘Creation-Date’ y ‘Last-\n",
      "\n",
      "Modified’. El campo del fichero JSON para el apartado B es: 'X-TIKA:content’. \n",
      "\n",
      " \n",
      "\n",
      "Memoria.  \n",
      "\n",
      "La resolución de la siguiente práctica consiste en la utilización de Python para extraer los \n",
      "\n",
      "metadatos a un documento y mostrarlos. El/La alumno/a realizará una labor de investigación y \n",
      "\n",
      "aprendizaje sobre la librería, poniendo en práctica de una asignatura de proyectos los \n",
      "\n",
      "conocimientos adquiridos en la asignatura de POD 1 y Fundamentos de Programación.  \n",
      "\n",
      "La memoria deberá tener la estructura de Introducción, Desarrollo y Conclusiones. El nivel de \n",
      "\n",
      "explicación y profundidad en cada uno de dichos apartados determinará la nota de la memoria. \n",
      "\n",
      "La nota de la práctica la determinará el manejo que se demuestre de la librería Tika integrada \n",
      "\n",
      "con Python. La estructuración del código Python (uso de funciones y recursos aprendidos en \n",
      "\n",
      "POD 1), limpieza del código y comentarios explicativos también son evaluables. \n",
      "\n",
      " \n",
      "\n",
      " \n",
      "\n",
      " \n",
      "\n",
      "Instalación de software necesario \n",
      "\n",
      "Para la realización de la práctica vamos a hacer uso de la librería Tika. Realizar la instalación \n",
      "\n",
      "siguiendo el tutorial que proporciona la documentación en la teoría. \n",
      "\n",
      "\n"
     ]
    }
   ],
   "source": [
    "process_json = ProcessJSONTika(reader.extract_json(file_path))\n",
    "\n",
    "# Imprimir metadatos específicos\n",
    "process_json.print_metadata()\n",
    "\n",
    "print(\"Contenido del Archivo:\", process_json.get_content())\n"
   ],
   "metadata": {
    "collapsed": false,
    "ExecuteTime": {
     "end_time": "2024-03-04T15:38:00.352878Z",
     "start_time": "2024-03-04T15:37:59.018488Z"
    }
   },
   "id": "c1e7ae363ca46c19",
   "execution_count": 17
  },
  {
   "cell_type": "markdown",
   "source": [
    "# Conclusiones y Observaciones\n",
    "\n",
    "Este trabajo presenta un caso de uso detallado para la biblioteca Apache Tika a través de su interfaz Python tikapp. A través de las celdas examinadas, podemos apreciar cómo Tika facilita la extracción de metadatos y contenido de archivos, particularmente PDFs, con aplicaciones potenciales en análisis de documentos, gestión de información y cumplimiento normativo. La capacidad de extraer texto limpio y metadatos ricos de documentos complejos y presentarlos en un formato estructurado (JSON) es particularmente valiosa para la ciencia de datos y la automatización de procesos relacionados con documentos.\n",
    "\n",
    "El cuaderno también destaca la importancia de la manipulación de datos extraídos para aplicaciones específicas, como la generación de salidas personalizadas basadas en metadatos específicos. La versatilidad de Tika, combinada con el poder de Python para el procesamiento de datos, demuestra ser una herramienta poderosa para el análisis y gestión de documentos en una amplia gama de aplicaciones.\n",
    "\n",
    "Además, este análisis subraya la importancia de las herramientas de extracción de datos en el contexto del big data y la inteligencia artificial. En un mundo donde la cantidad de información crece exponencialmente, herramientas como Apache Tika se vuelven indispensables para filtrar, analizar y comprender grandes volúmenes de datos no estructurados. La capacidad de procesar y analizar automáticamente documentos en diversos formatos abre nuevas puertas para la investigación, el desarrollo de soluciones innovadoras y la toma de decisiones basada en datos.\n",
    "\n",
    "La integración de Tika con Python, gracias a tikapp, facilita su adopción y utilización en proyectos de ciencia de datos y automatización, permitiendo a los usuarios centrarse en el análisis y la interpretación de los datos más que en la extracción de los mismos. Este enfoque pragmático hacia la gestión de documentos digitales destaca el valor de combinar herramientas de software libre y de código abierto para enfrentar desafíos complejos en el procesamiento de información.\n",
    "\n",
    "Finalmente, este cuaderno no solo demuestra la funcionalidad de Apache Tika sino que también sirve como un recurso educativo para aquellos interesados en la ciencia de datos y la gestión documental. Al proporcionar ejemplos claros y aplicables, facilita la comprensión de conceptos clave en el análisis de documentos y la extracción de datos, promoviendo así el desarrollo de habilidades relevantes para el futuro de la tecnología y la información."
   ],
   "metadata": {
    "collapsed": false
   },
   "id": "6bbb15d6647ffc75"
  }
 ],
 "metadata": {
  "kernelspec": {
   "display_name": "Python 3",
   "language": "python",
   "name": "python3"
  },
  "language_info": {
   "codemirror_mode": {
    "name": "ipython",
    "version": 2
   },
   "file_extension": ".py",
   "mimetype": "text/x-python",
   "name": "python",
   "nbconvert_exporter": "python",
   "pygments_lexer": "ipython2",
   "version": "2.7.6"
  }
 },
 "nbformat": 4,
 "nbformat_minor": 5
}
