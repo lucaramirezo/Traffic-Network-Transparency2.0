{
 "cells": [
  {
   "cell_type": "markdown",
   "source": [
    "### Imports"
   ],
   "metadata": {
    "collapsed": false
   }
  },
  {
   "cell_type": "code",
   "execution_count": 1,
   "source": [
    "import pandas as pd\n",
    "from my_connector import MySQLConnector\n",
    "import numpy as np\n",
    "import matplotlib as plt"
   ],
   "metadata": {
    "collapsed": false
   },
   "outputs": []
  },
  {
   "cell_type": "markdown",
   "source": [
    "## Leemos el dataset de paradas de metro"
   ],
   "metadata": {
    "collapsed": false
   }
  },
  {
   "cell_type": "code",
   "execution_count": 2,
   "source": [
    "df_stops = pd.read_csv('./Datasets/stopsmetro.csv')\n",
    "df_stops.head()"
   ],
   "metadata": {
    "collapsed": false
   },
   "outputs": []
  },
  {
   "cell_type": "markdown",
   "source": [
    " nos quitamos las columnas no deseadas"
   ],
   "metadata": {
    "collapsed": false
   }
  },
  {
   "cell_type": "code",
   "execution_count": 3,
   "source": [
    "df_stops.drop(columns=['stop_timezone', 'wheelchair_boarding', 'stop_url', ' location_type'], inplace=True)"
   ],
   "metadata": {
    "collapsed": false
   },
   "outputs": []
  },
  {
   "cell_type": "markdown",
   "source": [
    "Como está dando un error extraño, inspeccionamos las columnas para saber cual es el problema"
   ],
   "metadata": {
    "collapsed": false
   }
  },
  {
   "cell_type": "code",
   "execution_count": 4,
   "source": [
    "# Inspeccionar los nombres de las columnas para identificar espacios adicionales o caracteres inusuales\n",
    "column_names = [col.strip() for col in df_stops.columns]\n",
    "\n",
    "# Mostrar los nombres de las columnas después de eliminar los espacios adicionales\n",
    "column_names"
   ],
   "metadata": {
    "collapsed": false
   },
   "outputs": []
  },
  {
   "cell_type": "markdown",
   "source": [
    "Sustituimos los nombres para que coincidan y nos quitamos las columnas no deseadas"
   ],
   "metadata": {
    "collapsed": false
   }
  },
  {
   "cell_type": "code",
   "execution_count": 5,
   "source": [
    "# Eliminar específicamente las columnas 'stop_timezone' y 'wheelchair_boarding' después de ajustar los nombres de las columnas\n",
    "df_stops.columns = column_names\n",
    "df_stops = df_stops.drop(['stop_timezone', 'wheelchair_boarding', 'stop_url', 'location_type'], axis=1)\n",
    "\n",
    "# Mostrar las primeras filas del DataFrame corregido para confirmar la eliminación de las columnas\n",
    "df_stops.head()"
   ],
   "metadata": {
    "collapsed": false
   },
   "outputs": []
  },
  {
   "cell_type": "markdown",
   "source": [
    "Vamos a realizar la conexion a la BBDD y ejecutar el query para montar la estructura relacional de la misma con tablas dcon la siguiente información:\n",
    "1. **Tabla Stations**\n",
    "Columnas:\n",
    "station_id (VARCHAR, PRIMARY KEY): Basado en stop_id.\n",
    "station_code (INT): Basado en stop_code.\n",
    "name (VARCHAR): Basado en stop_name.\n",
    "description (VARCHAR): Basado en stop_desc.\n",
    "latitude (FLOAT): Basado en stop_lat.\n",
    "longitude (FLOAT): Basado en stop_lon.\n",
    "zone_id (VARCHAR): Basado en zone_id.\n",
    "\n",
    "2. **Tabla LocationTypes**\n",
    "Columnas:\n",
    "location_type_id (INT, PRIMARY KEY)\n",
    "description (VARCHAR)\n",
    "\n",
    "3. **Tabla StationLocationTypes**\n",
    "Columnas:\n",
    "station_id (VARCHAR): Clave foránea de Stations.\n",
    "location_type_id (INT): Clave foránea de LocationTypes.\n",
    "4. **Tabla ParentStations**\n",
    "Columnas:\n",
    "parent_station_id (VARCHAR, PRIMARY KEY)\n",
    "station_id (VARCHAR): Clave foránea de Stations."
   ],
   "metadata": {
    "collapsed": false
   }
  },
  {
   "cell_type": "code",
   "execution_count": 34,
   "source": [
    "# Crear una instancia del conector\n",
    "connector = MySQLConnector(host=\"localhost\", user=\"root\", password=\"root\", database=\"tnt\")\n",
    "# Conectar a la base de datos\n",
    "connector.connect()\n",
    "\n",
    "# Lista de consultas SQL para crear las tablas\n",
    "queries = [\n",
    "    \"\"\"\n",
    "    CREATE TABLE `Parent_Stations` (\n",
    "    `station_id` VARCHAR(255) PRIMARY KEY,\n",
    "    `name` VARCHAR(255),\n",
    "    `description` VARCHAR(255),\n",
    "    `latitude` DOUBLE,\n",
    "    `longitude` DOUBLE,\n",
    "    `zone_id` VARCHAR(255)\n",
    ");\n",
    "\n",
    "\"\"\"\n",
    "    ,\n",
    "    \"\"\"\n",
    "    CREATE TABLE `Stops` (\n",
    "    `stop_id` VARCHAR(255) PRIMARY KEY,\n",
    "    `stop_code` INT,\n",
    "    `name` VARCHAR(255),\n",
    "    `description` VARCHAR(255),\n",
    "    `latitude` DOUBLE,\n",
    "    `longitude` DOUBLE,\n",
    "    `zone_id` VARCHAR(255),\n",
    "    `parent_station_id` VARCHAR(255),\n",
    "    FOREIGN KEY (`parent_station_id`) REFERENCES `Parent_Stations`(`station_id`)\n",
    ");\n",
    "    \"\"\"\n",
    "]\n",
    "\n",
    "# Ejecutar cada consulta para crear las tablas\n",
    "for query in queries:\n",
    "    connector.execute_query(query)"
   ],
   "metadata": {
    "collapsed": false
   },
   "outputs": []
  },
  {
   "cell_type": "markdown",
   "source": [
    "Extraemos valores únicos de parent_station (excluyendo valores nulos o vacíos)"
   ],
   "metadata": {
    "collapsed": false
   }
  },
  {
   "cell_type": "code",
   "execution_count": 35,
   "source": [
    "unique_parent_stations = df_stops[df_stops['parent_station'].notna()]['parent_station'].unique()\n",
    "unique_parent_stations = pd.DataFrame(unique_parent_stations)\n",
    "unique_parent_stations.rename(columns={0:'station_id'}, inplace=True)\n",
    "unique_parent_stations"
   ],
   "metadata": {
    "collapsed": false
   },
   "outputs": []
  },
  {
   "cell_type": "markdown",
   "source": [
    "Extraer información completa para las estaciones padre"
   ],
   "metadata": {
    "collapsed": false
   }
  },
  {
   "cell_type": "code",
   "execution_count": 36,
   "source": [
    "# Extraer información completa para las estaciones parentales\n",
    "parent_stations_info = df_stops[df_stops['stop_id'].isin(unique_parent_stations['station_id'])]\n",
    "parent_stations_info"
   ],
   "metadata": {
    "collapsed": false
   },
   "outputs": []
  },
  {
   "cell_type": "markdown",
   "source": [
    "Vemos que solo recibimos 4 entradas de estaciones padre que existen en el csv, pero hay más referenciadas. Procederemos a agregarlas a la tabla de estaciones padre para no perder la integridad de los datos y que estén relacionadas con sus estaciones padre"
   ],
   "metadata": {
    "collapsed": false
   }
  },
  {
   "cell_type": "code",
   "execution_count": 37,
   "source": [
    "for station_id in unique_parent_stations['station_id']:\n",
    "    if station_id not in parent_stations_info['stop_id'].values:\n",
    "        # Crea un registro nuevo con valores nulos o predeterminados\n",
    "        new_row = {'stop_id': station_id, 'stop_name': 'Nombre desconocido', 'stop_desc': 'Descripción no disponible',\n",
    "                   'stop_lat': 0.0, 'stop_lon': 0.0, 'zone_id': 'Desconocido'}\n",
    "        # Añade este nuevo registro a parent_stations_info\n",
    "        parent_stations_info = parent_stations_info.append(new_row, ignore_index=True)\n",
    "parent_stations_info"
   ],
   "metadata": {
    "collapsed": false
   },
   "outputs": []
  },
  {
   "cell_type": "code",
   "execution_count": 38,
   "source": [
    "parent_stations_info.drop(columns=['parent_station','stop_code'], inplace=True)\n",
    "parent_stations_info.head()"
   ],
   "metadata": {
    "collapsed": false
   },
   "outputs": []
  },
  {
   "cell_type": "markdown",
   "source": [
    "Introducimos los datos del dataframe parent_stations_info en la tabla Parent_Stations"
   ],
   "metadata": {
    "collapsed": false
   }
  },
  {
   "cell_type": "code",
   "execution_count": 39,
   "source": [
    "# Iterar sobre cada fila del DataFrame para preparar y ejecutar las consultas SQL\n",
    "for index, row in parent_stations_info.iterrows():\n",
    "    query = f\"\"\"\n",
    "    INSERT INTO `Parent_Stations` (station_id, name, description, latitude, longitude, zone_id)\n",
    "    VALUES ('{row['stop_id']}', '{row['stop_name']}', '{row['stop_desc']}', {row['stop_lat']}, {row['stop_lon']}, '{row['zone_id']}');\n",
    "    \"\"\"\n",
    "    connector.execute_query(query)"
   ],
   "metadata": {
    "collapsed": false
   },
   "outputs": []
  },
  {
   "cell_type": "markdown",
   "source": [
    "Preparamos un df para introducir a la tabla Stops sin redundar con la tabla Parent_stations"
   ],
   "metadata": {
    "collapsed": false
   }
  },
  {
   "cell_type": "code",
   "execution_count": 40,
   "source": [
    "stops_to_insert = df_stops[~df_stops['stop_id'].isin(parent_stations_info['stop_id'])]\n",
    "\n",
    "stops_to_insert['parent_station'] = stops_to_insert['parent_station'].fillna('NULL')\n",
    "stops_to_insert.head()"
   ],
   "metadata": {
    "collapsed": false
   },
   "outputs": []
  },
  {
   "cell_type": "markdown",
   "source": [
    "Introducimos los datos del dataframe stops_to_insert en la tabla Stops tratando con los nulos en parent_station ya que es un FK"
   ],
   "metadata": {
    "collapsed": false
   }
  },
  {
   "cell_type": "code",
   "execution_count": 41,
   "source": [
    "# Iterar sobre cada fila del DataFrame para preparar y ejecutar las consultas SQL\n",
    "for index, row in stops_to_insert.iterrows():\n",
    "    # Verificar si parent_station debe ser tratado como NULL en SQL\n",
    "    parent_station_value = 'NULL' if row['parent_station'] == 'NULL' else f\"'{row['parent_station']}'\"\n",
    "\n",
    "    # Preparar la consulta SQL teniendo en cuenta el tratamiento correcto de NULL\n",
    "    query = f\"\"\"\n",
    "    INSERT INTO `Stops` (stop_id, stop_code, name, description, latitude, longitude, zone_id, parent_station_id)\n",
    "    VALUES ('{row['stop_id']}', {row['stop_code']}, '{row['stop_name']}', '{row['stop_desc']}', {row['stop_lat']}, {row['stop_lon']}, '{row['zone_id']}', {parent_station_value});\n",
    "    \"\"\"\n",
    "\n",
    "    connector.execute_query(query)\n",
    "\n",
    "connector.close()\n"
   ],
   "metadata": {
    "collapsed": false
   },
   "outputs": []
  },
  {
   "cell_type": "markdown",
   "source": [
    "## Distritos\n",
    "Creamos una tabla distritos para poder ubicar generalmente cada estacion de metro"
   ],
   "metadata": {
    "collapsed": false
   }
  },
  {
   "cell_type": "code",
   "execution_count": 42,
   "source": [
    "# Crear una instancia del conector\n",
    "connector = MySQLConnector(host=\"localhost\", user=\"root\", password=\"root\", database=\"tnt\")\n",
    "# Conectar a la base de datos\n",
    "connector.connect()\n",
    "queries =['''\n",
    "DROP TABLE IF EXISTS Distritos;\n",
    "''',\n",
    "'''\n",
    "CREATE TABLE Distritos (\n",
    "  codigo_distrito int NOT NULL,\n",
    "  nombre_distrito varchar(50) DEFAULT NULL,\n",
    "  PRIMARY KEY (codigo_distrito)\n",
    ");\n",
    "''',\n",
    "\n",
    "'''\n",
    "INSERT INTO Distritos VALUES (0,'DESCONOCIDO'),(1,'CENTRO'),(2,'ARGANZUELA'),(3,'RETIRO'),(4,'SALAMANCA'),(5,'CHAMARTÍN'),(6,'TETUÁN'),(7,'CHAMBERÍ'),(8,'FUENCARRAL-EL PARDO'),(9,'MONCLOA-ARAVACA'),(10,'LATINA'),(11,'CARABANCHEL'),(12,'USERA'),(13,'PUENTE DE VALLECAS'),(14,'MORATALAZ'),(15,'CIUDAD LINEAL'),(16,'HORTALEZA'),(17,'VILLAVERDE'),(18,'VILLA DE VALLECAS'),(19,'VICÁLVARO'),(20,'SAN BLAS-CANILLEJAS'),(21,'BARAJAS');\n",
    "'''\n",
    "]\n",
    "\n",
    "for query in queries:\n",
    "    connector.execute_query(query)"
   ],
   "metadata": {
    "collapsed": false
   },
   "outputs": []
  },
  {
   "cell_type": "markdown",
   "source": [
    "### Agregamos columnas distritos a las tablas Parent_Stations y Stops"
   ],
   "metadata": {
    "collapsed": false
   }
  },
  {
   "cell_type": "code",
   "execution_count": 44,
   "source": [
    "queries=[\"\"\"\n",
    "ALTER TABLE parent_stations\n",
    "ADD COLUMN codigo_distrito int,\n",
    "ADD CONSTRAINT fk_distrito_parents FOREIGN KEY (codigo_distrito) REFERENCES distritos(codigo_distrito)\n",
    "\"\"\",\n",
    "         \"\"\"\n",
    "ALTER TABLE stops\n",
    "ADD COLUMN codigo_distrito int,\n",
    "ADD CONSTRAINT fk_distrito_stops FOREIGN KEY (codigo_distrito) REFERENCES distritos(codigo_distrito)\n",
    "\"\"\"]\n",
    "\n",
    "for query in queries:\n",
    "    connector.execute_query(query)"
   ],
   "metadata": {
    "collapsed": false
   },
   "outputs": []
  },
  {
   "cell_type": "markdown",
   "source": [
    "Leemos ahora datos específicos en las tablas ejecutando sentencias como SELECT, UPDATE o VIEW"
   ],
   "metadata": {
    "collapsed": false
   }
  },
  {
   "cell_type": "markdown",
   "source": [
    "## Casos de Uso de las Tablas"
   ],
   "metadata": {
    "collapsed": false
   }
  },
  {
   "cell_type": "markdown",
   "source": [
    "### Consultar todas las paradas junto con su estación parental\n",
    "Seleccionamos los identificadores y nombres de las paradas junto con sus coordenadas geográficas. Además, vamos a recoger la información correspondiente de sus estaciones principales asociadas si existen. Para las paradas que no tienen una estación principal asignada, aún se mostrarán en los resultados con los detalles de la estación principal como nulos"
   ],
   "metadata": {
    "collapsed": false
   }
  },
  {
   "cell_type": "code",
   "execution_count": 15,
   "source": [
    "query =\"\"\"\n",
    "SELECT s.stop_id, s.name AS stop_name, s.latitude, s.longitude, p.station_id AS parent_station_id, p.name AS parent_station_name\n",
    "FROM Stops s\n",
    "LEFT JOIN `Parent_Stations` p ON s.parent_station_id = p.station_id;\n",
    "\"\"\"\n",
    "df_padres_hijos = connector.fetch_data_as_df(query)\n",
    "df_padres_hijos"
   ],
   "metadata": {
    "collapsed": false
   },
   "outputs": []
  },
  {
   "cell_type": "markdown",
   "source": [
    "### Encontrar paradas sin estación parental\n",
    "Obtenemos los identificadores, nombres y descripciones de las paradas que no están asignadas a ninguna estación principal."
   ],
   "metadata": {
    "collapsed": false
   }
  },
  {
   "cell_type": "code",
   "execution_count": 16,
   "source": [
    "query= '''\n",
    "SELECT stop_id, name, description\n",
    "FROM Stops\n",
    "WHERE parent_station_id IS NULL;\n",
    "'''\n",
    "df_stops_without_parent= connector.fetch_data_as_df(query)\n",
    "df_stops_without_parent"
   ],
   "metadata": {
    "collapsed": false
   },
   "outputs": []
  },
  {
   "cell_type": "markdown",
   "source": [
    "### Listar distritos con el número total de paradas\n",
    "De la tabla distritos, seleccionamos las que comparten el mismo codigo de distrito en la tabla stops y las agrupammos por distrito"
   ],
   "metadata": {
    "collapsed": false
   }
  },
  {
   "cell_type": "code",
   "execution_count": 45,
   "source": [
    "query= '''\n",
    "SELECT d.nombre_distrito, COUNT(s.stop_id) AS num_stops\n",
    "FROM distritos d\n",
    "LEFT JOIN stops s ON d.codigo_distrito = s.codigo_distrito\n",
    "GROUP BY d.nombre_distrito;\n",
    "'''\n",
    "df_dist_count= connector.fetch_data_as_df(query)\n",
    "df_dist_count"
   ],
   "metadata": {
    "collapsed": false
   },
   "outputs": []
  },
  {
   "cell_type": "markdown",
   "source": [
    "### Consulta de todas las paradas en un distrito específico\n",
    "Vamos a buscar y listar todas las paradas que están en el distrito X, en este caso: 'FUENCARRAL-EL PARDO', mostrando su nombre, descripción y coordenadas geográficas. Para ello, uniremos la tabla de paradas con la tabla de distritos basándonos en su código de distrito común."
   ],
   "metadata": {
    "collapsed": false
   }
  },
  {
   "cell_type": "code",
   "execution_count": 50,
   "source": [
    "query= '''\n",
    "SELECT s.name, s.description, s.latitude, s.longitude\n",
    "FROM stops s\n",
    "JOIN distritos d ON s.codigo_distrito = d.codigo_distrito\n",
    "WHERE d.nombre_distrito = 'FUENCARRAL-EL PARDO';\n",
    "'''\n",
    "df_stops_in_dist = connector.fetch_data_as_df(query)\n",
    "df_stops_in_dist"
   ],
   "metadata": {
    "collapsed": false
   },
   "outputs": []
  },
  {
   "cell_type": "markdown",
   "source": [
    "### Buscar paradas cercanas dentro de un radio específico (por ejemplo, 0.01 grados latitud/longitud):\n",
    "Identificamos paradas de autobús cercanas entre sí en términos de su ubicación geográfica. Comparamos cada parada con todas las otras usando sus coordenadas de latitud y longitud. Establecemos un umbral de cercanía de 0.01 grados, que es aproximadamente 1 km o menos dependiendo de la ubicación geográfica, para considerar dos paradas como \"cercanas\". La consulta excluye comparaciones de una parada con sí misma para evitar falsos positivos."
   ],
   "metadata": {
    "collapsed": false
   }
  },
  {
   "cell_type": "code",
   "execution_count": 51,
   "source": [
    "query= '''\n",
    "SELECT s1.name AS stop_name, s2.name AS nearby_stop_name\n",
    "FROM stops s1, stops s2\n",
    "WHERE ABS(s1.latitude - s2.latitude) < 0.01 AND ABS(s1.longitude - s2.longitude) < 0.01 AND s1.stop_id <> s2.stop_id;\n",
    "'''\n",
    "df_nearby_stops= connector.fetch_data_as_df(query)\n",
    "df_nearby_stops"
   ],
   "metadata": {
    "collapsed": false
   },
   "outputs": []
  }
 ],
 "metadata": {
  "kernelspec": {
   "display_name": "Python 3",
   "language": "python",
   "name": "python3"
  },
  "language_info": {
   "codemirror_mode": {
    "name": "ipython",
    "version": 2
   },
   "file_extension": ".py",
   "mimetype": "text/x-python",
   "name": "python",
   "nbconvert_exporter": "python",
   "pygments_lexer": "ipython2",
   "version": "2.7.6"
  }
 },
 "nbformat": 4,
 "nbformat_minor": 0
}
