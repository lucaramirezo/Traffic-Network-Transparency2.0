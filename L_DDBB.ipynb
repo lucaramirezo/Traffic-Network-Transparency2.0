{
 "cells": [
  {
   "cell_type": "markdown",
   "source": [
    "### Imports"
   ],
   "metadata": {
    "collapsed": false
   }
  },
  {
   "cell_type": "code",
   "execution_count": 1,
   "outputs": [],
   "source": [
    "import pandas as pd\n",
    "from my_connector import MySQLConnector\n",
    "import numpy as np\n",
    "import matplotlib as plt"
   ],
   "metadata": {
    "collapsed": false
   }
  },
  {
   "cell_type": "markdown",
   "source": [
    "## Leemos el dataset de paradas de metro"
   ],
   "metadata": {
    "collapsed": false
   }
  },
  {
   "cell_type": "code",
   "execution_count": 18,
   "outputs": [
    {
     "data": {
      "text/plain": "         stop_id   stop_code               stop_name  \\\n0      par_4_284         284  HOSPITAL INFANTA SOFIA   \n1      par_4_279         279             LA MORALEJA   \n2  acc_4_279_684         279                Ascensor   \n3      par_4_283         283         REYES CATOLICOS   \n4      par_4_280         280  MARQUES DE LA VALDAVIA   \n\n                             stop_desc   stop_lat   stop_lon  zone_id  \\\n0                    Paseo   Europa 11   40.55977   -3.61145       B1   \n1                  Avda de la Ermita 5   40.53196   -3.63556       B1   \n2                  Avda de la Ermita 5   40.53199   -3.63548      NaN   \n3          Avda de la Plaza de Toros 7   40.55037   -3.62340       B1   \n4  Calle del Marqués de la Valdavia 21   40.54102   -3.63738       B1   \n\n             stop_url   location_type  parent_station  stop_timezone  \\\n0  http://www.crtm.es               0             NaN  Europe/Madrid   \n1  http://www.crtm.es               0             NaN  Europe/Madrid   \n2  http://www.crtm.es               2       est_4_279            NaN   \n3  http://www.crtm.es               0             NaN  Europe/Madrid   \n4  http://www.crtm.es               0             NaN  Europe/Madrid   \n\n    wheelchair_boarding  \n0                     2  \n1                     2  \n2                     0  \n3                     2  \n4                     2  ",
      "text/html": "<div>\n<style scoped>\n    .dataframe tbody tr th:only-of-type {\n        vertical-align: middle;\n    }\n\n    .dataframe tbody tr th {\n        vertical-align: top;\n    }\n\n    .dataframe thead th {\n        text-align: right;\n    }\n</style>\n<table border=\"1\" class=\"dataframe\">\n  <thead>\n    <tr style=\"text-align: right;\">\n      <th></th>\n      <th>stop_id</th>\n      <th>stop_code</th>\n      <th>stop_name</th>\n      <th>stop_desc</th>\n      <th>stop_lat</th>\n      <th>stop_lon</th>\n      <th>zone_id</th>\n      <th>stop_url</th>\n      <th>location_type</th>\n      <th>parent_station</th>\n      <th>stop_timezone</th>\n      <th>wheelchair_boarding</th>\n    </tr>\n  </thead>\n  <tbody>\n    <tr>\n      <th>0</th>\n      <td>par_4_284</td>\n      <td>284</td>\n      <td>HOSPITAL INFANTA SOFIA</td>\n      <td>Paseo   Europa 11</td>\n      <td>40.55977</td>\n      <td>-3.61145</td>\n      <td>B1</td>\n      <td>http://www.crtm.es</td>\n      <td>0</td>\n      <td>NaN</td>\n      <td>Europe/Madrid</td>\n      <td>2</td>\n    </tr>\n    <tr>\n      <th>1</th>\n      <td>par_4_279</td>\n      <td>279</td>\n      <td>LA MORALEJA</td>\n      <td>Avda de la Ermita 5</td>\n      <td>40.53196</td>\n      <td>-3.63556</td>\n      <td>B1</td>\n      <td>http://www.crtm.es</td>\n      <td>0</td>\n      <td>NaN</td>\n      <td>Europe/Madrid</td>\n      <td>2</td>\n    </tr>\n    <tr>\n      <th>2</th>\n      <td>acc_4_279_684</td>\n      <td>279</td>\n      <td>Ascensor</td>\n      <td>Avda de la Ermita 5</td>\n      <td>40.53199</td>\n      <td>-3.63548</td>\n      <td>NaN</td>\n      <td>http://www.crtm.es</td>\n      <td>2</td>\n      <td>est_4_279</td>\n      <td>NaN</td>\n      <td>0</td>\n    </tr>\n    <tr>\n      <th>3</th>\n      <td>par_4_283</td>\n      <td>283</td>\n      <td>REYES CATOLICOS</td>\n      <td>Avda de la Plaza de Toros 7</td>\n      <td>40.55037</td>\n      <td>-3.62340</td>\n      <td>B1</td>\n      <td>http://www.crtm.es</td>\n      <td>0</td>\n      <td>NaN</td>\n      <td>Europe/Madrid</td>\n      <td>2</td>\n    </tr>\n    <tr>\n      <th>4</th>\n      <td>par_4_280</td>\n      <td>280</td>\n      <td>MARQUES DE LA VALDAVIA</td>\n      <td>Calle del Marqués de la Valdavia 21</td>\n      <td>40.54102</td>\n      <td>-3.63738</td>\n      <td>B1</td>\n      <td>http://www.crtm.es</td>\n      <td>0</td>\n      <td>NaN</td>\n      <td>Europe/Madrid</td>\n      <td>2</td>\n    </tr>\n  </tbody>\n</table>\n</div>"
     },
     "execution_count": 18,
     "metadata": {},
     "output_type": "execute_result"
    }
   ],
   "source": [
    "df_stops = pd.read_csv('./Datasets/stopsmetro.csv')\n",
    "df_stops.head()"
   ],
   "metadata": {
    "collapsed": false
   }
  },
  {
   "cell_type": "markdown",
   "source": [
    " nos quitamos las columnas no deseadas"
   ],
   "metadata": {
    "collapsed": false
   }
  },
  {
   "cell_type": "code",
   "execution_count": 3,
   "outputs": [
    {
     "ename": "KeyError",
     "evalue": "\"['stop_timezone', 'wheelchair_boarding', 'stop_url'] not found in axis\"",
     "output_type": "error",
     "traceback": [
      "\u001B[1;31m---------------------------------------------------------------------------\u001B[0m",
      "\u001B[1;31mKeyError\u001B[0m                                  Traceback (most recent call last)",
      "\u001B[1;32m~\\AppData\\Local\\Temp\\ipykernel_15912\\3782057120.py\u001B[0m in \u001B[0;36m<module>\u001B[1;34m\u001B[0m\n\u001B[1;32m----> 1\u001B[1;33m \u001B[0mdf_stops\u001B[0m\u001B[1;33m.\u001B[0m\u001B[0mdrop\u001B[0m\u001B[1;33m(\u001B[0m\u001B[0mcolumns\u001B[0m\u001B[1;33m=\u001B[0m\u001B[1;33m[\u001B[0m\u001B[1;34m'stop_timezone'\u001B[0m\u001B[1;33m,\u001B[0m \u001B[1;34m'wheelchair_boarding'\u001B[0m\u001B[1;33m,\u001B[0m \u001B[1;34m'stop_url'\u001B[0m\u001B[1;33m,\u001B[0m \u001B[1;34m' location_type'\u001B[0m\u001B[1;33m]\u001B[0m\u001B[1;33m,\u001B[0m \u001B[0minplace\u001B[0m\u001B[1;33m=\u001B[0m\u001B[1;32mTrue\u001B[0m\u001B[1;33m)\u001B[0m\u001B[1;33m\u001B[0m\u001B[1;33m\u001B[0m\u001B[0m\n\u001B[0m",
      "\u001B[1;32m~\\anaconda3\\lib\\site-packages\\pandas\\util\\_decorators.py\u001B[0m in \u001B[0;36mwrapper\u001B[1;34m(*args, **kwargs)\u001B[0m\n\u001B[0;32m    309\u001B[0m                     \u001B[0mstacklevel\u001B[0m\u001B[1;33m=\u001B[0m\u001B[0mstacklevel\u001B[0m\u001B[1;33m,\u001B[0m\u001B[1;33m\u001B[0m\u001B[1;33m\u001B[0m\u001B[0m\n\u001B[0;32m    310\u001B[0m                 )\n\u001B[1;32m--> 311\u001B[1;33m             \u001B[1;32mreturn\u001B[0m \u001B[0mfunc\u001B[0m\u001B[1;33m(\u001B[0m\u001B[1;33m*\u001B[0m\u001B[0margs\u001B[0m\u001B[1;33m,\u001B[0m \u001B[1;33m**\u001B[0m\u001B[0mkwargs\u001B[0m\u001B[1;33m)\u001B[0m\u001B[1;33m\u001B[0m\u001B[1;33m\u001B[0m\u001B[0m\n\u001B[0m\u001B[0;32m    312\u001B[0m \u001B[1;33m\u001B[0m\u001B[0m\n\u001B[0;32m    313\u001B[0m         \u001B[1;32mreturn\u001B[0m \u001B[0mwrapper\u001B[0m\u001B[1;33m\u001B[0m\u001B[1;33m\u001B[0m\u001B[0m\n",
      "\u001B[1;32m~\\anaconda3\\lib\\site-packages\\pandas\\core\\frame.py\u001B[0m in \u001B[0;36mdrop\u001B[1;34m(self, labels, axis, index, columns, level, inplace, errors)\u001B[0m\n\u001B[0;32m   4955\u001B[0m                 \u001B[0mweight\u001B[0m  \u001B[1;36m1.0\u001B[0m     \u001B[1;36m0.8\u001B[0m\u001B[1;33m\u001B[0m\u001B[1;33m\u001B[0m\u001B[0m\n\u001B[0;32m   4956\u001B[0m         \"\"\"\n\u001B[1;32m-> 4957\u001B[1;33m         return super().drop(\n\u001B[0m\u001B[0;32m   4958\u001B[0m             \u001B[0mlabels\u001B[0m\u001B[1;33m=\u001B[0m\u001B[0mlabels\u001B[0m\u001B[1;33m,\u001B[0m\u001B[1;33m\u001B[0m\u001B[1;33m\u001B[0m\u001B[0m\n\u001B[0;32m   4959\u001B[0m             \u001B[0maxis\u001B[0m\u001B[1;33m=\u001B[0m\u001B[0maxis\u001B[0m\u001B[1;33m,\u001B[0m\u001B[1;33m\u001B[0m\u001B[1;33m\u001B[0m\u001B[0m\n",
      "\u001B[1;32m~\\anaconda3\\lib\\site-packages\\pandas\\core\\generic.py\u001B[0m in \u001B[0;36mdrop\u001B[1;34m(self, labels, axis, index, columns, level, inplace, errors)\u001B[0m\n\u001B[0;32m   4265\u001B[0m         \u001B[1;32mfor\u001B[0m \u001B[0maxis\u001B[0m\u001B[1;33m,\u001B[0m \u001B[0mlabels\u001B[0m \u001B[1;32min\u001B[0m \u001B[0maxes\u001B[0m\u001B[1;33m.\u001B[0m\u001B[0mitems\u001B[0m\u001B[1;33m(\u001B[0m\u001B[1;33m)\u001B[0m\u001B[1;33m:\u001B[0m\u001B[1;33m\u001B[0m\u001B[1;33m\u001B[0m\u001B[0m\n\u001B[0;32m   4266\u001B[0m             \u001B[1;32mif\u001B[0m \u001B[0mlabels\u001B[0m \u001B[1;32mis\u001B[0m \u001B[1;32mnot\u001B[0m \u001B[1;32mNone\u001B[0m\u001B[1;33m:\u001B[0m\u001B[1;33m\u001B[0m\u001B[1;33m\u001B[0m\u001B[0m\n\u001B[1;32m-> 4267\u001B[1;33m                 \u001B[0mobj\u001B[0m \u001B[1;33m=\u001B[0m \u001B[0mobj\u001B[0m\u001B[1;33m.\u001B[0m\u001B[0m_drop_axis\u001B[0m\u001B[1;33m(\u001B[0m\u001B[0mlabels\u001B[0m\u001B[1;33m,\u001B[0m \u001B[0maxis\u001B[0m\u001B[1;33m,\u001B[0m \u001B[0mlevel\u001B[0m\u001B[1;33m=\u001B[0m\u001B[0mlevel\u001B[0m\u001B[1;33m,\u001B[0m \u001B[0merrors\u001B[0m\u001B[1;33m=\u001B[0m\u001B[0merrors\u001B[0m\u001B[1;33m)\u001B[0m\u001B[1;33m\u001B[0m\u001B[1;33m\u001B[0m\u001B[0m\n\u001B[0m\u001B[0;32m   4268\u001B[0m \u001B[1;33m\u001B[0m\u001B[0m\n\u001B[0;32m   4269\u001B[0m         \u001B[1;32mif\u001B[0m \u001B[0minplace\u001B[0m\u001B[1;33m:\u001B[0m\u001B[1;33m\u001B[0m\u001B[1;33m\u001B[0m\u001B[0m\n",
      "\u001B[1;32m~\\anaconda3\\lib\\site-packages\\pandas\\core\\generic.py\u001B[0m in \u001B[0;36m_drop_axis\u001B[1;34m(self, labels, axis, level, errors, consolidate, only_slice)\u001B[0m\n\u001B[0;32m   4309\u001B[0m                 \u001B[0mnew_axis\u001B[0m \u001B[1;33m=\u001B[0m \u001B[0maxis\u001B[0m\u001B[1;33m.\u001B[0m\u001B[0mdrop\u001B[0m\u001B[1;33m(\u001B[0m\u001B[0mlabels\u001B[0m\u001B[1;33m,\u001B[0m \u001B[0mlevel\u001B[0m\u001B[1;33m=\u001B[0m\u001B[0mlevel\u001B[0m\u001B[1;33m,\u001B[0m \u001B[0merrors\u001B[0m\u001B[1;33m=\u001B[0m\u001B[0merrors\u001B[0m\u001B[1;33m)\u001B[0m\u001B[1;33m\u001B[0m\u001B[1;33m\u001B[0m\u001B[0m\n\u001B[0;32m   4310\u001B[0m             \u001B[1;32melse\u001B[0m\u001B[1;33m:\u001B[0m\u001B[1;33m\u001B[0m\u001B[1;33m\u001B[0m\u001B[0m\n\u001B[1;32m-> 4311\u001B[1;33m                 \u001B[0mnew_axis\u001B[0m \u001B[1;33m=\u001B[0m \u001B[0maxis\u001B[0m\u001B[1;33m.\u001B[0m\u001B[0mdrop\u001B[0m\u001B[1;33m(\u001B[0m\u001B[0mlabels\u001B[0m\u001B[1;33m,\u001B[0m \u001B[0merrors\u001B[0m\u001B[1;33m=\u001B[0m\u001B[0merrors\u001B[0m\u001B[1;33m)\u001B[0m\u001B[1;33m\u001B[0m\u001B[1;33m\u001B[0m\u001B[0m\n\u001B[0m\u001B[0;32m   4312\u001B[0m             \u001B[0mindexer\u001B[0m \u001B[1;33m=\u001B[0m \u001B[0maxis\u001B[0m\u001B[1;33m.\u001B[0m\u001B[0mget_indexer\u001B[0m\u001B[1;33m(\u001B[0m\u001B[0mnew_axis\u001B[0m\u001B[1;33m)\u001B[0m\u001B[1;33m\u001B[0m\u001B[1;33m\u001B[0m\u001B[0m\n\u001B[0;32m   4313\u001B[0m \u001B[1;33m\u001B[0m\u001B[0m\n",
      "\u001B[1;32m~\\anaconda3\\lib\\site-packages\\pandas\\core\\indexes\\base.py\u001B[0m in \u001B[0;36mdrop\u001B[1;34m(self, labels, errors)\u001B[0m\n\u001B[0;32m   6659\u001B[0m         \u001B[1;32mif\u001B[0m \u001B[0mmask\u001B[0m\u001B[1;33m.\u001B[0m\u001B[0many\u001B[0m\u001B[1;33m(\u001B[0m\u001B[1;33m)\u001B[0m\u001B[1;33m:\u001B[0m\u001B[1;33m\u001B[0m\u001B[1;33m\u001B[0m\u001B[0m\n\u001B[0;32m   6660\u001B[0m             \u001B[1;32mif\u001B[0m \u001B[0merrors\u001B[0m \u001B[1;33m!=\u001B[0m \u001B[1;34m\"ignore\"\u001B[0m\u001B[1;33m:\u001B[0m\u001B[1;33m\u001B[0m\u001B[1;33m\u001B[0m\u001B[0m\n\u001B[1;32m-> 6661\u001B[1;33m                 \u001B[1;32mraise\u001B[0m \u001B[0mKeyError\u001B[0m\u001B[1;33m(\u001B[0m\u001B[1;34mf\"{list(labels[mask])} not found in axis\"\u001B[0m\u001B[1;33m)\u001B[0m\u001B[1;33m\u001B[0m\u001B[1;33m\u001B[0m\u001B[0m\n\u001B[0m\u001B[0;32m   6662\u001B[0m             \u001B[0mindexer\u001B[0m \u001B[1;33m=\u001B[0m \u001B[0mindexer\u001B[0m\u001B[1;33m[\u001B[0m\u001B[1;33m~\u001B[0m\u001B[0mmask\u001B[0m\u001B[1;33m]\u001B[0m\u001B[1;33m\u001B[0m\u001B[1;33m\u001B[0m\u001B[0m\n\u001B[0;32m   6663\u001B[0m         \u001B[1;32mreturn\u001B[0m \u001B[0mself\u001B[0m\u001B[1;33m.\u001B[0m\u001B[0mdelete\u001B[0m\u001B[1;33m(\u001B[0m\u001B[0mindexer\u001B[0m\u001B[1;33m)\u001B[0m\u001B[1;33m\u001B[0m\u001B[1;33m\u001B[0m\u001B[0m\n",
      "\u001B[1;31mKeyError\u001B[0m: \"['stop_timezone', 'wheelchair_boarding', 'stop_url'] not found in axis\""
     ]
    }
   ],
   "source": [
    "df_stops.drop(columns=['stop_timezone', 'wheelchair_boarding', 'stop_url', ' location_type'], inplace=True)"
   ],
   "metadata": {
    "collapsed": false
   }
  },
  {
   "cell_type": "markdown",
   "source": [
    "Como está dando un error extraño, inspeccionamos las columnas para saber cual es el problema"
   ],
   "metadata": {
    "collapsed": false
   }
  },
  {
   "cell_type": "code",
   "execution_count": 4,
   "outputs": [
    {
     "data": {
      "text/plain": "['stop_id',\n 'stop_code',\n 'stop_name',\n 'stop_desc',\n 'stop_lat',\n 'stop_lon',\n 'zone_id',\n 'stop_url',\n 'location_type',\n 'parent_station',\n 'stop_timezone',\n 'wheelchair_boarding']"
     },
     "execution_count": 4,
     "metadata": {},
     "output_type": "execute_result"
    }
   ],
   "source": [
    "# Inspeccionar los nombres de las columnas para identificar espacios adicionales o caracteres inusuales\n",
    "column_names = [col.strip() for col in df_stops.columns]\n",
    "\n",
    "# Mostrar los nombres de las columnas después de eliminar los espacios adicionales\n",
    "column_names"
   ],
   "metadata": {
    "collapsed": false
   }
  },
  {
   "cell_type": "markdown",
   "source": [
    "Sustituimos los nombres para que coincidan y nos quitamos las columnas no deseadas"
   ],
   "metadata": {
    "collapsed": false
   }
  },
  {
   "cell_type": "code",
   "execution_count": 5,
   "outputs": [
    {
     "data": {
      "text/plain": "         stop_id  stop_code               stop_name  \\\n0      par_4_284        284  HOSPITAL INFANTA SOFIA   \n1      par_4_279        279             LA MORALEJA   \n2  acc_4_279_684        279                Ascensor   \n3      par_4_283        283         REYES CATOLICOS   \n4      par_4_280        280  MARQUES DE LA VALDAVIA   \n\n                             stop_desc  stop_lat  stop_lon zone_id  \\\n0                    Paseo   Europa 11  40.55977  -3.61145      B1   \n1                  Avda de la Ermita 5  40.53196  -3.63556      B1   \n2                  Avda de la Ermita 5  40.53199  -3.63548     NaN   \n3          Avda de la Plaza de Toros 7  40.55037  -3.62340      B1   \n4  Calle del Marqués de la Valdavia 21  40.54102  -3.63738      B1   \n\n  parent_station  \n0            NaN  \n1            NaN  \n2      est_4_279  \n3            NaN  \n4            NaN  ",
      "text/html": "<div>\n<style scoped>\n    .dataframe tbody tr th:only-of-type {\n        vertical-align: middle;\n    }\n\n    .dataframe tbody tr th {\n        vertical-align: top;\n    }\n\n    .dataframe thead th {\n        text-align: right;\n    }\n</style>\n<table border=\"1\" class=\"dataframe\">\n  <thead>\n    <tr style=\"text-align: right;\">\n      <th></th>\n      <th>stop_id</th>\n      <th>stop_code</th>\n      <th>stop_name</th>\n      <th>stop_desc</th>\n      <th>stop_lat</th>\n      <th>stop_lon</th>\n      <th>zone_id</th>\n      <th>parent_station</th>\n    </tr>\n  </thead>\n  <tbody>\n    <tr>\n      <th>0</th>\n      <td>par_4_284</td>\n      <td>284</td>\n      <td>HOSPITAL INFANTA SOFIA</td>\n      <td>Paseo   Europa 11</td>\n      <td>40.55977</td>\n      <td>-3.61145</td>\n      <td>B1</td>\n      <td>NaN</td>\n    </tr>\n    <tr>\n      <th>1</th>\n      <td>par_4_279</td>\n      <td>279</td>\n      <td>LA MORALEJA</td>\n      <td>Avda de la Ermita 5</td>\n      <td>40.53196</td>\n      <td>-3.63556</td>\n      <td>B1</td>\n      <td>NaN</td>\n    </tr>\n    <tr>\n      <th>2</th>\n      <td>acc_4_279_684</td>\n      <td>279</td>\n      <td>Ascensor</td>\n      <td>Avda de la Ermita 5</td>\n      <td>40.53199</td>\n      <td>-3.63548</td>\n      <td>NaN</td>\n      <td>est_4_279</td>\n    </tr>\n    <tr>\n      <th>3</th>\n      <td>par_4_283</td>\n      <td>283</td>\n      <td>REYES CATOLICOS</td>\n      <td>Avda de la Plaza de Toros 7</td>\n      <td>40.55037</td>\n      <td>-3.62340</td>\n      <td>B1</td>\n      <td>NaN</td>\n    </tr>\n    <tr>\n      <th>4</th>\n      <td>par_4_280</td>\n      <td>280</td>\n      <td>MARQUES DE LA VALDAVIA</td>\n      <td>Calle del Marqués de la Valdavia 21</td>\n      <td>40.54102</td>\n      <td>-3.63738</td>\n      <td>B1</td>\n      <td>NaN</td>\n    </tr>\n  </tbody>\n</table>\n</div>"
     },
     "execution_count": 5,
     "metadata": {},
     "output_type": "execute_result"
    }
   ],
   "source": [
    "# Eliminar específicamente las columnas 'stop_timezone' y 'wheelchair_boarding' después de ajustar los nombres de las columnas\n",
    "df_stops.columns = column_names\n",
    "df_stops = df_stops.drop(['stop_timezone', 'wheelchair_boarding', 'stop_url', 'location_type'], axis=1)\n",
    "\n",
    "# Mostrar las primeras filas del DataFrame corregido para confirmar la eliminación de las columnas\n",
    "df_stops.head()"
   ],
   "metadata": {
    "collapsed": false
   }
  },
  {
   "cell_type": "markdown",
   "source": [
    "Vamos a realizar la conexion a la BBDD y ejecutar el query para montar la estructura relacional de la misma con tablas dcon la siguiente información:\n",
    "1. **Tabla Stations**\n",
    "Columnas:\n",
    "station_id (VARCHAR, PRIMARY KEY): Basado en stop_id.\n",
    "station_code (INT): Basado en stop_code.\n",
    "name (VARCHAR): Basado en stop_name.\n",
    "description (VARCHAR): Basado en stop_desc.\n",
    "latitude (FLOAT): Basado en stop_lat.\n",
    "longitude (FLOAT): Basado en stop_lon.\n",
    "zone_id (VARCHAR): Basado en zone_id.\n",
    "\n",
    "2. **Tabla LocationTypes**\n",
    "Columnas:\n",
    "location_type_id (INT, PRIMARY KEY)\n",
    "description (VARCHAR)\n",
    "\n",
    "3. **Tabla StationLocationTypes**\n",
    "Columnas:\n",
    "station_id (VARCHAR): Clave foránea de Stations.\n",
    "location_type_id (INT): Clave foránea de LocationTypes.\n",
    "4. **Tabla ParentStations**\n",
    "Columnas:\n",
    "parent_station_id (VARCHAR, PRIMARY KEY)\n",
    "station_id (VARCHAR): Clave foránea de Stations."
   ],
   "metadata": {
    "collapsed": false
   }
  },
  {
   "cell_type": "code",
   "execution_count": 6,
   "outputs": [
    {
     "name": "stdout",
     "output_type": "stream",
     "text": [
      "Connected to MySQL database.\n",
      "Query executed successfully.\n",
      "Query executed successfully.\n"
     ]
    }
   ],
   "source": [
    "# Crear una instancia del conector\n",
    "connector = MySQLConnector(host=\"localhost\", user=\"lucaramirezo\", password=\"Familiaramirez4\", database=\"tnt\")\n",
    "# Conectar a la base de datos\n",
    "connector.connect()\n",
    "\n",
    "# Lista de consultas SQL para crear las tablas\n",
    "queries = [\n",
    "    \"\"\"\n",
    "    CREATE TABLE `Parent Stations` (\n",
    "    `station_id` VARCHAR(255) PRIMARY KEY,\n",
    "    `name` VARCHAR(255),\n",
    "    `description` VARCHAR(255),\n",
    "    `latitude` DOUBLE,\n",
    "    `longitude` DOUBLE,\n",
    "    `zone_id` VARCHAR(255)\n",
    ");\n",
    "\n",
    "\"\"\"\n",
    "    ,\n",
    "    \"\"\"\n",
    "    CREATE TABLE `Stops` (\n",
    "    `stop_id` VARCHAR(255) PRIMARY KEY,\n",
    "    `stop_code` INT,\n",
    "    `name` VARCHAR(255),\n",
    "    `description` VARCHAR(255),\n",
    "    `latitude` DOUBLE,\n",
    "    `longitude` DOUBLE,\n",
    "    `zone_id` VARCHAR(255),\n",
    "    `parent_station_id` VARCHAR(255),\n",
    "    FOREIGN KEY (`parent_station_id`) REFERENCES `Parent Stations`(`station_id`)\n",
    ");\n",
    "    \"\"\"\n",
    "]\n",
    "\n",
    "# Ejecutar cada consulta para crear las tablas\n",
    "for query in queries:\n",
    "    connector.execute_query(query)"
   ],
   "metadata": {
    "collapsed": false
   }
  },
  {
   "cell_type": "markdown",
   "source": [
    "Extraemos valores únicos de parent_station (excluyendo valores nulos o vacíos)"
   ],
   "metadata": {
    "collapsed": false
   }
  },
  {
   "cell_type": "code",
   "execution_count": 7,
   "outputs": [
    {
     "data": {
      "text/plain": "   station_id\n0   est_4_279\n1    est_4_57\n2   est_4_281\n3   est_4_280\n4   est_90_18\n5   est_4_278\n6   est_4_142\n7   est_90_25\n8    est_4_50\n9   est_90_71\n10  est_90_21\n11  est_4_103\n12   est_4_10",
      "text/html": "<div>\n<style scoped>\n    .dataframe tbody tr th:only-of-type {\n        vertical-align: middle;\n    }\n\n    .dataframe tbody tr th {\n        vertical-align: top;\n    }\n\n    .dataframe thead th {\n        text-align: right;\n    }\n</style>\n<table border=\"1\" class=\"dataframe\">\n  <thead>\n    <tr style=\"text-align: right;\">\n      <th></th>\n      <th>station_id</th>\n    </tr>\n  </thead>\n  <tbody>\n    <tr>\n      <th>0</th>\n      <td>est_4_279</td>\n    </tr>\n    <tr>\n      <th>1</th>\n      <td>est_4_57</td>\n    </tr>\n    <tr>\n      <th>2</th>\n      <td>est_4_281</td>\n    </tr>\n    <tr>\n      <th>3</th>\n      <td>est_4_280</td>\n    </tr>\n    <tr>\n      <th>4</th>\n      <td>est_90_18</td>\n    </tr>\n    <tr>\n      <th>5</th>\n      <td>est_4_278</td>\n    </tr>\n    <tr>\n      <th>6</th>\n      <td>est_4_142</td>\n    </tr>\n    <tr>\n      <th>7</th>\n      <td>est_90_25</td>\n    </tr>\n    <tr>\n      <th>8</th>\n      <td>est_4_50</td>\n    </tr>\n    <tr>\n      <th>9</th>\n      <td>est_90_71</td>\n    </tr>\n    <tr>\n      <th>10</th>\n      <td>est_90_21</td>\n    </tr>\n    <tr>\n      <th>11</th>\n      <td>est_4_103</td>\n    </tr>\n    <tr>\n      <th>12</th>\n      <td>est_4_10</td>\n    </tr>\n  </tbody>\n</table>\n</div>"
     },
     "execution_count": 7,
     "metadata": {},
     "output_type": "execute_result"
    }
   ],
   "source": [
    "unique_parent_stations = df_stops[df_stops['parent_station'].notna()]['parent_station'].unique()\n",
    "unique_parent_stations = pd.DataFrame(unique_parent_stations)\n",
    "unique_parent_stations.rename(columns={0:'station_id'}, inplace=True)\n",
    "unique_parent_stations"
   ],
   "metadata": {
    "collapsed": false
   }
  },
  {
   "cell_type": "markdown",
   "source": [
    "Extraer información completa para las estaciones padre"
   ],
   "metadata": {
    "collapsed": false
   }
  },
  {
   "cell_type": "code",
   "execution_count": 8,
   "outputs": [
    {
     "data": {
      "text/plain": "      stop_id  stop_code               stop_name  \\\n5   est_4_279        279             LA MORALEJA   \n6   est_4_278        278               LA GRANJA   \n17  est_4_280        280  MARQUES DE LA VALDAVIA   \n22  est_4_281        281         MANUEL DE FALLA   \n\n                              stop_desc  stop_lat  stop_lon zone_id  \\\n5                   Avda de la Ermita 5  40.53196  -3.63556      B1   \n6                  Calle de Sepúlveda 1  40.52760  -3.65859      B1   \n17  Calle del Marqués de la Valdavia 21  40.54102  -3.63738      B1   \n22           Calle   Manuel de Falla 59  40.55048  -3.64688      B1   \n\n   parent_station  \n5             NaN  \n6             NaN  \n17            NaN  \n22            NaN  ",
      "text/html": "<div>\n<style scoped>\n    .dataframe tbody tr th:only-of-type {\n        vertical-align: middle;\n    }\n\n    .dataframe tbody tr th {\n        vertical-align: top;\n    }\n\n    .dataframe thead th {\n        text-align: right;\n    }\n</style>\n<table border=\"1\" class=\"dataframe\">\n  <thead>\n    <tr style=\"text-align: right;\">\n      <th></th>\n      <th>stop_id</th>\n      <th>stop_code</th>\n      <th>stop_name</th>\n      <th>stop_desc</th>\n      <th>stop_lat</th>\n      <th>stop_lon</th>\n      <th>zone_id</th>\n      <th>parent_station</th>\n    </tr>\n  </thead>\n  <tbody>\n    <tr>\n      <th>5</th>\n      <td>est_4_279</td>\n      <td>279</td>\n      <td>LA MORALEJA</td>\n      <td>Avda de la Ermita 5</td>\n      <td>40.53196</td>\n      <td>-3.63556</td>\n      <td>B1</td>\n      <td>NaN</td>\n    </tr>\n    <tr>\n      <th>6</th>\n      <td>est_4_278</td>\n      <td>278</td>\n      <td>LA GRANJA</td>\n      <td>Calle de Sepúlveda 1</td>\n      <td>40.52760</td>\n      <td>-3.65859</td>\n      <td>B1</td>\n      <td>NaN</td>\n    </tr>\n    <tr>\n      <th>17</th>\n      <td>est_4_280</td>\n      <td>280</td>\n      <td>MARQUES DE LA VALDAVIA</td>\n      <td>Calle del Marqués de la Valdavia 21</td>\n      <td>40.54102</td>\n      <td>-3.63738</td>\n      <td>B1</td>\n      <td>NaN</td>\n    </tr>\n    <tr>\n      <th>22</th>\n      <td>est_4_281</td>\n      <td>281</td>\n      <td>MANUEL DE FALLA</td>\n      <td>Calle   Manuel de Falla 59</td>\n      <td>40.55048</td>\n      <td>-3.64688</td>\n      <td>B1</td>\n      <td>NaN</td>\n    </tr>\n  </tbody>\n</table>\n</div>"
     },
     "execution_count": 8,
     "metadata": {},
     "output_type": "execute_result"
    }
   ],
   "source": [
    "# Extraer información completa para las estaciones parentales\n",
    "parent_stations_info = df_stops[df_stops['stop_id'].isin(unique_parent_stations['station_id'])]\n",
    "parent_stations_info"
   ],
   "metadata": {
    "collapsed": false
   }
  },
  {
   "cell_type": "markdown",
   "source": [
    "Vemos que solo recibimos 4 entradas de estaciones padre que existen en el csv, pero hay más referenciadas. Procederemos a agregarlas a la tabla de estaciones padre para no perder la integridad de los datos y que estén relacionadas con sus estaciones padre"
   ],
   "metadata": {
    "collapsed": false
   }
  },
  {
   "cell_type": "code",
   "execution_count": 9,
   "outputs": [
    {
     "name": "stderr",
     "output_type": "stream",
     "text": [
      "C:\\Users\\Usuario\\AppData\\Local\\Temp\\ipykernel_15912\\3272272480.py:7: FutureWarning: The frame.append method is deprecated and will be removed from pandas in a future version. Use pandas.concat instead.\n",
      "  parent_stations_info = parent_stations_info.append(new_row, ignore_index=True)\n",
      "C:\\Users\\Usuario\\AppData\\Local\\Temp\\ipykernel_15912\\3272272480.py:7: FutureWarning: The frame.append method is deprecated and will be removed from pandas in a future version. Use pandas.concat instead.\n",
      "  parent_stations_info = parent_stations_info.append(new_row, ignore_index=True)\n",
      "C:\\Users\\Usuario\\AppData\\Local\\Temp\\ipykernel_15912\\3272272480.py:7: FutureWarning: The frame.append method is deprecated and will be removed from pandas in a future version. Use pandas.concat instead.\n",
      "  parent_stations_info = parent_stations_info.append(new_row, ignore_index=True)\n",
      "C:\\Users\\Usuario\\AppData\\Local\\Temp\\ipykernel_15912\\3272272480.py:7: FutureWarning: The frame.append method is deprecated and will be removed from pandas in a future version. Use pandas.concat instead.\n",
      "  parent_stations_info = parent_stations_info.append(new_row, ignore_index=True)\n",
      "C:\\Users\\Usuario\\AppData\\Local\\Temp\\ipykernel_15912\\3272272480.py:7: FutureWarning: The frame.append method is deprecated and will be removed from pandas in a future version. Use pandas.concat instead.\n",
      "  parent_stations_info = parent_stations_info.append(new_row, ignore_index=True)\n",
      "C:\\Users\\Usuario\\AppData\\Local\\Temp\\ipykernel_15912\\3272272480.py:7: FutureWarning: The frame.append method is deprecated and will be removed from pandas in a future version. Use pandas.concat instead.\n",
      "  parent_stations_info = parent_stations_info.append(new_row, ignore_index=True)\n",
      "C:\\Users\\Usuario\\AppData\\Local\\Temp\\ipykernel_15912\\3272272480.py:7: FutureWarning: The frame.append method is deprecated and will be removed from pandas in a future version. Use pandas.concat instead.\n",
      "  parent_stations_info = parent_stations_info.append(new_row, ignore_index=True)\n",
      "C:\\Users\\Usuario\\AppData\\Local\\Temp\\ipykernel_15912\\3272272480.py:7: FutureWarning: The frame.append method is deprecated and will be removed from pandas in a future version. Use pandas.concat instead.\n",
      "  parent_stations_info = parent_stations_info.append(new_row, ignore_index=True)\n",
      "C:\\Users\\Usuario\\AppData\\Local\\Temp\\ipykernel_15912\\3272272480.py:7: FutureWarning: The frame.append method is deprecated and will be removed from pandas in a future version. Use pandas.concat instead.\n",
      "  parent_stations_info = parent_stations_info.append(new_row, ignore_index=True)\n"
     ]
    },
    {
     "data": {
      "text/plain": "      stop_id  stop_code               stop_name  \\\n0   est_4_279      279.0             LA MORALEJA   \n1   est_4_278      278.0               LA GRANJA   \n2   est_4_280      280.0  MARQUES DE LA VALDAVIA   \n3   est_4_281      281.0         MANUEL DE FALLA   \n4    est_4_57        NaN      Nombre desconocido   \n5   est_90_18        NaN      Nombre desconocido   \n6   est_4_142        NaN      Nombre desconocido   \n7   est_90_25        NaN      Nombre desconocido   \n8    est_4_50        NaN      Nombre desconocido   \n9   est_90_71        NaN      Nombre desconocido   \n10  est_90_21        NaN      Nombre desconocido   \n11  est_4_103        NaN      Nombre desconocido   \n12   est_4_10        NaN      Nombre desconocido   \n\n                              stop_desc  stop_lat  stop_lon      zone_id  \\\n0                   Avda de la Ermita 5  40.53196  -3.63556           B1   \n1                  Calle de Sepúlveda 1  40.52760  -3.65859           B1   \n2   Calle del Marqués de la Valdavia 21  40.54102  -3.63738           B1   \n3            Calle   Manuel de Falla 59  40.55048  -3.64688           B1   \n4             Descripción no disponible   0.00000   0.00000  Desconocido   \n5             Descripción no disponible   0.00000   0.00000  Desconocido   \n6             Descripción no disponible   0.00000   0.00000  Desconocido   \n7             Descripción no disponible   0.00000   0.00000  Desconocido   \n8             Descripción no disponible   0.00000   0.00000  Desconocido   \n9             Descripción no disponible   0.00000   0.00000  Desconocido   \n10            Descripción no disponible   0.00000   0.00000  Desconocido   \n11            Descripción no disponible   0.00000   0.00000  Desconocido   \n12            Descripción no disponible   0.00000   0.00000  Desconocido   \n\n   parent_station  \n0             NaN  \n1             NaN  \n2             NaN  \n3             NaN  \n4             NaN  \n5             NaN  \n6             NaN  \n7             NaN  \n8             NaN  \n9             NaN  \n10            NaN  \n11            NaN  \n12            NaN  ",
      "text/html": "<div>\n<style scoped>\n    .dataframe tbody tr th:only-of-type {\n        vertical-align: middle;\n    }\n\n    .dataframe tbody tr th {\n        vertical-align: top;\n    }\n\n    .dataframe thead th {\n        text-align: right;\n    }\n</style>\n<table border=\"1\" class=\"dataframe\">\n  <thead>\n    <tr style=\"text-align: right;\">\n      <th></th>\n      <th>stop_id</th>\n      <th>stop_code</th>\n      <th>stop_name</th>\n      <th>stop_desc</th>\n      <th>stop_lat</th>\n      <th>stop_lon</th>\n      <th>zone_id</th>\n      <th>parent_station</th>\n    </tr>\n  </thead>\n  <tbody>\n    <tr>\n      <th>0</th>\n      <td>est_4_279</td>\n      <td>279.0</td>\n      <td>LA MORALEJA</td>\n      <td>Avda de la Ermita 5</td>\n      <td>40.53196</td>\n      <td>-3.63556</td>\n      <td>B1</td>\n      <td>NaN</td>\n    </tr>\n    <tr>\n      <th>1</th>\n      <td>est_4_278</td>\n      <td>278.0</td>\n      <td>LA GRANJA</td>\n      <td>Calle de Sepúlveda 1</td>\n      <td>40.52760</td>\n      <td>-3.65859</td>\n      <td>B1</td>\n      <td>NaN</td>\n    </tr>\n    <tr>\n      <th>2</th>\n      <td>est_4_280</td>\n      <td>280.0</td>\n      <td>MARQUES DE LA VALDAVIA</td>\n      <td>Calle del Marqués de la Valdavia 21</td>\n      <td>40.54102</td>\n      <td>-3.63738</td>\n      <td>B1</td>\n      <td>NaN</td>\n    </tr>\n    <tr>\n      <th>3</th>\n      <td>est_4_281</td>\n      <td>281.0</td>\n      <td>MANUEL DE FALLA</td>\n      <td>Calle   Manuel de Falla 59</td>\n      <td>40.55048</td>\n      <td>-3.64688</td>\n      <td>B1</td>\n      <td>NaN</td>\n    </tr>\n    <tr>\n      <th>4</th>\n      <td>est_4_57</td>\n      <td>NaN</td>\n      <td>Nombre desconocido</td>\n      <td>Descripción no disponible</td>\n      <td>0.00000</td>\n      <td>0.00000</td>\n      <td>Desconocido</td>\n      <td>NaN</td>\n    </tr>\n    <tr>\n      <th>5</th>\n      <td>est_90_18</td>\n      <td>NaN</td>\n      <td>Nombre desconocido</td>\n      <td>Descripción no disponible</td>\n      <td>0.00000</td>\n      <td>0.00000</td>\n      <td>Desconocido</td>\n      <td>NaN</td>\n    </tr>\n    <tr>\n      <th>6</th>\n      <td>est_4_142</td>\n      <td>NaN</td>\n      <td>Nombre desconocido</td>\n      <td>Descripción no disponible</td>\n      <td>0.00000</td>\n      <td>0.00000</td>\n      <td>Desconocido</td>\n      <td>NaN</td>\n    </tr>\n    <tr>\n      <th>7</th>\n      <td>est_90_25</td>\n      <td>NaN</td>\n      <td>Nombre desconocido</td>\n      <td>Descripción no disponible</td>\n      <td>0.00000</td>\n      <td>0.00000</td>\n      <td>Desconocido</td>\n      <td>NaN</td>\n    </tr>\n    <tr>\n      <th>8</th>\n      <td>est_4_50</td>\n      <td>NaN</td>\n      <td>Nombre desconocido</td>\n      <td>Descripción no disponible</td>\n      <td>0.00000</td>\n      <td>0.00000</td>\n      <td>Desconocido</td>\n      <td>NaN</td>\n    </tr>\n    <tr>\n      <th>9</th>\n      <td>est_90_71</td>\n      <td>NaN</td>\n      <td>Nombre desconocido</td>\n      <td>Descripción no disponible</td>\n      <td>0.00000</td>\n      <td>0.00000</td>\n      <td>Desconocido</td>\n      <td>NaN</td>\n    </tr>\n    <tr>\n      <th>10</th>\n      <td>est_90_21</td>\n      <td>NaN</td>\n      <td>Nombre desconocido</td>\n      <td>Descripción no disponible</td>\n      <td>0.00000</td>\n      <td>0.00000</td>\n      <td>Desconocido</td>\n      <td>NaN</td>\n    </tr>\n    <tr>\n      <th>11</th>\n      <td>est_4_103</td>\n      <td>NaN</td>\n      <td>Nombre desconocido</td>\n      <td>Descripción no disponible</td>\n      <td>0.00000</td>\n      <td>0.00000</td>\n      <td>Desconocido</td>\n      <td>NaN</td>\n    </tr>\n    <tr>\n      <th>12</th>\n      <td>est_4_10</td>\n      <td>NaN</td>\n      <td>Nombre desconocido</td>\n      <td>Descripción no disponible</td>\n      <td>0.00000</td>\n      <td>0.00000</td>\n      <td>Desconocido</td>\n      <td>NaN</td>\n    </tr>\n  </tbody>\n</table>\n</div>"
     },
     "execution_count": 9,
     "metadata": {},
     "output_type": "execute_result"
    }
   ],
   "source": [
    "for station_id in unique_parent_stations['station_id']:\n",
    "    if station_id not in parent_stations_info['stop_id'].values:\n",
    "        # Crea un registro nuevo con valores nulos o predeterminados\n",
    "        new_row = {'stop_id': station_id, 'stop_name': 'Nombre desconocido', 'stop_desc': 'Descripción no disponible',\n",
    "                   'stop_lat': 0.0, 'stop_lon': 0.0, 'zone_id': 'Desconocido'}\n",
    "        # Añade este nuevo registro a parent_stations_info\n",
    "        parent_stations_info = parent_stations_info.append(new_row, ignore_index=True)\n",
    "parent_stations_info"
   ],
   "metadata": {
    "collapsed": false
   }
  },
  {
   "cell_type": "code",
   "execution_count": 10,
   "outputs": [
    {
     "data": {
      "text/plain": "     stop_id               stop_name                            stop_desc  \\\n0  est_4_279             LA MORALEJA                  Avda de la Ermita 5   \n1  est_4_278               LA GRANJA                 Calle de Sepúlveda 1   \n2  est_4_280  MARQUES DE LA VALDAVIA  Calle del Marqués de la Valdavia 21   \n3  est_4_281         MANUEL DE FALLA           Calle   Manuel de Falla 59   \n4   est_4_57      Nombre desconocido            Descripción no disponible   \n\n   stop_lat  stop_lon      zone_id  \n0  40.53196  -3.63556           B1  \n1  40.52760  -3.65859           B1  \n2  40.54102  -3.63738           B1  \n3  40.55048  -3.64688           B1  \n4   0.00000   0.00000  Desconocido  ",
      "text/html": "<div>\n<style scoped>\n    .dataframe tbody tr th:only-of-type {\n        vertical-align: middle;\n    }\n\n    .dataframe tbody tr th {\n        vertical-align: top;\n    }\n\n    .dataframe thead th {\n        text-align: right;\n    }\n</style>\n<table border=\"1\" class=\"dataframe\">\n  <thead>\n    <tr style=\"text-align: right;\">\n      <th></th>\n      <th>stop_id</th>\n      <th>stop_name</th>\n      <th>stop_desc</th>\n      <th>stop_lat</th>\n      <th>stop_lon</th>\n      <th>zone_id</th>\n    </tr>\n  </thead>\n  <tbody>\n    <tr>\n      <th>0</th>\n      <td>est_4_279</td>\n      <td>LA MORALEJA</td>\n      <td>Avda de la Ermita 5</td>\n      <td>40.53196</td>\n      <td>-3.63556</td>\n      <td>B1</td>\n    </tr>\n    <tr>\n      <th>1</th>\n      <td>est_4_278</td>\n      <td>LA GRANJA</td>\n      <td>Calle de Sepúlveda 1</td>\n      <td>40.52760</td>\n      <td>-3.65859</td>\n      <td>B1</td>\n    </tr>\n    <tr>\n      <th>2</th>\n      <td>est_4_280</td>\n      <td>MARQUES DE LA VALDAVIA</td>\n      <td>Calle del Marqués de la Valdavia 21</td>\n      <td>40.54102</td>\n      <td>-3.63738</td>\n      <td>B1</td>\n    </tr>\n    <tr>\n      <th>3</th>\n      <td>est_4_281</td>\n      <td>MANUEL DE FALLA</td>\n      <td>Calle   Manuel de Falla 59</td>\n      <td>40.55048</td>\n      <td>-3.64688</td>\n      <td>B1</td>\n    </tr>\n    <tr>\n      <th>4</th>\n      <td>est_4_57</td>\n      <td>Nombre desconocido</td>\n      <td>Descripción no disponible</td>\n      <td>0.00000</td>\n      <td>0.00000</td>\n      <td>Desconocido</td>\n    </tr>\n  </tbody>\n</table>\n</div>"
     },
     "execution_count": 10,
     "metadata": {},
     "output_type": "execute_result"
    }
   ],
   "source": [
    "parent_stations_info.drop(columns=['parent_station','stop_code'], inplace=True)\n",
    "parent_stations_info.head()"
   ],
   "metadata": {
    "collapsed": false
   }
  },
  {
   "cell_type": "markdown",
   "source": [
    "Introducimos los datos del dataframe parent_stations_info en la tabla Parent stations"
   ],
   "metadata": {
    "collapsed": false
   }
  },
  {
   "cell_type": "code",
   "execution_count": 11,
   "outputs": [
    {
     "name": "stdout",
     "output_type": "stream",
     "text": [
      "Query executed successfully.\n",
      "Query executed successfully.\n",
      "Query executed successfully.\n",
      "Query executed successfully.\n",
      "Query executed successfully.\n",
      "Query executed successfully.\n",
      "Query executed successfully.\n",
      "Query executed successfully.\n",
      "Query executed successfully.\n",
      "Query executed successfully.\n",
      "Query executed successfully.\n",
      "Query executed successfully.\n",
      "Query executed successfully.\n"
     ]
    }
   ],
   "source": [
    "# Iterar sobre cada fila del DataFrame para preparar y ejecutar las consultas SQL\n",
    "for index, row in parent_stations_info.iterrows():\n",
    "    query = f\"\"\"\n",
    "    INSERT INTO `Parent Stations` (station_id, name, description, latitude, longitude, zone_id)\n",
    "    VALUES ('{row['stop_id']}', '{row['stop_name']}', '{row['stop_desc']}', {row['stop_lat']}, {row['stop_lon']}, '{row['zone_id']}');\n",
    "    \"\"\"\n",
    "    connector.execute_query(query)"
   ],
   "metadata": {
    "collapsed": false
   }
  },
  {
   "cell_type": "markdown",
   "source": [
    "Preparamos un df para introducir a la tabla Stops sin redundar con la tabla Parent stations"
   ],
   "metadata": {
    "collapsed": false
   }
  },
  {
   "cell_type": "code",
   "execution_count": 12,
   "outputs": [
    {
     "name": "stderr",
     "output_type": "stream",
     "text": [
      "C:\\Users\\Usuario\\AppData\\Local\\Temp\\ipykernel_15912\\1171700199.py:3: SettingWithCopyWarning: \n",
      "A value is trying to be set on a copy of a slice from a DataFrame.\n",
      "Try using .loc[row_indexer,col_indexer] = value instead\n",
      "\n",
      "See the caveats in the documentation: https://pandas.pydata.org/pandas-docs/stable/user_guide/indexing.html#returning-a-view-versus-a-copy\n",
      "  stops_to_insert['parent_station'] = stops_to_insert['parent_station'].fillna('NULL')\n"
     ]
    },
    {
     "data": {
      "text/plain": "         stop_id  stop_code               stop_name  \\\n0      par_4_284        284  HOSPITAL INFANTA SOFIA   \n1      par_4_279        279             LA MORALEJA   \n2  acc_4_279_684        279                Ascensor   \n3      par_4_283        283         REYES CATOLICOS   \n4      par_4_280        280  MARQUES DE LA VALDAVIA   \n\n                             stop_desc  stop_lat  stop_lon zone_id  \\\n0                    Paseo   Europa 11  40.55977  -3.61145      B1   \n1                  Avda de la Ermita 5  40.53196  -3.63556      B1   \n2                  Avda de la Ermita 5  40.53199  -3.63548     NaN   \n3          Avda de la Plaza de Toros 7  40.55037  -3.62340      B1   \n4  Calle del Marqués de la Valdavia 21  40.54102  -3.63738      B1   \n\n  parent_station  \n0           NULL  \n1           NULL  \n2      est_4_279  \n3           NULL  \n4           NULL  ",
      "text/html": "<div>\n<style scoped>\n    .dataframe tbody tr th:only-of-type {\n        vertical-align: middle;\n    }\n\n    .dataframe tbody tr th {\n        vertical-align: top;\n    }\n\n    .dataframe thead th {\n        text-align: right;\n    }\n</style>\n<table border=\"1\" class=\"dataframe\">\n  <thead>\n    <tr style=\"text-align: right;\">\n      <th></th>\n      <th>stop_id</th>\n      <th>stop_code</th>\n      <th>stop_name</th>\n      <th>stop_desc</th>\n      <th>stop_lat</th>\n      <th>stop_lon</th>\n      <th>zone_id</th>\n      <th>parent_station</th>\n    </tr>\n  </thead>\n  <tbody>\n    <tr>\n      <th>0</th>\n      <td>par_4_284</td>\n      <td>284</td>\n      <td>HOSPITAL INFANTA SOFIA</td>\n      <td>Paseo   Europa 11</td>\n      <td>40.55977</td>\n      <td>-3.61145</td>\n      <td>B1</td>\n      <td>NULL</td>\n    </tr>\n    <tr>\n      <th>1</th>\n      <td>par_4_279</td>\n      <td>279</td>\n      <td>LA MORALEJA</td>\n      <td>Avda de la Ermita 5</td>\n      <td>40.53196</td>\n      <td>-3.63556</td>\n      <td>B1</td>\n      <td>NULL</td>\n    </tr>\n    <tr>\n      <th>2</th>\n      <td>acc_4_279_684</td>\n      <td>279</td>\n      <td>Ascensor</td>\n      <td>Avda de la Ermita 5</td>\n      <td>40.53199</td>\n      <td>-3.63548</td>\n      <td>NaN</td>\n      <td>est_4_279</td>\n    </tr>\n    <tr>\n      <th>3</th>\n      <td>par_4_283</td>\n      <td>283</td>\n      <td>REYES CATOLICOS</td>\n      <td>Avda de la Plaza de Toros 7</td>\n      <td>40.55037</td>\n      <td>-3.62340</td>\n      <td>B1</td>\n      <td>NULL</td>\n    </tr>\n    <tr>\n      <th>4</th>\n      <td>par_4_280</td>\n      <td>280</td>\n      <td>MARQUES DE LA VALDAVIA</td>\n      <td>Calle del Marqués de la Valdavia 21</td>\n      <td>40.54102</td>\n      <td>-3.63738</td>\n      <td>B1</td>\n      <td>NULL</td>\n    </tr>\n  </tbody>\n</table>\n</div>"
     },
     "execution_count": 12,
     "metadata": {},
     "output_type": "execute_result"
    }
   ],
   "source": [
    "stops_to_insert = df_stops[~df_stops['stop_id'].isin(parent_stations_info['stop_id'])]\n",
    "\n",
    "stops_to_insert['parent_station'] = stops_to_insert['parent_station'].fillna('NULL')\n",
    "stops_to_insert.head()"
   ],
   "metadata": {
    "collapsed": false
   }
  },
  {
   "cell_type": "markdown",
   "source": [
    "Introducimos los datos del dataframe stops_to_insert en la tabla Stops tratando con los nulos en parent_station ya que es un FK"
   ],
   "metadata": {
    "collapsed": false
   }
  },
  {
   "cell_type": "code",
   "execution_count": 13,
   "outputs": [
    {
     "name": "stdout",
     "output_type": "stream",
     "text": [
      "Query executed successfully.\n",
      "Query executed successfully.\n",
      "Query executed successfully.\n",
      "Query executed successfully.\n",
      "Query executed successfully.\n",
      "Query executed successfully.\n",
      "Query executed successfully.\n",
      "Query executed successfully.\n",
      "Query executed successfully.\n",
      "Query executed successfully.\n",
      "Query executed successfully.\n",
      "Query executed successfully.\n",
      "Query executed successfully.\n",
      "Query executed successfully.\n",
      "Query executed successfully.\n",
      "Query executed successfully.\n",
      "Query executed successfully.\n",
      "Query executed successfully.\n",
      "Query executed successfully.\n",
      "Query executed successfully.\n",
      "Query executed successfully.\n",
      "Query executed successfully.\n",
      "Query executed successfully.\n",
      "Query executed successfully.\n",
      "Query executed successfully.\n",
      "Query executed successfully.\n",
      "Query executed successfully.\n",
      "Query executed successfully.\n",
      "Query executed successfully.\n",
      "Query executed successfully.\n",
      "Query executed successfully.\n",
      "Query executed successfully.\n",
      "Query executed successfully.\n",
      "Query executed successfully.\n",
      "Query executed successfully.\n",
      "Query executed successfully.\n",
      "Query executed successfully.\n",
      "Query executed successfully.\n",
      "Query executed successfully.\n"
     ]
    }
   ],
   "source": [
    "# Iterar sobre cada fila del DataFrame para preparar y ejecutar las consultas SQL\n",
    "for index, row in stops_to_insert.iterrows():\n",
    "    # Verificar si parent_station debe ser tratado como NULL en SQL\n",
    "    parent_station_value = 'NULL' if row['parent_station'] == 'NULL' else f\"'{row['parent_station']}'\"\n",
    "\n",
    "    # Preparar la consulta SQL teniendo en cuenta el tratamiento correcto de NULL\n",
    "    query = f\"\"\"\n",
    "    INSERT INTO `Stops` (stop_id, stop_code, name, description, latitude, longitude, zone_id, parent_station_id)\n",
    "    VALUES ('{row['stop_id']}', {row['stop_code']}, '{row['stop_name']}', '{row['stop_desc']}', {row['stop_lat']}, {row['stop_lon']}, '{row['zone_id']}', {parent_station_value});\n",
    "    \"\"\"\n",
    "\n",
    "    connector.execute_query(query)\n"
   ],
   "metadata": {
    "collapsed": false
   }
  },
  {
   "cell_type": "markdown",
   "source": [
    "Leemos ahora datos especificos en las tablas ejecutando sentencias como SELECT, UPDATE o VIEW"
   ],
   "metadata": {
    "collapsed": false
   }
  },
  {
   "cell_type": "markdown",
   "source": [
    "## Casos de Uso de las Tablas"
   ],
   "metadata": {
    "collapsed": false
   }
  },
  {
   "cell_type": "markdown",
   "source": [
    "### Consultar todas las paradas junto con su estación parental"
   ],
   "metadata": {
    "collapsed": false
   }
  },
  {
   "cell_type": "code",
   "execution_count": 15,
   "outputs": [
    {
     "data": {
      "text/plain": "          stop_id                 stop_name  latitude  longitude  \\\n0   acc_4_278_685                 La Granja  40.52763   -3.65865   \n1   acc_4_278_686                  Ascensor  40.52772   -3.65855   \n2   acc_4_279_683            Avda. Bruselas  40.53187   -3.63550   \n3   acc_4_279_684                  Ascensor  40.53199   -3.63548   \n4   acc_4_280_680    Marqués de la Valdavia  40.54112   -3.63739   \n5   acc_4_280_681                  Ascensor  40.54107   -3.63755   \n6   acc_4_281_678           Manuel de Falla  40.55044   -3.64708   \n7   acc_4_281_679                  Ascensor  40.55063   -3.64682   \n8       par_4_187                FUENCARRAL  40.49509   -3.69283   \n9       par_4_188                    BEGOÑA  40.48041   -3.68585   \n10      par_4_189                 CHAMARTIN  40.47210   -3.68259   \n11      par_4_190         PLAZA DE CASTILLA  40.46690   -3.68909   \n12      par_4_191                     CUZCO  40.45842   -3.68985   \n13      par_4_192         SANTIAGO BERNABEU  40.45159   -3.69038   \n14      par_4_193        NUEVOS MINISTERIOS  40.44659   -3.69241   \n15      par_4_194          GREGORIO MARAÑON  40.43753   -3.69127   \n16      par_4_195           ALONSO MARTINEZ  40.42853   -3.69643   \n17      par_4_196                  TRIBUNAL  40.42600   -3.70208   \n18      par_4_197           PLAZA DE ESPAÑA  40.42409   -3.70970   \n19      par_4_198              PRINCIPE PIO  40.42103   -3.72033   \n20      par_4_199                      LAGO  40.41641   -3.73563   \n21      par_4_200                     BATAN  40.40786   -3.75311   \n22      par_4_201             CASA DE CAMPO  40.40321   -3.76101   \n23      par_4_202            COLONIA JARDIN  40.39698   -3.77462   \n24      par_4_203            CUATRO VIENTOS  40.37771   -3.79152   \n25      par_4_204       JOAQUIN VILUMBRALES  40.34985   -3.80720   \n26      par_4_205            PUERTA DEL SUR  40.34524   -3.81211   \n27      par_4_257         AVIACION ESPAÑOLA  40.38364   -3.78392   \n28      par_4_274               TRES OLIVOS  40.50120   -3.69520   \n29      par_4_275              MONTECARMELO  40.50525   -3.69575   \n30      par_4_276                LAS TABLAS  40.50833   -3.66944   \n31      par_4_277  RONDA DE LA COMUNICACION  40.51553   -3.66277   \n32      par_4_278                 LA GRANJA  40.52760   -3.65859   \n33      par_4_279               LA MORALEJA  40.53196   -3.63556   \n34      par_4_280    MARQUES DE LA VALDAVIA  40.54102   -3.63738   \n35      par_4_281           MANUEL DE FALLA  40.55048   -3.64688   \n36      par_4_282                  BAUNATAL  40.55442   -3.63513   \n37      par_4_283           REYES CATOLICOS  40.55037   -3.62340   \n38      par_4_284    HOSPITAL INFANTA SOFIA  40.55977   -3.61145   \n\n   parent_station_id     parent_station_name  \n0          est_4_278               LA GRANJA  \n1          est_4_278               LA GRANJA  \n2          est_4_279             LA MORALEJA  \n3          est_4_279             LA MORALEJA  \n4          est_4_280  MARQUES DE LA VALDAVIA  \n5          est_4_280  MARQUES DE LA VALDAVIA  \n6          est_4_281         MANUEL DE FALLA  \n7          est_4_281         MANUEL DE FALLA  \n8               None                    None  \n9               None                    None  \n10         est_90_25      Nombre desconocido  \n11         est_90_21      Nombre desconocido  \n12              None                    None  \n13              None                    None  \n14         est_90_71      Nombre desconocido  \n15         est_4_142      Nombre desconocido  \n16          est_4_57      Nombre desconocido  \n17          est_4_10      Nombre desconocido  \n18          est_4_50      Nombre desconocido  \n19         est_90_18      Nombre desconocido  \n20              None                    None  \n21              None                    None  \n22         est_4_103      Nombre desconocido  \n23              None                    None  \n24              None                    None  \n25              None                    None  \n26              None                    None  \n27              None                    None  \n28              None                    None  \n29              None                    None  \n30              None                    None  \n31              None                    None  \n32              None                    None  \n33              None                    None  \n34              None                    None  \n35              None                    None  \n36              None                    None  \n37              None                    None  \n38              None                    None  ",
      "text/html": "<div>\n<style scoped>\n    .dataframe tbody tr th:only-of-type {\n        vertical-align: middle;\n    }\n\n    .dataframe tbody tr th {\n        vertical-align: top;\n    }\n\n    .dataframe thead th {\n        text-align: right;\n    }\n</style>\n<table border=\"1\" class=\"dataframe\">\n  <thead>\n    <tr style=\"text-align: right;\">\n      <th></th>\n      <th>stop_id</th>\n      <th>stop_name</th>\n      <th>latitude</th>\n      <th>longitude</th>\n      <th>parent_station_id</th>\n      <th>parent_station_name</th>\n    </tr>\n  </thead>\n  <tbody>\n    <tr>\n      <th>0</th>\n      <td>acc_4_278_685</td>\n      <td>La Granja</td>\n      <td>40.52763</td>\n      <td>-3.65865</td>\n      <td>est_4_278</td>\n      <td>LA GRANJA</td>\n    </tr>\n    <tr>\n      <th>1</th>\n      <td>acc_4_278_686</td>\n      <td>Ascensor</td>\n      <td>40.52772</td>\n      <td>-3.65855</td>\n      <td>est_4_278</td>\n      <td>LA GRANJA</td>\n    </tr>\n    <tr>\n      <th>2</th>\n      <td>acc_4_279_683</td>\n      <td>Avda. Bruselas</td>\n      <td>40.53187</td>\n      <td>-3.63550</td>\n      <td>est_4_279</td>\n      <td>LA MORALEJA</td>\n    </tr>\n    <tr>\n      <th>3</th>\n      <td>acc_4_279_684</td>\n      <td>Ascensor</td>\n      <td>40.53199</td>\n      <td>-3.63548</td>\n      <td>est_4_279</td>\n      <td>LA MORALEJA</td>\n    </tr>\n    <tr>\n      <th>4</th>\n      <td>acc_4_280_680</td>\n      <td>Marqués de la Valdavia</td>\n      <td>40.54112</td>\n      <td>-3.63739</td>\n      <td>est_4_280</td>\n      <td>MARQUES DE LA VALDAVIA</td>\n    </tr>\n    <tr>\n      <th>5</th>\n      <td>acc_4_280_681</td>\n      <td>Ascensor</td>\n      <td>40.54107</td>\n      <td>-3.63755</td>\n      <td>est_4_280</td>\n      <td>MARQUES DE LA VALDAVIA</td>\n    </tr>\n    <tr>\n      <th>6</th>\n      <td>acc_4_281_678</td>\n      <td>Manuel de Falla</td>\n      <td>40.55044</td>\n      <td>-3.64708</td>\n      <td>est_4_281</td>\n      <td>MANUEL DE FALLA</td>\n    </tr>\n    <tr>\n      <th>7</th>\n      <td>acc_4_281_679</td>\n      <td>Ascensor</td>\n      <td>40.55063</td>\n      <td>-3.64682</td>\n      <td>est_4_281</td>\n      <td>MANUEL DE FALLA</td>\n    </tr>\n    <tr>\n      <th>8</th>\n      <td>par_4_187</td>\n      <td>FUENCARRAL</td>\n      <td>40.49509</td>\n      <td>-3.69283</td>\n      <td>None</td>\n      <td>None</td>\n    </tr>\n    <tr>\n      <th>9</th>\n      <td>par_4_188</td>\n      <td>BEGOÑA</td>\n      <td>40.48041</td>\n      <td>-3.68585</td>\n      <td>None</td>\n      <td>None</td>\n    </tr>\n    <tr>\n      <th>10</th>\n      <td>par_4_189</td>\n      <td>CHAMARTIN</td>\n      <td>40.47210</td>\n      <td>-3.68259</td>\n      <td>est_90_25</td>\n      <td>Nombre desconocido</td>\n    </tr>\n    <tr>\n      <th>11</th>\n      <td>par_4_190</td>\n      <td>PLAZA DE CASTILLA</td>\n      <td>40.46690</td>\n      <td>-3.68909</td>\n      <td>est_90_21</td>\n      <td>Nombre desconocido</td>\n    </tr>\n    <tr>\n      <th>12</th>\n      <td>par_4_191</td>\n      <td>CUZCO</td>\n      <td>40.45842</td>\n      <td>-3.68985</td>\n      <td>None</td>\n      <td>None</td>\n    </tr>\n    <tr>\n      <th>13</th>\n      <td>par_4_192</td>\n      <td>SANTIAGO BERNABEU</td>\n      <td>40.45159</td>\n      <td>-3.69038</td>\n      <td>None</td>\n      <td>None</td>\n    </tr>\n    <tr>\n      <th>14</th>\n      <td>par_4_193</td>\n      <td>NUEVOS MINISTERIOS</td>\n      <td>40.44659</td>\n      <td>-3.69241</td>\n      <td>est_90_71</td>\n      <td>Nombre desconocido</td>\n    </tr>\n    <tr>\n      <th>15</th>\n      <td>par_4_194</td>\n      <td>GREGORIO MARAÑON</td>\n      <td>40.43753</td>\n      <td>-3.69127</td>\n      <td>est_4_142</td>\n      <td>Nombre desconocido</td>\n    </tr>\n    <tr>\n      <th>16</th>\n      <td>par_4_195</td>\n      <td>ALONSO MARTINEZ</td>\n      <td>40.42853</td>\n      <td>-3.69643</td>\n      <td>est_4_57</td>\n      <td>Nombre desconocido</td>\n    </tr>\n    <tr>\n      <th>17</th>\n      <td>par_4_196</td>\n      <td>TRIBUNAL</td>\n      <td>40.42600</td>\n      <td>-3.70208</td>\n      <td>est_4_10</td>\n      <td>Nombre desconocido</td>\n    </tr>\n    <tr>\n      <th>18</th>\n      <td>par_4_197</td>\n      <td>PLAZA DE ESPAÑA</td>\n      <td>40.42409</td>\n      <td>-3.70970</td>\n      <td>est_4_50</td>\n      <td>Nombre desconocido</td>\n    </tr>\n    <tr>\n      <th>19</th>\n      <td>par_4_198</td>\n      <td>PRINCIPE PIO</td>\n      <td>40.42103</td>\n      <td>-3.72033</td>\n      <td>est_90_18</td>\n      <td>Nombre desconocido</td>\n    </tr>\n    <tr>\n      <th>20</th>\n      <td>par_4_199</td>\n      <td>LAGO</td>\n      <td>40.41641</td>\n      <td>-3.73563</td>\n      <td>None</td>\n      <td>None</td>\n    </tr>\n    <tr>\n      <th>21</th>\n      <td>par_4_200</td>\n      <td>BATAN</td>\n      <td>40.40786</td>\n      <td>-3.75311</td>\n      <td>None</td>\n      <td>None</td>\n    </tr>\n    <tr>\n      <th>22</th>\n      <td>par_4_201</td>\n      <td>CASA DE CAMPO</td>\n      <td>40.40321</td>\n      <td>-3.76101</td>\n      <td>est_4_103</td>\n      <td>Nombre desconocido</td>\n    </tr>\n    <tr>\n      <th>23</th>\n      <td>par_4_202</td>\n      <td>COLONIA JARDIN</td>\n      <td>40.39698</td>\n      <td>-3.77462</td>\n      <td>None</td>\n      <td>None</td>\n    </tr>\n    <tr>\n      <th>24</th>\n      <td>par_4_203</td>\n      <td>CUATRO VIENTOS</td>\n      <td>40.37771</td>\n      <td>-3.79152</td>\n      <td>None</td>\n      <td>None</td>\n    </tr>\n    <tr>\n      <th>25</th>\n      <td>par_4_204</td>\n      <td>JOAQUIN VILUMBRALES</td>\n      <td>40.34985</td>\n      <td>-3.80720</td>\n      <td>None</td>\n      <td>None</td>\n    </tr>\n    <tr>\n      <th>26</th>\n      <td>par_4_205</td>\n      <td>PUERTA DEL SUR</td>\n      <td>40.34524</td>\n      <td>-3.81211</td>\n      <td>None</td>\n      <td>None</td>\n    </tr>\n    <tr>\n      <th>27</th>\n      <td>par_4_257</td>\n      <td>AVIACION ESPAÑOLA</td>\n      <td>40.38364</td>\n      <td>-3.78392</td>\n      <td>None</td>\n      <td>None</td>\n    </tr>\n    <tr>\n      <th>28</th>\n      <td>par_4_274</td>\n      <td>TRES OLIVOS</td>\n      <td>40.50120</td>\n      <td>-3.69520</td>\n      <td>None</td>\n      <td>None</td>\n    </tr>\n    <tr>\n      <th>29</th>\n      <td>par_4_275</td>\n      <td>MONTECARMELO</td>\n      <td>40.50525</td>\n      <td>-3.69575</td>\n      <td>None</td>\n      <td>None</td>\n    </tr>\n    <tr>\n      <th>30</th>\n      <td>par_4_276</td>\n      <td>LAS TABLAS</td>\n      <td>40.50833</td>\n      <td>-3.66944</td>\n      <td>None</td>\n      <td>None</td>\n    </tr>\n    <tr>\n      <th>31</th>\n      <td>par_4_277</td>\n      <td>RONDA DE LA COMUNICACION</td>\n      <td>40.51553</td>\n      <td>-3.66277</td>\n      <td>None</td>\n      <td>None</td>\n    </tr>\n    <tr>\n      <th>32</th>\n      <td>par_4_278</td>\n      <td>LA GRANJA</td>\n      <td>40.52760</td>\n      <td>-3.65859</td>\n      <td>None</td>\n      <td>None</td>\n    </tr>\n    <tr>\n      <th>33</th>\n      <td>par_4_279</td>\n      <td>LA MORALEJA</td>\n      <td>40.53196</td>\n      <td>-3.63556</td>\n      <td>None</td>\n      <td>None</td>\n    </tr>\n    <tr>\n      <th>34</th>\n      <td>par_4_280</td>\n      <td>MARQUES DE LA VALDAVIA</td>\n      <td>40.54102</td>\n      <td>-3.63738</td>\n      <td>None</td>\n      <td>None</td>\n    </tr>\n    <tr>\n      <th>35</th>\n      <td>par_4_281</td>\n      <td>MANUEL DE FALLA</td>\n      <td>40.55048</td>\n      <td>-3.64688</td>\n      <td>None</td>\n      <td>None</td>\n    </tr>\n    <tr>\n      <th>36</th>\n      <td>par_4_282</td>\n      <td>BAUNATAL</td>\n      <td>40.55442</td>\n      <td>-3.63513</td>\n      <td>None</td>\n      <td>None</td>\n    </tr>\n    <tr>\n      <th>37</th>\n      <td>par_4_283</td>\n      <td>REYES CATOLICOS</td>\n      <td>40.55037</td>\n      <td>-3.62340</td>\n      <td>None</td>\n      <td>None</td>\n    </tr>\n    <tr>\n      <th>38</th>\n      <td>par_4_284</td>\n      <td>HOSPITAL INFANTA SOFIA</td>\n      <td>40.55977</td>\n      <td>-3.61145</td>\n      <td>None</td>\n      <td>None</td>\n    </tr>\n  </tbody>\n</table>\n</div>"
     },
     "execution_count": 15,
     "metadata": {},
     "output_type": "execute_result"
    }
   ],
   "source": [
    "query =\"\"\"\n",
    "SELECT s.stop_id, s.name AS stop_name, s.latitude, s.longitude, p.station_id AS parent_station_id, p.name AS parent_station_name\n",
    "FROM Stops s\n",
    "LEFT JOIN `Parent Stations` p ON s.parent_station_id = p.station_id;\n",
    "\"\"\"\n",
    "df_padres_hijos = connector.fetch_data_as_df(query)\n",
    "df_padres_hijos"
   ],
   "metadata": {
    "collapsed": false
   }
  },
  {
   "cell_type": "markdown",
   "source": [
    "### Encontrar paradas sin estación parental"
   ],
   "metadata": {
    "collapsed": false
   }
  },
  {
   "cell_type": "code",
   "execution_count": 16,
   "outputs": [
    {
     "data": {
      "text/plain": "      stop_id                      name                          description\n0   par_4_187                FUENCARRAL          Calle de la Fuente Chica 21\n1   par_4_188                    BEGOÑA           Paseo de la Castellana 261\n2   par_4_191                     CUZCO           Paseo de la Castellana 162\n3   par_4_192         SANTIAGO BERNABEU            Paseo de la Castellana 97\n4   par_4_199                      LAGO                     Ronda del Lago 3\n5   par_4_200                     BATAN                  Paseo de la Venta 1\n6   par_4_202            COLONIA JARDIN       Calle de Arenas de San Pedro 2\n7   par_4_203            CUATRO VIENTOS  Col   Militar de Cuatro Vientos 6 B\n8   par_4_204       JOAQUIN VILUMBRALES               Avda de la Libertad 13\n9   par_4_205            PUERTA DEL SUR                Avda de la Libertad 2\n10  par_4_257         AVIACION ESPAÑOLA             Paseo de Extremadura 463\n11  par_4_274               TRES OLIVOS                     Acces   M-607 SN\n12  par_4_275              MONTECARMELO     Avda de Monasterio de Silos 63 A\n13  par_4_276                LAS TABLAS             Calle de Palas de Rey 30\n14  par_4_277  RONDA DE LA COMUNICACION          Ronda de la Comunicación 22\n15  par_4_278                 LA GRANJA                 Calle de Sepúlveda 1\n16  par_4_279               LA MORALEJA                  Avda de la Ermita 5\n17  par_4_280    MARQUES DE LA VALDAVIA  Calle del Marqués de la Valdavia 21\n18  par_4_281           MANUEL DE FALLA           Calle   Manuel de Falla 59\n19  par_4_282                  BAUNATAL          Avda de las Lomas del Rey 2\n20  par_4_283           REYES CATOLICOS          Avda de la Plaza de Toros 7\n21  par_4_284    HOSPITAL INFANTA SOFIA                    Paseo   Europa 11",
      "text/html": "<div>\n<style scoped>\n    .dataframe tbody tr th:only-of-type {\n        vertical-align: middle;\n    }\n\n    .dataframe tbody tr th {\n        vertical-align: top;\n    }\n\n    .dataframe thead th {\n        text-align: right;\n    }\n</style>\n<table border=\"1\" class=\"dataframe\">\n  <thead>\n    <tr style=\"text-align: right;\">\n      <th></th>\n      <th>stop_id</th>\n      <th>name</th>\n      <th>description</th>\n    </tr>\n  </thead>\n  <tbody>\n    <tr>\n      <th>0</th>\n      <td>par_4_187</td>\n      <td>FUENCARRAL</td>\n      <td>Calle de la Fuente Chica 21</td>\n    </tr>\n    <tr>\n      <th>1</th>\n      <td>par_4_188</td>\n      <td>BEGOÑA</td>\n      <td>Paseo de la Castellana 261</td>\n    </tr>\n    <tr>\n      <th>2</th>\n      <td>par_4_191</td>\n      <td>CUZCO</td>\n      <td>Paseo de la Castellana 162</td>\n    </tr>\n    <tr>\n      <th>3</th>\n      <td>par_4_192</td>\n      <td>SANTIAGO BERNABEU</td>\n      <td>Paseo de la Castellana 97</td>\n    </tr>\n    <tr>\n      <th>4</th>\n      <td>par_4_199</td>\n      <td>LAGO</td>\n      <td>Ronda del Lago 3</td>\n    </tr>\n    <tr>\n      <th>5</th>\n      <td>par_4_200</td>\n      <td>BATAN</td>\n      <td>Paseo de la Venta 1</td>\n    </tr>\n    <tr>\n      <th>6</th>\n      <td>par_4_202</td>\n      <td>COLONIA JARDIN</td>\n      <td>Calle de Arenas de San Pedro 2</td>\n    </tr>\n    <tr>\n      <th>7</th>\n      <td>par_4_203</td>\n      <td>CUATRO VIENTOS</td>\n      <td>Col   Militar de Cuatro Vientos 6 B</td>\n    </tr>\n    <tr>\n      <th>8</th>\n      <td>par_4_204</td>\n      <td>JOAQUIN VILUMBRALES</td>\n      <td>Avda de la Libertad 13</td>\n    </tr>\n    <tr>\n      <th>9</th>\n      <td>par_4_205</td>\n      <td>PUERTA DEL SUR</td>\n      <td>Avda de la Libertad 2</td>\n    </tr>\n    <tr>\n      <th>10</th>\n      <td>par_4_257</td>\n      <td>AVIACION ESPAÑOLA</td>\n      <td>Paseo de Extremadura 463</td>\n    </tr>\n    <tr>\n      <th>11</th>\n      <td>par_4_274</td>\n      <td>TRES OLIVOS</td>\n      <td>Acces   M-607 SN</td>\n    </tr>\n    <tr>\n      <th>12</th>\n      <td>par_4_275</td>\n      <td>MONTECARMELO</td>\n      <td>Avda de Monasterio de Silos 63 A</td>\n    </tr>\n    <tr>\n      <th>13</th>\n      <td>par_4_276</td>\n      <td>LAS TABLAS</td>\n      <td>Calle de Palas de Rey 30</td>\n    </tr>\n    <tr>\n      <th>14</th>\n      <td>par_4_277</td>\n      <td>RONDA DE LA COMUNICACION</td>\n      <td>Ronda de la Comunicación 22</td>\n    </tr>\n    <tr>\n      <th>15</th>\n      <td>par_4_278</td>\n      <td>LA GRANJA</td>\n      <td>Calle de Sepúlveda 1</td>\n    </tr>\n    <tr>\n      <th>16</th>\n      <td>par_4_279</td>\n      <td>LA MORALEJA</td>\n      <td>Avda de la Ermita 5</td>\n    </tr>\n    <tr>\n      <th>17</th>\n      <td>par_4_280</td>\n      <td>MARQUES DE LA VALDAVIA</td>\n      <td>Calle del Marqués de la Valdavia 21</td>\n    </tr>\n    <tr>\n      <th>18</th>\n      <td>par_4_281</td>\n      <td>MANUEL DE FALLA</td>\n      <td>Calle   Manuel de Falla 59</td>\n    </tr>\n    <tr>\n      <th>19</th>\n      <td>par_4_282</td>\n      <td>BAUNATAL</td>\n      <td>Avda de las Lomas del Rey 2</td>\n    </tr>\n    <tr>\n      <th>20</th>\n      <td>par_4_283</td>\n      <td>REYES CATOLICOS</td>\n      <td>Avda de la Plaza de Toros 7</td>\n    </tr>\n    <tr>\n      <th>21</th>\n      <td>par_4_284</td>\n      <td>HOSPITAL INFANTA SOFIA</td>\n      <td>Paseo   Europa 11</td>\n    </tr>\n  </tbody>\n</table>\n</div>"
     },
     "execution_count": 16,
     "metadata": {},
     "output_type": "execute_result"
    }
   ],
   "source": [
    "query= '''\n",
    "SELECT stop_id, name, description\n",
    "FROM Stops\n",
    "WHERE parent_station_id IS NULL;\n",
    "'''\n",
    "df_stops_without_parent= connector.fetch_data_as_df(query)\n",
    "df_stops_without_parent"
   ],
   "metadata": {
    "collapsed": false
   }
  }
 ],
 "metadata": {
  "kernelspec": {
   "display_name": "Python 3",
   "language": "python",
   "name": "python3"
  },
  "language_info": {
   "codemirror_mode": {
    "name": "ipython",
    "version": 2
   },
   "file_extension": ".py",
   "mimetype": "text/x-python",
   "name": "python",
   "nbconvert_exporter": "python",
   "pygments_lexer": "ipython2",
   "version": "2.7.6"
  }
 },
 "nbformat": 4,
 "nbformat_minor": 0
}
