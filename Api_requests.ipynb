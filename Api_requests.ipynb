{
 "cells": [
  {
   "metadata": {
    "ExecuteTime": {
     "end_time": "2024-04-22T16:23:51.290191Z",
     "start_time": "2024-04-22T16:23:51.277389Z"
    }
   },
   "cell_type": "code",
   "source": [
    "import subprocess\n",
    "import asyncio\n",
    "\n",
    "\n",
    "async def run_script():\n",
    "    # Crear un proceso para ejecutar el servidor sin bloquear el cuaderno\n",
    "    process = await asyncio.create_subprocess_exec(\n",
    "        'python3', 'tnt_api.py',\n",
    "        stdout=subprocess.PIPE,\n",
    "        stderr=subprocess.PIPE)\n",
    "\n",
    "    try:\n",
    "        # Salidas del programa\n",
    "        stdout, stderr = await process.communicate()\n",
    "\n",
    "        if process.returncode == 0:\n",
    "            print(\"Script ejecutado exitosamente:\\n\", stdout.decode())\n",
    "        else:\n",
    "            print(\"Error en la ejecución del script:\\n\", stderr.decode())\n",
    "    except asyncio.CancelledError:\n",
    "        print(\"Tarea cancelada, cerrando el proceso.\")\n",
    "        process.terminate()\n",
    "        await process.wait()\n",
    "        raise\n",
    "\n",
    "\n",
    "# Ejecutar la función en el event loop de asyncio\n",
    "task = asyncio.create_task(run_script())\n"
   ],
   "outputs": [],
   "execution_count": 1
  },
  {
   "metadata": {
    "ExecuteTime": {
     "end_time": "2024-04-22T16:23:51.315249Z",
     "start_time": "2024-04-22T16:23:51.311316Z"
    }
   },
   "cell_type": "code",
   "source": [
    "def stop_task():\n",
    "    global task\n",
    "    if task is not None:\n",
    "        task.cancel()\n",
    "        print(\"Cancelación de la tarea iniciada.\")\n",
    "    else:\n",
    "        print(\"Tarea no encontrada\")"
   ],
   "outputs": [],
   "execution_count": 2
  },
  {
   "metadata": {},
   "cell_type": "markdown",
   "source": "Request de distritos -> Petición de todos los nombres de los distritos"
  },
  {
   "cell_type": "code",
   "source": [
    "import requests\n",
    "\n",
    "response = requests.get('http://127.0.0.1:18000/distritos')\n",
    "print(response.status_code)\n",
    "print(response.text)"
   ],
   "metadata": {
    "collapsed": false,
    "ExecuteTime": {
     "end_time": "2024-04-22T16:26:08.789269Z",
     "start_time": "2024-04-22T16:26:08.717443Z"
    }
   },
   "outputs": [
    {
     "name": "stdout",
     "output_type": "stream",
     "text": [
      "200\n",
      "{\"Distritos\":[\"DESCONOCIDO\",\"CENTRO\",\"ARGANZUELA\",\"RETIRO\",\"SALAMANCA\",\"CHAMARTÍN\",\"TETUÁN\",\"CHAMBERÍ\",\"FUENCARRAL-EL PARDO\",\"MONCLOA-ARAVACA\",\"LATINA\",\"CARABANCHEL\",\"USERA\",\"PUENTE DE VALLECAS\",\"MORATALAZ\",\"CIUDAD LINEAL\",\"HORTALEZA\",\"VILLAVERDE\",\"VILLA DE VALLECAS\",\"VICÁLVARO\",\"SAN BLAS-CANILLEJAS\",\"BARAJAS\"]}\n"
     ]
    }
   ],
   "execution_count": 2
  },
  {
   "metadata": {},
   "cell_type": "markdown",
   "source": ""
  },
  {
   "metadata": {},
   "cell_type": "markdown",
   "source": "Recuperar el distrito con código 4 "
  },
  {
   "metadata": {
    "ExecuteTime": {
     "end_time": "2024-04-22T16:26:10.918885Z",
     "start_time": "2024-04-22T16:26:10.903374Z"
    }
   },
   "cell_type": "code",
   "source": [
    "response = requests.get('http://127.0.0.1:18000/distritos/4')\n",
    "print(response.status_code)\n",
    "print(response.text)"
   ],
   "outputs": [
    {
     "name": "stdout",
     "output_type": "stream",
     "text": [
      "200\n",
      "{\"Distrito\":\"SALAMANCA\"}\n"
     ]
    }
   ],
   "execution_count": 3
  },
  {
   "metadata": {},
   "cell_type": "markdown",
   "source": "Insertar un radar"
  },
  {
   "metadata": {
    "ExecuteTime": {
     "end_time": "2024-04-22T16:43:15.854550Z",
     "start_time": "2024-04-22T16:43:15.815473Z"
    }
   },
   "cell_type": "code",
   "source": [
    "import requests\n",
    "\n",
    "# URL de la API\n",
    "url = 'http://127.0.0.1:18000/radares'\n",
    "\n",
    "# Datos a enviar, asegúrate de que todos los campos requeridos estén incluidos\n",
    "data = {\n",
    "    'id': 999,\n",
    "    'ubicacion': \"Ubicación ejemplo\",\n",
    "    'carretera': \"Carretera ejemplo\",\n",
    "    'punto_kilometrico': 42069.0,\n",
    "    # Campos opcionales pueden ser omitidos o asignados a None si no se desea enviarlos\n",
    "    'sentido': None,\n",
    "    'tipo': None,\n",
    "    'longitud': None,\n",
    "    'latitud': None,\n",
    "    'coordenadas': None,\n",
    "    'cod_distrito': None\n",
    "}\n",
    "\n",
    "# Realizar la petición POST con datos JSON\n",
    "response = requests.post(url, json=data)\n",
    "\n",
    "# Imprimir la respuesta del servidor\n",
    "print(response.text)\n"
   ],
   "outputs": [
    {
     "name": "stdout",
     "output_type": "stream",
     "text": [
      "{\"message\":\"Radar insertado con éxito\",\"radar_id\":999}\n"
     ]
    }
   ],
   "execution_count": 16
  },
  {
   "metadata": {},
   "cell_type": "markdown",
   "source": "Eliminar el radar insertado"
  },
  {
   "metadata": {
    "ExecuteTime": {
     "end_time": "2024-04-22T16:43:22.662137Z",
     "start_time": "2024-04-22T16:43:22.630789Z"
    }
   },
   "cell_type": "code",
   "source": [
    "from my_connector import MySQLConnector\n",
    "\n",
    "connector_helper = MySQLConnector(host=\"localhost\", user=\"root\", password=\"root\", database=\"TNT\")\n",
    "connector_helper.connect()\n",
    "query = \"\"\"\n",
    "DELETE FROM RadaresFijos where id = 999\n",
    "\"\"\"\n",
    "connector_helper.execute(query)\n",
    "connector_helper.commit()\n",
    "connector_helper.close()"
   ],
   "outputs": [
    {
     "name": "stdout",
     "output_type": "stream",
     "text": [
      "Connected to MySQL database.\n",
      "Query executed successfully.\n",
      "Changes committed successfully.\n",
      "Connection closed.\n"
     ]
    }
   ],
   "execution_count": 17
  },
  {
   "metadata": {},
   "cell_type": "markdown",
   "source": "Insertar un accidente dummy para ser borrado"
  },
  {
   "metadata": {
    "ExecuteTime": {
     "end_time": "2024-04-22T16:45:29.601056Z",
     "start_time": "2024-04-22T16:45:29.568872Z"
    }
   },
   "cell_type": "code",
   "source": [
    "from my_connector import MySQLConnector\n",
    "\n",
    "connector_helper = MySQLConnector(host=\"localhost\", user=\"root\", password=\"root\", database=\"TNT\")\n",
    "connector_helper.connect()\n",
    "query = \"\"\"\n",
    "Insert into Accidentes values (9999,'2022-01-03','10:00:00',\"CALL. FRANCISCO DE ROJAS, 3\",3,7,'Colisión lateral',440666.893,4475580.114,0,0,0\n",
    ")\n",
    "\"\"\"\n",
    "connector_helper.execute(query)\n",
    "connector_helper.commit()\n",
    "connector_helper.close()"
   ],
   "outputs": [
    {
     "name": "stdout",
     "output_type": "stream",
     "text": [
      "Connected to MySQL database.\n",
      "Query executed successfully.\n",
      "Changes committed successfully.\n",
      "Connection closed.\n"
     ]
    }
   ],
   "execution_count": 19
  },
  {
   "metadata": {},
   "cell_type": "markdown",
   "source": "Borrar el accidente dummy insertado"
  },
  {
   "metadata": {
    "ExecuteTime": {
     "end_time": "2024-04-22T16:50:11.105798Z",
     "start_time": "2024-04-22T16:50:11.094200Z"
    }
   },
   "cell_type": "code",
   "source": [
    "data = {\n",
    "    'num_expediente': '9999'\n",
    "}\n",
    "\n",
    "response = requests.delete('http://127.0.0.1:18000/borrar_accidente', data=data)\n",
    "print(response.status_code)\n",
    "print(response.text)"
   ],
   "outputs": [
    {
     "name": "stdout",
     "output_type": "stream",
     "text": [
      "422\n",
      "{\"detail\":[{\"loc\":[\"body\"],\"msg\":\"value is not a valid dict\",\"type\":\"type_error.dict\"}]}\n"
     ]
    }
   ],
   "execution_count": 25
  }
 ],
 "metadata": {
  "kernelspec": {
   "display_name": "Python 3",
   "language": "python",
   "name": "python3"
  },
  "language_info": {
   "codemirror_mode": {
    "name": "ipython",
    "version": 2
   },
   "file_extension": ".py",
   "mimetype": "text/x-python",
   "name": "python",
   "nbconvert_exporter": "python",
   "pygments_lexer": "ipython2",
   "version": "2.7.6"
  }
 },
 "nbformat": 4,
 "nbformat_minor": 0
}
